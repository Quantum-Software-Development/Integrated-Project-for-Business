{
 "cells": [
  {
   "cell_type": "code",
   "execution_count": 7,
   "metadata": {},
   "outputs": [],
   "source": [
    "# Importação das bibliotecas necessárias\n",
    "import pandas as pd\n",
    "import numpy as np\n",
    "import statsmodels.api as sm\n",
    "from sklearn.model_selection import train_test_split\n",
    "from sklearn.metrics import confusion_matrix, classification_report, roc_curve, auc\n",
    "import seaborn as sns\n",
    "import matplotlib.pyplot as plt"
   ]
  },
  {
   "cell_type": "code",
   "execution_count": 9,
   "metadata": {},
   "outputs": [],
   "source": [
    "data = pd.read_excel('/Users/fabicampanari/Desktop/Regressão Logística/Exam_2-Logostic Regession/propensao doença.xlsx')"
   ]
  },
  {
   "cell_type": "code",
   "execution_count": 10,
   "metadata": {},
   "outputs": [
    {
     "name": "stdout",
     "output_type": "stream",
     "text": [
      "Visualização inicial dos dados:\n",
      "   Doença  Proteina1  Proteina2  Proteina3  Proteina4  Proteina5  Proteina6\n",
      "0       1        0.8       0.83       0.66        1.9      1.100      0.996\n",
      "1       1        0.9       0.36       0.32        1.4      0.740      0.992\n",
      "2       0        0.8       0.88       0.70        0.8      0.176      0.982\n",
      "3       0        1.0       0.87       0.87        0.7      1.053      0.986\n",
      "4       1        0.9       0.75       0.68        1.3      0.519      0.980\n"
     ]
    }
   ],
   "source": [
    "# Exibir as primeiras linhas do dataset\n",
    "print(\"Visualização inicial dos dados:\")\n",
    "print(data.head())"
   ]
  },
  {
   "cell_type": "code",
   "execution_count": 11,
   "metadata": {},
   "outputs": [
    {
     "name": "stdout",
     "output_type": "stream",
     "text": [
      "\n",
      "Verificando valores ausentes:\n",
      "Doença       0\n",
      "Proteina1    0\n",
      "Proteina2    0\n",
      "Proteina3    0\n",
      "Proteina4    0\n",
      "Proteina5    0\n",
      "Proteina6    0\n",
      "dtype: int64\n"
     ]
    }
   ],
   "source": [
    "# Passo 2: Pré-processamento dos dados\n",
    "# Verificar valores ausentes\n",
    "print(\"\\nVerificando valores ausentes:\")\n",
    "print(data.isnull().sum())"
   ]
  },
  {
   "cell_type": "code",
   "execution_count": 13,
   "metadata": {},
   "outputs": [],
   "source": [
    "# Tratar valores ausentes (se houver)\n",
    "if data.isnull().sum().sum() > 0:\n",
    "    data = data.fillna(0)  # Substituir valores ausentes por 0 (ou outro método apropriado)"
   ]
  },
  {
   "cell_type": "code",
   "execution_count": 15,
   "metadata": {},
   "outputs": [],
   "source": [
    "# Separar as variáveis independentes (X) e dependente (y)\n",
    "X = data.drop('Doença', axis=1)  # Substitua 'Doença' pelo nome da variável dependente no arquivo\n",
    "y = data['Doença']  # Variável dependente (incidência da doença)"
   ]
  },
  {
   "cell_type": "code",
   "execution_count": 16,
   "metadata": {},
   "outputs": [],
   "source": [
    "# Adicionar uma constante para o intercepto\n",
    "X = sm.add_constant(X)"
   ]
  },
  {
   "cell_type": "code",
   "execution_count": 18,
   "metadata": {},
   "outputs": [],
   "source": [
    "# Passo 3: Dividir os dados em treino e teste\n",
    "X_train, X_test, y_train, y_test = train_test_split(X, y, test_size=0.2, random_state=42)"
   ]
  },
  {
   "cell_type": "code",
   "execution_count": 19,
   "metadata": {},
   "outputs": [
    {
     "name": "stdout",
     "output_type": "stream",
     "text": [
      "Optimization terminated successfully.\n",
      "         Current function value: 0.482917\n",
      "         Iterations 9\n",
      "\n",
      "Resumo do Modelo Inicial:\n",
      "                           Logit Regression Results                           \n",
      "==============================================================================\n",
      "Dep. Variable:                 Doença   No. Observations:                   21\n",
      "Model:                          Logit   Df Residuals:                       14\n",
      "Method:                           MLE   Df Model:                            6\n",
      "Date:                Mon, 31 Mar 2025   Pseudo R-squ.:                  0.2733\n",
      "Time:                        11:33:19   Log-Likelihood:                -10.141\n",
      "converged:                       True   LL-Null:                       -13.955\n",
      "Covariance Type:            nonrobust   LLR p-value:                    0.2667\n",
      "==============================================================================\n",
      "                 coef    std err          z      P>|z|      [0.025      0.975]\n",
      "------------------------------------------------------------------------------\n",
      "const         43.4054     71.086      0.611      0.541     -95.920     182.731\n",
      "Proteina1     18.4344     44.327      0.416      0.678     -68.445     105.314\n",
      "Proteina2     12.0716     56.395      0.214      0.831     -98.460     122.603\n",
      "Proteina3    -12.4414     60.288     -0.206      0.837    -130.603     105.720\n",
      "Proteina4      3.2714      2.225      1.470      0.142      -1.090       7.633\n",
      "Proteina5     -0.2183      2.294     -0.095      0.924      -4.714       4.278\n",
      "Proteina6    -65.3484     65.103     -1.004      0.315    -192.949      62.252\n",
      "==============================================================================\n"
     ]
    }
   ],
   "source": [
    "# Passo 4: Ajustar o modelo de regressão logística inicial\n",
    "model = sm.Logit(y_train, X_train).fit()\n",
    "\n",
    "# Exibir o resumo do modelo inicial\n",
    "print(\"\\nResumo do Modelo Inicial:\")\n",
    "print(model.summary())"
   ]
  },
  {
   "cell_type": "code",
   "execution_count": 58,
   "metadata": {},
   "outputs": [],
   "source": [
    "# Passo 5: Aplicar o método Stepwise\n",
    "# Função para aplicar o método stepwise\n",
    "def stepwise_selection(X, y, initial_list=[], threshold_in=0.05, threshold_out=0.10):\n",
    "    \"\"\"\n",
    "    Realiza a seleção de variáveis usando o método stepwise.\n",
    "    \"\"\"\n",
    "    included = list(initial_list)\n",
    "    while True:\n",
    "        changed = False\n",
    "        # Testar adição de novas variáveis\n",
    "        excluded = list(set(X.columns) - set(included))\n",
    "        new_pval = pd.Series(index=excluded)\n",
    "        for new_column in excluded:\n",
    "            model = sm.Logit(y, sm.add_constant(X[included + [new_column]])).fit(disp=0)\n",
    "            new_pval[new_column] = model.pvalues[new_column]\n",
    "        best_pval = new_pval.min()\n",
    "        if best_pval < threshold_in:\n",
    "            best_feature = new_pval.idxmin()\n",
    "            included.append(best_feature)\n",
    "            changed = True\n",
    "\n",
    "        # Testar remoção de variáveis\n",
    "        model = sm.Logit(y, sm.add_constant(X[included])).fit(disp=0)\n",
    "        pvalues = model.pvalues.iloc[1:]  # Excluir a constante\n",
    "        worst_pval = pvalues.max()\n",
    "        if worst_pval > threshold_out:\n",
    "            worst_feature = pvalues.idxmax()\n",
    "            included.remove(worst_feature)\n",
    "            changed = True\n",
    "\n",
    "        if not changed:\n",
    "            break\n",
    "    return included"
   ]
  },
  {
   "cell_type": "code",
   "execution_count": 62,
   "metadata": {},
   "outputs": [
    {
     "name": "stdout",
     "output_type": "stream",
     "text": [
      "\n",
      "Variáveis selecionadas pelo método Stepwise:\n",
      "[]\n"
     ]
    }
   ],
   "source": [
    "# Aplicar o método stepwise\n",
    "selected_features = stepwise_selection(X_train, y_train)\n",
    "print(\"\\nVariáveis selecionadas pelo método Stepwise:\")\n",
    "print(selected_features)"
   ]
  },
  {
   "cell_type": "code",
   "execution_count": 65,
   "metadata": {},
   "outputs": [
    {
     "name": "stdout",
     "output_type": "stream",
     "text": [
      "Nenhuma variável foi selecionada. Usando todas as variáveis.\n",
      "Optimization terminated successfully.\n",
      "         Current function value: 0.482917\n",
      "         Iterations 9\n"
     ]
    }
   ],
   "source": [
    "# Ajustar o modelo final com as variáveis selecionadas\n",
    "if not selected_features:  # Verificar se a lista de variáveis selecionadas está vazia\n",
    "\tprint(\"Nenhuma variável foi selecionada. Usando todas as variáveis.\")\n",
    "\tselected_features = X_train.columns.tolist()  # Usar todas as variáveis\n",
    "\n",
    "X_train_selected = X_train[selected_features]\n",
    "X_test_selected = X_test[selected_features]\n",
    "\n",
    "# Ajustar o modelo final\n",
    "model_final = sm.Logit(y_train, X_train_selected).fit()"
   ]
  },
  {
   "cell_type": "code",
   "execution_count": 66,
   "metadata": {},
   "outputs": [
    {
     "name": "stdout",
     "output_type": "stream",
     "text": [
      "\n",
      "Resumo do Modelo Final:\n",
      "                           Logit Regression Results                           \n",
      "==============================================================================\n",
      "Dep. Variable:                 Doença   No. Observations:                   21\n",
      "Model:                          Logit   Df Residuals:                       14\n",
      "Method:                           MLE   Df Model:                            6\n",
      "Date:                Mon, 31 Mar 2025   Pseudo R-squ.:                  0.2733\n",
      "Time:                        11:46:49   Log-Likelihood:                -10.141\n",
      "converged:                       True   LL-Null:                       -13.955\n",
      "Covariance Type:            nonrobust   LLR p-value:                    0.2667\n",
      "==============================================================================\n",
      "                 coef    std err          z      P>|z|      [0.025      0.975]\n",
      "------------------------------------------------------------------------------\n",
      "const         43.4054     71.086      0.611      0.541     -95.920     182.731\n",
      "Proteina1     18.4344     44.327      0.416      0.678     -68.445     105.314\n",
      "Proteina2     12.0716     56.395      0.214      0.831     -98.460     122.603\n",
      "Proteina3    -12.4414     60.288     -0.206      0.837    -130.603     105.720\n",
      "Proteina4      3.2714      2.225      1.470      0.142      -1.090       7.633\n",
      "Proteina5     -0.2183      2.294     -0.095      0.924      -4.714       4.278\n",
      "Proteina6    -65.3484     65.103     -1.004      0.315    -192.949      62.252\n",
      "==============================================================================\n"
     ]
    }
   ],
   "source": [
    "# Exibir o resumo do modelo final\n",
    "print(\"\\nResumo do Modelo Final:\")\n",
    "print(model_final.summary())"
   ]
  },
  {
   "cell_type": "code",
   "execution_count": 67,
   "metadata": {},
   "outputs": [
    {
     "name": "stdout",
     "output_type": "stream",
     "text": [
      "\n",
      "Equação do Modelo Final:\n",
      "logit(P) = 43.4054 + (18.4344 * Proteina1) + (12.0716 * Proteina2) + (-12.4414 * Proteina3) + (3.2714 * Proteina4) + (-0.2183 * Proteina5) + (-65.3484 * Proteina6) \n"
     ]
    },
    {
     "name": "stderr",
     "output_type": "stream",
     "text": [
      "/var/folders/sp/qr0jn46s10x5j0y77wb390d00000gn/T/ipykernel_16663/3857465752.py:3: FutureWarning: Series.__getitem__ treating keys as positions is deprecated. In a future version, integer keys will always be treated as labels (consistent with DataFrame behavior). To access a value by position, use `ser.iloc[pos]`\n",
      "  print(f\"logit(P) = {model_final.params[0]:.4f} \", end=\"\")\n"
     ]
    }
   ],
   "source": [
    "# Exibir a equação do modelo final\n",
    "print(\"\\nEquação do Modelo Final:\")\n",
    "print(f\"logit(P) = {model_final.params[0]:.4f} \", end=\"\")\n",
    "for i, (var, coef) in enumerate(model_final.params[1:].items(), start=1):\n",
    "    print(f\"+ ({coef:.4f} * {var}) \", end=\"\")\n",
    "print()"
   ]
  },
  {
   "cell_type": "code",
   "execution_count": 68,
   "metadata": {},
   "outputs": [],
   "source": [
    "# Passo 6: Avaliar a qualidade do ajuste do modelo\n",
    "# Fazer previsões no conjunto de teste\n",
    "y_pred = model_final.predict(X_test_selected)\n",
    "y_pred_class = (y_pred > 0.5).astype(int)"
   ]
  },
  {
   "cell_type": "code",
   "execution_count": null,
   "metadata": {},
   "outputs": [],
   "source": [
    "# Matriz de confusão\n",
    "conf_matrix = confusion_matrix(y_test, y_pred_class)\n",
    "print(\"\\nMatriz de Confusão:\")\n",
    "print(conf_matrix)"
   ]
  },
  {
   "cell_type": "code",
   "execution_count": 69,
   "metadata": {},
   "outputs": [
    {
     "name": "stdout",
     "output_type": "stream",
     "text": [
      "\n",
      "Relatório de Classificação:\n",
      "              precision    recall  f1-score   support\n",
      "\n",
      "           0       1.00      1.00      1.00         5\n",
      "           1       1.00      1.00      1.00         1\n",
      "\n",
      "    accuracy                           1.00         6\n",
      "   macro avg       1.00      1.00      1.00         6\n",
      "weighted avg       1.00      1.00      1.00         6\n",
      "\n"
     ]
    }
   ],
   "source": [
    "\n",
    "# Relatório de classificação\n",
    "print(\"\\nRelatório de Classificação:\")\n",
    "print(classification_report(y_test, y_pred_class))"
   ]
  },
  {
   "cell_type": "code",
   "execution_count": 71,
   "metadata": {},
   "outputs": [],
   "source": [
    "# Curva ROC e AUC\n",
    "fpr, tpr, _ = roc_curve(y_test, y_pred)\n",
    "roc_auc = auc(fpr, tpr)"
   ]
  },
  {
   "cell_type": "code",
   "execution_count": 72,
   "metadata": {},
   "outputs": [
    {
     "data": {
      "image/png": "[encoded data removed]",
      "text/plain": [
       "<Figure size 640x480 with 1 Axes>"
      ]
     },
     "metadata": {},
     "output_type": "display_data"
    }
   ],
   "source": [
    "# Plotar a curva ROC\n",
    "plt.figure()\n",
    "plt.plot(fpr, tpr, color='cyan', label=f'Curva ROC (AUC = {roc_auc:.2f})')\n",
    "plt.plot([0, 1], [0, 1], color='red', linestyle='--')\n",
    "plt.xlabel('Taxa de Falsos Positivos')\n",
    "plt.ylabel('Taxa de Verdadeiros Positivos')\n",
    "plt.title('Curva ROC')\n",
    "plt.legend(loc='lower right')\n",
    "plt.style.use('dark_background')  # Tema dark mode\n",
    "plt.show()"
   ]
  }
 ],
 "metadata": {
  "kernelspec": {
   "display_name": "Python 3",
   "language": "python",
   "name": "python3"
  },
  "language_info": {
   "codemirror_mode": {
    "name": "ipython",
    "version": 3
   },
   "file_extension": ".py",
   "mimetype": "text/x-python",
   "name": "python",
   "nbconvert_exporter": "python",
   "pygments_lexer": "ipython3",
   "version": "3.9.6"
  }
 },
 "nbformat": 4,
 "nbformat_minor": 2
}
