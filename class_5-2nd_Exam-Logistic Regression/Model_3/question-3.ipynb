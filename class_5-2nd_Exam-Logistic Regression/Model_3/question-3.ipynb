{
 "cells": [
  {
   "cell_type": "code",
   "execution_count": 44,
   "metadata": {},
   "outputs": [],
   "source": [
    "# Importação das bibliotecas necessárias\n",
    "import pandas as pd\n",
    "import numpy as np\n",
    "import statsmodels.api as sm\n",
    "from sklearn.model_selection import train_test_split\n",
    "from sklearn.metrics import confusion_matrix, classification_report, roc_curve, auc\n",
    "import seaborn as sns\n",
    "import matplotlib.pyplot as plt"
   ]
  },
  {
   "cell_type": "code",
   "execution_count": 45,
   "metadata": {},
   "outputs": [],
   "source": [
    "\n",
    "# Passo 1: Carregar a base de dados\n",
    "# Certifique-se de que o arquivo Binary.xlsx está no mesmo diretório do notebook\n",
    "data = pd.read_excel('/Users/fabicampanari/Desktop/Regressão Logística/Exam_2-Logostic Regession/Binary.xlsx')"
   ]
  },
  {
   "cell_type": "code",
   "execution_count": 46,
   "metadata": {},
   "outputs": [
    {
     "name": "stdout",
     "output_type": "stream",
     "text": [
      "Visualização inicial dos dados:\n",
      "   admit  gre   gpa  rank\n",
      "0      0  380  3.61     3\n",
      "1      1  660  3.67     3\n",
      "2      1  800  4.00     1\n",
      "3      1  640  3.19     4\n",
      "4      0  520  2.93     4\n",
      "\n",
      "Verificando valores ausentes:\n",
      "admit    0\n",
      "gre      0\n",
      "gpa      0\n",
      "rank     0\n",
      "dtype: int64\n",
      "\n",
      "Colunas após transformação de 'rank' em dummies:\n",
      "Index(['admit', 'gre', 'gpa', 'rank_2', 'rank_3', 'rank_4'], dtype='object')\n"
     ]
    }
   ],
   "source": [
    "# Exibir as primeiras linhas do dataset\n",
    "print(\"Visualização inicial dos dados:\")\n",
    "print(data.head())\n",
    "\n",
    "# Passo 2: Pré-processamento dos dados\n",
    "# Verificar valores ausentes\n",
    "print(\"\\nVerificando valores ausentes:\")\n",
    "print(data.isnull().sum())\n",
    "\n",
    "# Converter a variável 'rank' em dummies (variável qualitativa)\n",
    "data = pd.get_dummies(data, columns=['rank'], drop_first=True)\n",
    "\n",
    "# Exibir as colunas após a transformação\n",
    "print(\"\\nColunas após transformação de 'rank' em dummies:\")\n",
    "print(data.columns)"
   ]
  },
  {
   "cell_type": "code",
   "execution_count": 47,
   "metadata": {},
   "outputs": [],
   "source": [
    "\n",
    "# Passo 3: Dividir os dados em variáveis independentes (X) e dependente (y)\n",
    "X = data.drop('admit', axis=1)  # Variáveis independentes\n",
    "y = data['admit']  # Variável dependente"
   ]
  },
  {
   "cell_type": "code",
   "execution_count": 48,
   "metadata": {},
   "outputs": [],
   "source": [
    "# Verificar e tratar valores ausentes em X\n",
    "if X.isnull().sum().sum() > 0:\n",
    "    X = X.fillna(0)"
   ]
  },
  {
   "cell_type": "code",
   "execution_count": 49,
   "metadata": {},
   "outputs": [],
   "source": [
    "# Adicionar uma constante para o intercepto\n",
    "X = sm.add_constant(X)"
   ]
  },
  {
   "cell_type": "code",
   "execution_count": 50,
   "metadata": {},
   "outputs": [],
   "source": [
    "# Passo 4: Dividir os dados em treino e teste\n",
    "X_train, X_test, y_train, y_test = train_test_split(X, y, test_size=0.2, random_state=42)"
   ]
  },
  {
   "cell_type": "code",
   "execution_count": 51,
   "metadata": {},
   "outputs": [
    {
     "name": "stdout",
     "output_type": "stream",
     "text": [
      "Optimization terminated successfully.\n",
      "         Current function value: 0.570539\n",
      "         Iterations 6\n"
     ]
    }
   ],
   "source": [
    "# Passo 5: Ajustar o modelo de regressão logística inicial\n",
    "# Converter colunas booleanas para inteiros\n",
    "X_train = X_train.astype(int)\n",
    "\n",
    "# Ajustar o modelo\n",
    "model = sm.Logit(y_train, X_train).fit()"
   ]
  },
  {
   "cell_type": "code",
   "execution_count": 52,
   "metadata": {},
   "outputs": [
    {
     "name": "stdout",
     "output_type": "stream",
     "text": [
      "\n",
      "Resumo do Modelo Inicial:\n",
      "                           Logit Regression Results                           \n",
      "==============================================================================\n",
      "Dep. Variable:                  admit   No. Observations:                  320\n",
      "Model:                          Logit   Df Residuals:                      314\n",
      "Method:                           MLE   Df Model:                            5\n",
      "Date:                Mon, 31 Mar 2025   Pseudo R-squ.:                 0.08139\n",
      "Time:                        11:18:17   Log-Likelihood:                -182.57\n",
      "converged:                       True   LL-Null:                       -198.75\n",
      "Covariance Type:            nonrobust   LLR p-value:                 5.063e-06\n",
      "==============================================================================\n",
      "                 coef    std err          z      P>|z|      [0.025      0.975]\n",
      "------------------------------------------------------------------------------\n",
      "const         -1.9914      1.019     -1.955      0.051      -3.988       0.005\n",
      "gre            0.0024      0.001      2.072      0.038       0.000       0.005\n",
      "gpa            0.2338      0.278      0.842      0.400      -0.311       0.778\n",
      "rank_2        -0.7182      0.346     -2.078      0.038      -1.396      -0.041\n",
      "rank_3        -1.5403      0.389     -3.955      0.000      -2.304      -0.777\n",
      "rank_4        -1.5882      0.455     -3.489      0.000      -2.480      -0.696\n",
      "==============================================================================\n"
     ]
    }
   ],
   "source": [
    "\n",
    "# Exibir o resumo do modelo inicial\n",
    "print(\"\\nResumo do Modelo Inicial:\")\n",
    "print(model.summary())"
   ]
  },
  {
   "cell_type": "code",
   "execution_count": 53,
   "metadata": {},
   "outputs": [],
   "source": [
    "# Passo 6: Aplicar o método Stepwise\n",
    "# Função para aplicar o método stepwise\n",
    "def stepwise_selection(X, y, initial_list=[], threshold_in=0.05, threshold_out=0.10):\n",
    "    \"\"\"\n",
    "    Realiza a seleção de variáveis usando o método stepwise.\n",
    "    \"\"\"\n",
    "    included = list(initial_list)\n",
    "    while True:\n",
    "        changed = False\n",
    "        # Testar adição de novas variáveis\n",
    "        excluded = list(set(X.columns) - set(included))\n",
    "        new_pval = pd.Series(index=excluded)\n",
    "        for new_column in excluded:\n",
    "            model = sm.Logit(y, sm.add_constant(X[included + [new_column]])).fit(disp=0)\n",
    "            new_pval[new_column] = model.pvalues[new_column]\n",
    "        best_pval = new_pval.min()\n",
    "        if best_pval < threshold_in:\n",
    "            best_feature = new_pval.idxmin()\n",
    "            included.append(best_feature)\n",
    "            changed = True\n",
    "\n",
    "        # Testar remoção de variáveis\n",
    "        model = sm.Logit(y, sm.add_constant(X[included])).fit(disp=0)\n",
    "        pvalues = model.pvalues.iloc[1:]  # Excluir a constante\n",
    "        worst_pval = pvalues.max()\n",
    "        if worst_pval > threshold_out:\n",
    "            worst_feature = pvalues.idxmax()\n",
    "            included.remove(worst_feature)\n",
    "            changed = True\n",
    "\n",
    "        if not changed:\n",
    "            break\n",
    "    return included"
   ]
  },
  {
   "cell_type": "code",
   "execution_count": 54,
   "metadata": {},
   "outputs": [
    {
     "name": "stdout",
     "output_type": "stream",
     "text": [
      "\n",
      "Variáveis selecionadas pelo método Stepwise:\n",
      "['const', 'gre', 'rank_3', 'rank_4', 'rank_2']\n"
     ]
    }
   ],
   "source": [
    "# Aplicar o método stepwise\n",
    "selected_features = stepwise_selection(X_train, y_train)\n",
    "print(\"\\nVariáveis selecionadas pelo método Stepwise:\")\n",
    "print(selected_features)"
   ]
  },
  {
   "cell_type": "code",
   "execution_count": 55,
   "metadata": {},
   "outputs": [
    {
     "name": "stdout",
     "output_type": "stream",
     "text": [
      "Optimization terminated successfully.\n",
      "         Current function value: 0.571656\n",
      "         Iterations 5\n"
     ]
    }
   ],
   "source": [
    "# Ajustar o modelo final com as variáveis selecionadas\n",
    "X_train_selected = X_train[selected_features]\n",
    "X_test_selected = X_test[selected_features]\n",
    "model_final = sm.Logit(y_train, X_train_selected).fit()"
   ]
  },
  {
   "cell_type": "code",
   "execution_count": 56,
   "metadata": {},
   "outputs": [
    {
     "name": "stdout",
     "output_type": "stream",
     "text": [
      "\n",
      "Resumo do Modelo Final:\n",
      "                           Logit Regression Results                           \n",
      "==============================================================================\n",
      "Dep. Variable:                  admit   No. Observations:                  320\n",
      "Model:                          Logit   Df Residuals:                      315\n",
      "Method:                           MLE   Df Model:                            4\n",
      "Date:                Mon, 31 Mar 2025   Pseudo R-squ.:                 0.07959\n",
      "Time:                        11:18:17   Log-Likelihood:                -182.93\n",
      "converged:                       True   LL-Null:                       -198.75\n",
      "Covariance Type:            nonrobust   LLR p-value:                 2.271e-06\n",
      "==============================================================================\n",
      "                 coef    std err          z      P>|z|      [0.025      0.975]\n",
      "------------------------------------------------------------------------------\n",
      "const         -1.4266      0.759     -1.879      0.060      -2.915       0.062\n",
      "gre            0.0027      0.001      2.347      0.019       0.000       0.005\n",
      "rank_3        -1.5648      0.388     -4.032      0.000      -2.325      -0.804\n",
      "rank_4        -1.6255      0.453     -3.590      0.000      -2.513      -0.738\n",
      "rank_2        -0.7570      0.342     -2.212      0.027      -1.428      -0.086\n",
      "==============================================================================\n"
     ]
    }
   ],
   "source": [
    "# Exibir o resumo do modelo final\n",
    "print(\"\\nResumo do Modelo Final:\")\n",
    "print(model_final.summary())"
   ]
  },
  {
   "cell_type": "code",
   "execution_count": 57,
   "metadata": {},
   "outputs": [
    {
     "name": "stdout",
     "output_type": "stream",
     "text": [
      "\n",
      "Equação do Modelo Final:\n",
      "logit(P) = -1.4266 + (0.0027 * gre) + (-1.5648 * rank_3) + (-1.6255 * rank_4) + (-0.7570 * rank_2) \n"
     ]
    },
    {
     "name": "stderr",
     "output_type": "stream",
     "text": [
      "/var/folders/sp/qr0jn46s10x5j0y77wb390d00000gn/T/ipykernel_14462/3857465752.py:3: FutureWarning: Series.__getitem__ treating keys as positions is deprecated. In a future version, integer keys will always be treated as labels (consistent with DataFrame behavior). To access a value by position, use `ser.iloc[pos]`\n",
      "  print(f\"logit(P) = {model_final.params[0]:.4f} \", end=\"\")\n"
     ]
    }
   ],
   "source": [
    "# Exibir a equação do modelo final\n",
    "print(\"\\nEquação do Modelo Final:\")\n",
    "print(f\"logit(P) = {model_final.params[0]:.4f} \", end=\"\")\n",
    "for i, (var, coef) in enumerate(model_final.params[1:].items(), start=1):\n",
    "    print(f\"+ ({coef:.4f} * {var}) \", end=\"\")\n",
    "print()"
   ]
  },
  {
   "cell_type": "code",
   "execution_count": 58,
   "metadata": {},
   "outputs": [],
   "source": [
    "# Passo 7: Avaliar a qualidade do ajuste do modelo\n",
    "# Garantir que todas as colunas em X_test_selected sejam numéricas\n",
    "X_test_selected = X_test_selected.astype(float)\n",
    "\n",
    "# Fazer previsões no conjunto de teste\n",
    "y_pred = model_final.predict(X_test_selected)\n",
    "y_pred_class = (y_pred > 0.5).astype(int)"
   ]
  },
  {
   "cell_type": "code",
   "execution_count": 59,
   "metadata": {},
   "outputs": [
    {
     "name": "stdout",
     "output_type": "stream",
     "text": [
      "\n",
      "Matriz de Confusão:\n",
      "[[50  3]\n",
      " [24  3]]\n"
     ]
    }
   ],
   "source": [
    "# Matriz de confusão\n",
    "conf_matrix = confusion_matrix(y_test, y_pred_class)\n",
    "print(\"\\nMatriz de Confusão:\")\n",
    "print(conf_matrix)"
   ]
  },
  {
   "cell_type": "code",
   "execution_count": 60,
   "metadata": {},
   "outputs": [
    {
     "name": "stdout",
     "output_type": "stream",
     "text": [
      "\n",
      "Relatório de Classificação:\n",
      "              precision    recall  f1-score   support\n",
      "\n",
      "           0       0.68      0.94      0.79        53\n",
      "           1       0.50      0.11      0.18        27\n",
      "\n",
      "    accuracy                           0.66        80\n",
      "   macro avg       0.59      0.53      0.48        80\n",
      "weighted avg       0.62      0.66      0.58        80\n",
      "\n"
     ]
    }
   ],
   "source": [
    "# Relatório de classificação\n",
    "print(\"\\nRelatório de Classificação:\")\n",
    "print(classification_report(y_test, y_pred_class))"
   ]
  },
  {
   "cell_type": "code",
   "execution_count": 61,
   "metadata": {},
   "outputs": [],
   "source": [
    "# Curva ROC e AUC\n",
    "fpr, tpr, _ = roc_curve(y_test, y_pred)\n",
    "roc_auc = auc(fpr, tpr)\n"
   ]
  },
  {
   "cell_type": "code",
   "execution_count": 62,
   "metadata": {},
   "outputs": [
    {
     "data": {
      "image/png": "[encoded data removed]",
      "text/plain": [
       "<Figure size 640x480 with 1 Axes>"
      ]
     },
     "metadata": {},
     "output_type": "display_data"
    }
   ],
   "source": [
    "# Plotar a curva ROC\n",
    "plt.figure()\n",
    "plt.plot(fpr, tpr, color='cyan', label=f'Curva ROC (AUC = {roc_auc:.2f})')\n",
    "plt.plot([0, 1], [0, 1], color='red', linestyle='--')\n",
    "plt.xlabel('Taxa de Falsos Positivos')\n",
    "plt.ylabel('Taxa de Verdadeiros Positivos')\n",
    "plt.title('Curva ROC')\n",
    "plt.legend(loc='lower right')\n",
    "plt.style.use('dark_background')  # Tema dark mode\n",
    "plt.show()"
   ]
  },
  {
   "cell_type": "markdown",
   "metadata": {},
   "source": [
    "\n",
    "\n",
    "\n",
    "1. Resumo do Modelo Final\n",
    "O resumo do modelo final (model_final.summary()) fornece informações importantes sobre o ajuste do modelo. Aqui estão os principais pontos a serem analisados:\n",
    "a) Coeficientes ((\\beta))\n",
    "* Cada variável no modelo tem um coeficiente associado, que indica o impacto dessa variável na probabilidade de aprovação (admit).\n",
    "* Interpretação:\n",
    "    * Um coeficiente positivo significa que um aumento na variável aumenta a probabilidade de aprovação.\n",
    "    * Um coeficiente negativo significa que um aumento na variável reduz a probabilidade de aprovação.\n",
    "b) Valores-p (P>|z|)\n",
    "* Os valores-p indicam a significância estatística de cada variável no modelo.\n",
    "* Interpretação:\n",
    "    * Se o valor-p de uma variável for menor que 0.05, ela é considerada estatisticamente significativa.\n",
    "    * Variáveis com valores-p altos (> 0.05) podem ser removidas do modelo, pois não contribuem significativamente para a previsão.\n",
    "c) Pseudo R-squared\n",
    "* O Pseudo R-squared é uma métrica que mede a qualidade do ajuste do modelo.\n",
    "* Interpretação:\n",
    "    * Valores mais altos indicam que o modelo explica melhor a variabilidade dos dados.\n",
    "    * No entanto, o Pseudo R-squared em regressão logística geralmente é menor do que o R-squared em regressão linear."
   ]
  },
  {
   "cell_type": "markdown",
   "metadata": {},
   "source": [
    "2. Matriz de Confusão\n",
    "A matriz de confusão avalia o desempenho do modelo em termos de previsões corretas e incorretas.\n",
    "\n",
    "Estrutura da Matriz de Confusão:\n",
    "Classe 0 (Real)\tClasse 1 (Real)\n",
    "Classe 0 (Prevista)\tVerdadeiros Negativos (TN)\tFalsos Negativos (FN)\n",
    "Classe 1 (Prevista)\tFalsos Positivos (FP)\tVerdadeiros Positivos (TP)\n",
    "Métricas Derivadas:\n",
    "Acurácia: Proporção de previsões corretas. [ \\text{Acurácia} = \\frac{TP + TN}{TP + TN + FP + FN} ]\n",
    "Precisão: Proporção de previsões positivas que são realmente positivas. [ \\text{Precisão} = \\frac{TP}{TP + FP} ]\n",
    "Recall (Sensibilidade): Proporção de positivos reais que foram corretamente previstos. [ \\text{Recall} = \\frac{TP}{TP + FN} ]\n",
    "F1-Score: Média harmônica entre precisão e recall. [ F1 = 2 \\cdot \\frac{\\text{Precisão} \\cdot \\text{Recall}}{\\text{Precisão} + \\text{Recall}} ]\n"
   ]
  },
  {
   "cell_type": "markdown",
   "metadata": {},
   "source": [
    "3. Relatório de Classificação\n",
    "O relatório de classificação (classification_report) fornece as métricas mencionadas acima (Precisão, Recall, F1-Score) para cada classe (0 e 1). Ele ajuda a entender o desempenho do modelo em prever cada classe.\n",
    "\n",
    "Interpretação:\n",
    "Classe 0 (Não aprovado):\n",
    "Alta precisão e recall indicam que o modelo é bom em identificar alunos que não foram aprovados.\n",
    "Classe 1 (Aprovado):\n",
    "Alta precisão e recall indicam que o modelo é bom em identificar alunos aprovados."
   ]
  },
  {
   "cell_type": "markdown",
   "metadata": {},
   "source": [
    "4. Curva ROC e AUC\n",
    "A Curva ROC (Receiver Operating Characteristic) avalia a capacidade do modelo de distinguir entre as classes (0 e 1).\n",
    "\n",
    "Curva ROC:\n",
    "A curva ROC é um gráfico que mostra a relação entre a Taxa de Verdadeiros Positivos (TPR) e a Taxa de Falsos Positivos (FPR) para diferentes limiares de decisão.\n",
    "AUC (Área Sob a Curva):\n",
    "A AUC mede a área sob a curva ROC.\n",
    "Interpretação:\n",
    "AUC = 1.0: Modelo perfeito.\n",
    "AUC = 0.5: Modelo aleatório (sem capacidade de distinção).\n",
    "Quanto mais próximo de 1, melhor o modelo.\n"
   ]
  },
  {
   "cell_type": "markdown",
   "metadata": {},
   "source": [
    "5. Análise Geral\n",
    "Com base nas estatísticas fornecidas:\n",
    "\n",
    "Coeficientes e Significância:\n",
    "\n",
    "Identifique as variáveis mais importantes (com valores-p baixos) e interprete seus coeficientes.\n",
    "Por exemplo, se gpa tem um coeficiente positivo e significativo, isso indica que notas mais altas aumentam a probabilidade de aprovação.\n",
    "Desempenho do Modelo:\n",
    "\n",
    "Avalie a acurácia, precisão, recall e F1-Score para entender o desempenho geral do modelo.\n",
    "Certifique-se de que o modelo não está enviesado para uma classe (ex.: alta precisão para Classe 0, mas baixa para Classe 1).\n",
    "Capacidade de Distinção:\n",
    "\n",
    "Use a curva ROC e o AUC para avaliar a capacidade do modelo de distinguir entre alunos aprovados e não aprovados.\n",
    "Qualidade do Ajuste:\n",
    "\n",
    "O Pseudo R-squared e as métricas derivadas da matriz de confusão ajudam a entender o quão bem o modelo se ajusta aos dados."
   ]
  }
 ],
 "metadata": {
  "kernelspec": {
   "display_name": "Python 3",
   "language": "python",
   "name": "python3"
  },
  "language_info": {
   "codemirror_mode": {
    "name": "ipython",
    "version": 3
   },
   "file_extension": ".py",
   "mimetype": "text/x-python",
   "name": "python",
   "nbconvert_exporter": "python",
   "pygments_lexer": "ipython3",
   "version": "3.9.6"
  }
 },
 "nbformat": 4,
 "nbformat_minor": 2
}
