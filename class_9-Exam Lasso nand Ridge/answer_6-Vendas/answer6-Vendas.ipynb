{
 "cells": [
  {
   "cell_type": "markdown",
   "id": "c54e25eb",
   "metadata": {},
   "source": [
    "6. A base `vendas.xlsx` contém as vendas que uma empresa obtém de acordo com seu gasto em propaganda em portais de jornal (`GJornal`), propaganda em TV (`GTV`) e propaganda com mala direta (`GMdireta`). \n",
    "\n",
    "Faça apenas a Regressão de LASSO usando os valores de lambda: 1, 0.5, 0.1 e 0.01. Compare os resultados e os pesos obtidos.\n"
   ]
  },
  {
   "cell_type": "code",
   "execution_count": 30,
   "id": "0161214a",
   "metadata": {},
   "outputs": [
    {
     "name": "stdout",
     "output_type": "stream",
     "text": [
      "   Vendas  GJornal  GTV  GMDireta\n",
      "0       6        1    3         4\n",
      "1       7        2    4         4\n",
      "2      15        3    8        16\n",
      "3      18        5    8         8\n",
      "4      20        8   10        30\n"
     ]
    }
   ],
   "source": [
    "# Importing necessary libraries\n",
    "import numpy as np\n",
    "import pandas as pd\n",
    "from sklearn.linear_model import Lasso\n",
    "from sklearn.model_selection import train_test_split\n",
    "from sklearn.preprocessing import StandardScaler\n",
    "from sklearn.metrics import mean_squared_error\n",
    "\n",
    "# Loading the dataset\n",
    "dados = pd.read_excel('/Users/fabicampanari/Desktop/class_9-Exam Lasso nand Ridge/Vendas.xlsx')\n",
    "\n",
    "# Displaying the first few rows\n",
    "dados.head()\n",
    "# Displaying the first few rows\n",
    "print(dados.head())\n",
    "\n"
   ]
  },
  {
   "cell_type": "code",
   "execution_count": 31,
   "id": "c8403610",
   "metadata": {},
   "outputs": [],
   "source": [
    "# Defining features (X) and target (y)\n",
    "X = dados[['GJornal', 'GTV', 'GMDireta']]\n",
    "y = dados['Vendas']\n",
    "\n",
    "\n"
   ]
  },
  {
   "cell_type": "code",
   "execution_count": 32,
   "id": "f206d630",
   "metadata": {},
   "outputs": [],
   "source": [
    "# Splitting the data into training and testing sets\n",
    "X_train, X_test, y_train, y_test = train_test_split(X, y, test_size=0.2, random_state=42)\n"
   ]
  },
  {
   "cell_type": "code",
   "execution_count": 33,
   "id": "4f644efc",
   "metadata": {},
   "outputs": [],
   "source": [
    "#Standardizing the features\n",
    "scaler = StandardScaler()\n",
    "X_train_scaled = scaler.fit_transform(X_train)\n",
    "X_test_scaled = scaler.transform(X_test)\n"
   ]
  },
  {
   "cell_type": "code",
   "execution_count": 34,
   "id": "ffd3ddf2",
   "metadata": {},
   "outputs": [],
   "source": [
    "# Defining lambda (alpha) values\n",
    "alphas = [1, 0.5, 0.1, 0.01]"
   ]
  },
  {
   "cell_type": "code",
   "execution_count": 35,
   "id": "be27a8d1",
   "metadata": {},
   "outputs": [],
   "source": [
    "# Initializing a DataFrame to store results\n",
    "results = pd.DataFrame(columns=['Alpha', 'MSE', 'Coefficients'])"
   ]
  },
  {
   "cell_type": "code",
   "execution_count": 36,
   "id": "c13cf09b",
   "metadata": {},
   "outputs": [
    {
     "name": "stderr",
     "output_type": "stream",
     "text": [
      "/var/folders/sp/qr0jn46s10x5j0y77wb390d00000gn/T/ipykernel_28564/3734509029.py:19: FutureWarning: The behavior of DataFrame concatenation with empty or all-NA entries is deprecated. In a future version, this will no longer exclude empty or all-NA columns when determining the result dtypes. To retain the old behavior, exclude the relevant entries before the concat operation.\n",
      "  results = pd.concat([results, new_row], ignore_index=True)\n"
     ]
    }
   ],
   "source": [
    "# Looping through each alpha value\n",
    "for alpha in alphas:\n",
    "    # Initializing and fitting the LASSO model\n",
    "    lasso = Lasso(alpha=alpha, random_state=42)\n",
    "    lasso.fit(X_train_scaled, y_train)\n",
    "    \n",
    "    # Making predictions\n",
    "    y_pred = lasso.predict(X_test_scaled)\n",
    "    \n",
    "    # Calculating Mean Squared Error (MSE)\n",
    "    mse = mean_squared_error(y_test, y_pred)\n",
    "    \n",
    "    # Storing results\n",
    "    new_row = pd.DataFrame({\n",
    "        'Alpha': [alpha],\n",
    "        'MSE': [mse],\n",
    "        'Coefficients': [lasso.coef_]\n",
    "    })\n",
    "    results = pd.concat([results, new_row], ignore_index=True)\n"
   ]
  },
  {
   "cell_type": "code",
   "execution_count": 37,
   "id": "f78c1ae7",
   "metadata": {},
   "outputs": [
    {
     "name": "stdout",
     "output_type": "stream",
     "text": [
      "  Alpha        MSE                                       Coefficients\n",
      "0     1  58.086149       [9.334080426753939, 5.698983177940098, -0.0]\n",
      "1   0.5  52.425201  [9.705785239607103, 6.068990552863213, -0.2693...\n",
      "2   0.1  42.228127  [10.290784047627472, 6.642669467595335, -1.344...\n",
      "3  0.01  40.226999  [10.422491813134124, 6.771728838168024, -1.586...\n"
     ]
    }
   ],
   "source": [
    "# Displaying the results\n",
    "print(results)\n",
    "\n"
   ]
  },
  {
   "cell_type": "code",
   "execution_count": 38,
   "id": "978c4d78",
   "metadata": {},
   "outputs": [
    {
     "name": "stdout",
     "output_type": "stream",
     "text": [
      "\n",
      "Coefficients by Alpha:\n",
      "         GJornal       GTV  GMDireta\n",
      "Alpha                               \n",
      "1       9.334080  5.698983 -0.000000\n",
      "0.5     9.705785  6.068991 -0.269351\n",
      "0.1    10.290784  6.642669 -1.344503\n",
      "0.01   10.422492  6.771729 -1.586450\n"
     ]
    }
   ],
   "source": [
    "# Formatting coefficients for better readability\n",
    "coef_df = pd.DataFrame(\n",
    "    data=np.array(results['Coefficients'].tolist()),\n",
    "    columns=X.columns,\n",
    "    index=results['Alpha']\n",
    ")\n",
    "print(\"\\nCoefficients by Alpha:\")\n",
    "print(coef_df)"
   ]
  },
  {
   "cell_type": "markdown",
   "id": "a4097824",
   "metadata": {},
   "source": [
    "Segue o código para realizar a Regressão LASSO com os valores de lambda (α) especificados: 1, 0.5, 0.1 e 0.01. O código inclui o carregamento dos dados, pré-processamento, ajuste do modelo e comparação dos coeficientes.\n",
    "\n"
   ]
  },
  {
   "cell_type": "markdown",
   "id": "5fdd58e2",
   "metadata": {},
   "source": [
    "\n",
    "\n",
    "### Explicação do Código:\n",
    "1. **Carregamento e Pré-processamento**:\n",
    "   - Os dados são carregados e divididos em variáveis independentes (`X`) e dependente (`y`).\n",
    "   - Os dados são padronizados usando `StandardScaler` para garantir que os modelos sejam treinados corretamente.\n",
    "\n",
    "2. **Treinamento do Modelo**:\n",
    "   - O modelo LASSO é treinado para cada valor de `alpha` (1, 0.5, 0.1, 0.01).\n",
    "   - Os coeficientes e o erro médio quadrático (MSE) são calculados para cada modelo.\n",
    "\n",
    "3. **Comparação dos Resultados**:\n",
    "   - Os coeficientes de cada modelo são armazenados e exibidos em um DataFrame para facilitar a comparação.\n",
    "   - O MSE é usado para avaliar o desempenho do modelo.\n",
    "\n",
    "### Resultados Esperados:\n",
    "- **Coeficientes**: Mostram a importância de cada variável para diferentes valores de `alpha`.\n",
    "- **MSE**: Indica o desempenho do modelo para cada valor de `alpha`.\n",
    "\n",
    "Execute o código e analise os resultados para identificar como os pesos das variáveis mudam com diferentes valores de `alpha`."
   ]
  }
 ],
 "metadata": {
  "kernelspec": {
   "display_name": "Python 3",
   "language": "python",
   "name": "python3"
  },
  "language_info": {
   "codemirror_mode": {
    "name": "ipython",
    "version": 3
   },
   "file_extension": ".py",
   "mimetype": "text/x-python",
   "name": "python",
   "nbconvert_exporter": "python",
   "pygments_lexer": "ipython3",
   "version": "3.9.6"
  }
 },
 "nbformat": 4,
 "nbformat_minor": 5
}
