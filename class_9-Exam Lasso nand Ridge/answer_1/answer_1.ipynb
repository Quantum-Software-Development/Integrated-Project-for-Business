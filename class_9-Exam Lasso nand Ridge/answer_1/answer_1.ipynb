{
 "cells": [
  {
   "cell_type": "markdown",
   "id": "aa3ed0a5",
   "metadata": {},
   "source": [
    "1. Explique com as suas palavras as diferenças entre Regressão Linear Múltipla, Regressão Lasso e Regressão de Ridge."
   ]
  },
  {
   "cell_type": "markdown",
   "id": "aea9d4cf",
   "metadata": {},
   "source": [
    "🇧🇷 Portugues"
   ]
  },
  {
   "cell_type": "markdown",
   "id": "51e97f88",
   "metadata": {},
   "source": [
    "### Diferenças entre Regressão Linear Múltipla, Regressão Lasso e Regressão de Ridge\n",
    "\n",
    "A **Regressão Linear Múltipla**, a **Regressão Lasso** e a **Regressão de Ridge** são técnicas de regressão utilizadas para modelar a relação entre variáveis independentes (preditoras) e uma variável dependente (alvo). Aqui estão as diferenças principais entre elas:\n",
    "\n",
    "#### 1. Regressão Linear Múltipla\n",
    "- É a forma básica de regressão linear que tenta ajustar um modelo linear simples aos dados.\n",
    "- Não possui nenhum tipo de regularização, ou seja, todos os coeficientes das variáveis independentes são ajustados para minimizar o erro quadrático médio.\n",
    "- Pode sofrer com problemas de overfitting se houver muitas variáveis ou multicolinearidade entre elas.\n",
    "\n",
    "#### 2. Regressão Lasso (Least Absolute Shrinkage and Selection Operator)\n",
    "- Inclui um termo de regularização baseado na **norma L1** (soma dos valores absolutos dos coeficientes) no cálculo da função de custo.\n",
    "- Esse termo força alguns coeficientes a se tornarem exatamente zero, o que efetivamente realiza seleção de variáveis.\n",
    "- É útil quando se deseja simplificar o modelo, eliminando variáveis irrelevantes.\n",
    "\n",
    "#### 3. Regressão de Ridge\n",
    "- Inclui um termo de regularização baseado na **norma L2** (soma dos quadrados dos coeficientes) na função de custo.\n",
    "- Esse termo reduz os valores dos coeficientes, mas não os zera completamente.\n",
    "- É útil para lidar com multicolinearidade, pois distribui o peso entre as variáveis correlacionadas.\n",
    "\n",
    "### Resumo\n",
    "- **Regressão Linear Múltipla**: Não possui regularização.\n",
    "- **Regressão Lasso**: Realiza regularização L1, eliminando variáveis irrelevantes.\n",
    "- **Regressão de Ridge**: Utiliza regularização L2, reduzindo os coeficientes, mas mantendo todas as variáveis no modelo."
   ]
  },
  {
   "cell_type": "markdown",
   "id": "28bd4df5",
   "metadata": {},
   "source": [
    "─── ⋆⋅☆⋅⋆ ───  ─── ⋆⋅☆⋅⋆ ───  ─── ⋆⋅☆⋅⋆ ───  ─── ⋆⋅☆⋅⋆ ───  "
   ]
  },
  {
   "cell_type": "markdown",
   "id": "ed02d764",
   "metadata": {},
   "source": [
    "🇺🇸  English"
   ]
  },
  {
   "cell_type": "markdown",
   "id": "ace3af3e",
   "metadata": {},
   "source": [
    "The **Multiple Linear Regression**, **Lasso Regression**, and **Ridge Regression** are regression techniques used to model the relationship between independent (predictor) variables and a dependent (target) variable. Here are the main differences between them:\n",
    "\n",
    "### 1. Multiple Linear Regression\n",
    "- It is the basic form of linear regression that tries to fit a simple linear model to the data.\n",
    "- It does not include any type of regularization, meaning all coefficients of the independent variables are adjusted to minimize the mean squared error.\n",
    "- It can suffer from overfitting if there are too many variables or multicollinearity among them.\n",
    "\n",
    "### 2. Lasso Regression (Least Absolute Shrinkage and Selection Operator)\n",
    "- It includes a regularization term based on the **L1 norm** (sum of the absolute values of the coefficients) in the cost function.\n",
    "- This term forces some coefficients to become exactly zero, effectively performing variable selection.\n",
    "- It is useful when simplifying the model by eliminating irrelevant variables is desired.\n",
    "\n",
    "### 3. Ridge Regression\n",
    "- It includes a regularization term based on the **L2 norm** (sum of the squared values of the coefficients) in the cost function.\n",
    "- This term reduces the values of the coefficients but does not set them to zero completely.\n",
    "- It is useful for handling multicollinearity as it distributes the weight among correlated variables.\n",
    "\n",
    "### Summary\n",
    "- **Multiple Linear Regression**: No regularization.\n",
    "- **Lasso Regression**: L1 regularization, eliminates irrelevant variables.\n",
    "- **Ridge Regression**: L2 regularization, reduces coefficients but keeps all variables in the model."
   ]
  },
  {
   "cell_type": "markdown",
   "id": "430c8a0a",
   "metadata": {},
   "source": []
  }
 ],
 "metadata": {
  "language_info": {
   "name": "python"
  }
 },
 "nbformat": 4,
 "nbformat_minor": 5
}
