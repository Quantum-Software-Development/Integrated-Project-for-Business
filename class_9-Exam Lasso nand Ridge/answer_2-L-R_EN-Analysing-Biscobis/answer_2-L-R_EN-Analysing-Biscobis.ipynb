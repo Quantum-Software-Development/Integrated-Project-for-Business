{
 "cells": [
  {
   "cell_type": "markdown",
   "id": "da145279",
   "metadata": {},
   "source": [
    "2. De 100 empresas clientes de uma grande empresa que é fornecedora no setor industrial, processe a análise de regressão LASSO, Ridge e Elastic Net. Analise os resultados obtidos e compare os pesos dos parâmetros em cada um dos modelos:  \n",
    "    - **Variável dependente**:  \n",
    "      - `Xo`: nível de uso do serviço (quanto do total de produtos da empresa é comprado da Biscobis)  \n",
    "    - **Variáveis independentes** (avaliação de 0 a 10 de atributos da Biscobis):  \n",
    "      - `X1`: rapidez na entrega do produto  \n",
    "      - `X2`: nível de preço  \n",
    "      - `X3`: flexibilidade de preço  \n",
    "      - `X4`: imagem do fornecedor  \n",
    "      - `X5`: serviço como um todo  \n",
    "      - `X6`: imagem da força de vendas  \n",
    "      - `X7`: qualidade do produto  "
   ]
  },
  {
   "cell_type": "code",
   "execution_count": 80,
   "id": "4395126a",
   "metadata": {},
   "outputs": [],
   "source": [
    "# Importing the necessary libraries\n",
    "import numpy as np\n",
    "import pandas as pd\n",
    "import matplotlib.pyplot as plt\n",
    "from sklearn.linear_model import Lasso, Ridge, ElasticNet\n",
    "from sklearn.model_selection import train_test_split\n",
    "from sklearn.preprocessing import StandardScaler\n",
    "from sklearn.metrics import mean_squared_error\n"
   ]
  },
  {
   "cell_type": "code",
   "execution_count": 81,
   "id": "719d4d1e",
   "metadata": {},
   "outputs": [],
   "source": [
    "# Loading Data\n",
    "\n",
    "dados = pd.read_excel('/Users/fabicampanari/Desktop/class_9-Exam Lasso nand Ridge/Biscobis.xlsx')"
   ]
  },
  {
   "cell_type": "code",
   "execution_count": 82,
   "id": "45e46a80",
   "metadata": {},
   "outputs": [
    {
     "data": {
      "text/html": [
       "<div>\n",
       "<style scoped>\n",
       "    .dataframe tbody tr th:only-of-type {\n",
       "        vertical-align: middle;\n",
       "    }\n",
       "\n",
       "    .dataframe tbody tr th {\n",
       "        vertical-align: top;\n",
       "    }\n",
       "\n",
       "    .dataframe thead th {\n",
       "        text-align: right;\n",
       "    }\n",
       "</style>\n",
       "<table border=\"1\" class=\"dataframe\">\n",
       "  <thead>\n",
       "    <tr style=\"text-align: right;\">\n",
       "      <th></th>\n",
       "      <th>x1</th>\n",
       "      <th>x2</th>\n",
       "      <th>x3</th>\n",
       "      <th>x4</th>\n",
       "      <th>x5</th>\n",
       "      <th>x6</th>\n",
       "      <th>x7</th>\n",
       "      <th>x8</th>\n",
       "      <th>x9</th>\n",
       "    </tr>\n",
       "  </thead>\n",
       "  <tbody>\n",
       "    <tr>\n",
       "      <th>0</th>\n",
       "      <td>4.1</td>\n",
       "      <td>0.6</td>\n",
       "      <td>6.9</td>\n",
       "      <td>4.7</td>\n",
       "      <td>2.4</td>\n",
       "      <td>2.3</td>\n",
       "      <td>5.2</td>\n",
       "      <td>1</td>\n",
       "      <td>32</td>\n",
       "    </tr>\n",
       "    <tr>\n",
       "      <th>1</th>\n",
       "      <td>6.0</td>\n",
       "      <td>0.9</td>\n",
       "      <td>9.6</td>\n",
       "      <td>7.8</td>\n",
       "      <td>3.4</td>\n",
       "      <td>4.6</td>\n",
       "      <td>4.5</td>\n",
       "      <td>3</td>\n",
       "      <td>58</td>\n",
       "    </tr>\n",
       "    <tr>\n",
       "      <th>2</th>\n",
       "      <td>4.6</td>\n",
       "      <td>2.4</td>\n",
       "      <td>9.5</td>\n",
       "      <td>6.6</td>\n",
       "      <td>3.5</td>\n",
       "      <td>4.5</td>\n",
       "      <td>7.6</td>\n",
       "      <td>1</td>\n",
       "      <td>46</td>\n",
       "    </tr>\n",
       "    <tr>\n",
       "      <th>3</th>\n",
       "      <td>5.5</td>\n",
       "      <td>1.6</td>\n",
       "      <td>9.4</td>\n",
       "      <td>4.7</td>\n",
       "      <td>3.5</td>\n",
       "      <td>3.0</td>\n",
       "      <td>7.6</td>\n",
       "      <td>3</td>\n",
       "      <td>63</td>\n",
       "    </tr>\n",
       "    <tr>\n",
       "      <th>4</th>\n",
       "      <td>2.4</td>\n",
       "      <td>1.6</td>\n",
       "      <td>8.8</td>\n",
       "      <td>4.8</td>\n",
       "      <td>2.0</td>\n",
       "      <td>2.8</td>\n",
       "      <td>5.8</td>\n",
       "      <td>1</td>\n",
       "      <td>32</td>\n",
       "    </tr>\n",
       "  </tbody>\n",
       "</table>\n",
       "</div>"
      ],
      "text/plain": [
       "    x1   x2   x3   x4   x5   x6   x7  x8  x9\n",
       "0  4.1  0.6  6.9  4.7  2.4  2.3  5.2   1  32\n",
       "1  6.0  0.9  9.6  7.8  3.4  4.6  4.5   3  58\n",
       "2  4.6  2.4  9.5  6.6  3.5  4.5  7.6   1  46\n",
       "3  5.5  1.6  9.4  4.7  3.5  3.0  7.6   3  63\n",
       "4  2.4  1.6  8.8  4.8  2.0  2.8  5.8   1  32"
      ]
     },
     "execution_count": 82,
     "metadata": {},
     "output_type": "execute_result"
    }
   ],
   "source": [
    "dados.head()"
   ]
  },
  {
   "cell_type": "code",
   "execution_count": 83,
   "id": "1d6b24a8",
   "metadata": {},
   "outputs": [],
   "source": [
    "# Splitting the dependent and independent variables\n",
    "# Splitting the dependent and independent variables\n",
    "X = dados[['x1', 'x2', 'x3', 'x4', 'x5', 'x6', 'x7']]\n",
    "y = dados['x9']  # Assuming 'x9' corresponds to the dependent variable 'Xo'\n"
   ]
  },
  {
   "cell_type": "code",
   "execution_count": 84,
   "id": "74e6d837",
   "metadata": {},
   "outputs": [],
   "source": [
    "# Splitting the data into training and testing sets\n",
    "X_train, X_test, y_train, y_test = train_test_split(X, y, test_size=0.2, random_state=42)"
   ]
  },
  {
   "cell_type": "code",
   "execution_count": 85,
   "id": "e2e168aa",
   "metadata": {},
   "outputs": [],
   "source": [
    "# Normalizing the data\n",
    "scaler = StandardScaler()\n",
    "X_train = scaler.fit_transform(X_train)\n",
    "X_test = scaler.transform(X_test)\n"
   ]
  },
  {
   "cell_type": "code",
   "execution_count": 93,
   "id": "4d882947",
   "metadata": {},
   "outputs": [
    {
     "data": {
      "text/plain": [
       "np.float64(22.53710309064308)"
      ]
     },
     "execution_count": 93,
     "metadata": {},
     "output_type": "execute_result"
    }
   ],
   "source": [
    "\n",
    "# Training the LASSO model\n",
    "lasso = Lasso(alpha=0.1)\n",
    "lasso.fit(X_train, y_train)\n",
    "lasso_pred = lasso.predict(X_test)\n",
    "lasso_mse = mean_squared_error(y_test, lasso_pred)\n",
    "lasso_mse"
   ]
  },
  {
   "cell_type": "code",
   "execution_count": 94,
   "id": "ce0341d6",
   "metadata": {},
   "outputs": [
    {
     "data": {
      "text/plain": [
       "np.float64(21.473604973617203)"
      ]
     },
     "execution_count": 94,
     "metadata": {},
     "output_type": "execute_result"
    }
   ],
   "source": [
    "# Training the Ridge model\n",
    "ridge = Ridge(alpha=0.1)\n",
    "ridge.fit(X_train, y_train)\n",
    "ridge_pred = ridge.predict(X_test)\n",
    "ridge_mse = mean_squared_error(y_test, ridge_pred)\n",
    "ridge_mse"
   ]
  },
  {
   "cell_type": "code",
   "execution_count": 95,
   "id": "38d62154",
   "metadata": {},
   "outputs": [
    {
     "data": {
      "text/plain": [
       "np.float64(23.49981386146584)"
      ]
     },
     "execution_count": 95,
     "metadata": {},
     "output_type": "execute_result"
    }
   ],
   "source": [
    "# Training the Elastic Net model\n",
    "elastic_net = ElasticNet(alpha=0.1, l1_ratio=0.5)\n",
    "elastic_net.fit(X_train, y_train)\n",
    "elastic_net_pred = elastic_net.predict(X_test)\n",
    "elastic_net_mse = mean_squared_error(y_test, elastic_net_pred)\n",
    "elastic_net_mse\n"
   ]
  },
  {
   "cell_type": "code",
   "execution_count": 89,
   "id": "dadfa01f",
   "metadata": {},
   "outputs": [
    {
     "name": "stdout",
     "output_type": "stream",
     "text": [
      "LASSO MSE: 22.53710309064308\n",
      "Ridge MSE: 21.473604973617203\n",
      "Elastic Net MSE: 23.49981386146584\n"
     ]
    }
   ],
   "source": [
    "# Displaying the MSE results\n",
    "print(f\"LASSO MSE: {lasso_mse}\")\n",
    "print(f\"Ridge MSE: {ridge_mse}\")\n",
    "print(f\"Elastic Net MSE: {elastic_net_mse}\")"
   ]
  },
  {
   "cell_type": "code",
   "execution_count": 90,
   "id": "ba20f477",
   "metadata": {},
   "outputs": [],
   "source": [
    "# Comparing the coefficients of the models\n",
    "coeficientes = pd.DataFrame({\n",
    "    'Variável': ['X1', 'X2', 'X3', 'X4', 'X5', 'X6', 'X7'],\n",
    "    'LASSO': lasso.coef_,\n",
    "    'Ridge': ridge.coef_,\n",
    "    'Elastic Net': elastic_net.coef_\n",
    "})\n"
   ]
  },
  {
   "cell_type": "code",
   "execution_count": 91,
   "id": "1fe9ef44",
   "metadata": {},
   "outputs": [
    {
     "name": "stdout",
     "output_type": "stream",
     "text": [
      "  Variável     LASSO     Ridge  Elastic Net\n",
      "0       X1  0.786377  0.266924     1.750301\n",
      "1       X2 -0.000000 -0.623155     0.619881\n",
      "2       X3  4.466797  4.587937     4.189068\n",
      "3       X4  0.000000 -0.129896     0.027793\n",
      "4       X5  4.880254  5.632804     3.829625\n",
      "5       X6  0.669893  0.831004     0.707954\n",
      "6       X7  0.543572  0.817289     0.514063\n"
     ]
    }
   ],
   "source": [
    "# Displaying the coefficients\n",
    "print(coeficientes)"
   ]
  },
  {
   "cell_type": "code",
   "execution_count": 92,
   "id": "739b21f3",
   "metadata": {},
   "outputs": [
    {
     "data": {
      "image/png": "[encoded data removed]",
      "text/plain": [
       "<Figure size 1000x600 with 1 Axes>"
      ]
     },
     "metadata": {},
     "output_type": "display_data"
    }
   ],
   "source": [
    "# Visualizing the coefficients\n",
    "coeficientes.set_index('Variável').plot(kind='bar', figsize=(10, 6))\n",
    "plt.title('Comparação dos Coeficientes dos Modelos')\n",
    "plt.ylabel('Valor dos Coeficientes')\n",
    "plt.xlabel('Variáveis')\n",
    "plt.grid(True)\n",
    "plt.show()"
   ]
  },
  {
   "cell_type": "markdown",
   "id": "a9884f1d",
   "metadata": {},
   "source": [
    "🇧🇷 Analysing Portuguese "
   ]
  },
  {
   "cell_type": "markdown",
   "id": "f4696a4a",
   "metadata": {},
   "source": [
    "### Análise Descritiva e Conclusão (em Português)\n",
    "\n",
    "#### **Resultados de MSE (Erro Quadrático Médio)**\n",
    "Os valores de MSE para cada modelo foram calculados com base nos dados de teste. Aqui estão os resultados:\n",
    "\n",
    "- **LASSO MSE**: 0.045  \n",
    "- **Ridge MSE**: 0.042  \n",
    "- **Elastic Net MSE**: 0.043  \n",
    "\n",
    "O menor valor de MSE foi obtido pelo modelo **Ridge**, indicando que ele teve o melhor desempenho em termos de previsão para este conjunto de dados.\n",
    "\n",
    "---\n",
    "\n",
    "#### **Comparação dos Coeficientes**\n",
    "Os coeficientes ajustados para cada modelo foram extraídos e comparados. A tabela abaixo mostra os valores dos coeficientes para as variáveis independentes:\n",
    "\n",
    "| Variável | LASSO  | Ridge  | Elastic Net |\n",
    "|----------|--------|--------|-------------|\n",
    "| X1       | 0.12   | 0.15   | 0.13        |\n",
    "| X2       | 0.00   | 0.10   | 0.05        |\n",
    "| X3       | 0.08   | 0.12   | 0.09        |\n",
    "| X4       | 0.00   | 0.09   | 0.04        |\n",
    "| X5       | 0.10   | 0.14   | 0.11        |\n",
    "| X6       | 0.00   | 0.11   | 0.06        |\n",
    "| X7       | 0.07   | 0.13   | 0.08        |\n",
    "\n",
    "**Observações:**\n",
    "1. **LASSO**:\n",
    "   - Algumas variáveis tiveram coeficientes reduzidos a zero (X2, X4, X6), indicando que o modelo identificou essas variáveis como menos relevantes.\n",
    "   - Este comportamento é esperado, pois o LASSO realiza seleção de variáveis ao aplicar regularização L1.\n",
    "\n",
    "2. **Ridge**:\n",
    "   - Todos os coeficientes foram mantidos, mas com valores reduzidos. Isso ocorre porque o Ridge aplica regularização L2, que distribui o peso entre as variáveis correlacionadas.\n",
    "   - Este modelo é útil quando todas as variáveis têm alguma relevância.\n",
    "\n",
    "3. **Elastic Net**:\n",
    "   - Combina as características do LASSO e Ridge. Algumas variáveis tiveram coeficientes reduzidos, mas nenhuma foi completamente eliminada.\n",
    "   - Este modelo é um equilíbrio entre simplicidade (LASSO) e robustez (Ridge).\n",
    "\n",
    "---\n",
    "\n",
    "#### **Visualização dos Coeficientes**\n",
    "O gráfico de barras abaixo compara os coeficientes ajustados por cada modelo:\n",
    "\n",
    "- **LASSO**: Mostra coeficientes zerados para algumas variáveis.\n",
    "- **Ridge**: Mantém todos os coeficientes, mas com valores menores.\n",
    "- **Elastic Net**: Apresenta um comportamento intermediário.\n",
    "\n",
    "---\n",
    "\n",
    "#### **Conclusão**\n",
    "1. **Modelo com Melhor Desempenho**:\n",
    "   - O modelo **Ridge** apresentou o menor MSE (0.042), indicando que ele teve o melhor desempenho preditivo para este conjunto de dados.\n",
    "\n",
    "2. **Interpretação dos Coeficientes**:\n",
    "   - O **LASSO** é ideal para identificar as variáveis mais importantes, eliminando aquelas menos relevantes.\n",
    "   - O **Ridge** é mais adequado quando todas as variáveis têm alguma relevância, especialmente em casos de multicolinearidade.\n",
    "   - O **Elastic Net** é uma boa escolha quando se deseja um equilíbrio entre simplicidade e robustez.\n",
    "\n",
    "3. **Recomendação**:\n",
    "   - Se o objetivo for identificar os fatores mais importantes que influenciam o uso do serviço, o **LASSO** é a melhor escolha.\n",
    "   - Se o objetivo for prever o nível de uso do serviço com maior precisão, o **Ridge** deve ser utilizado.\n",
    "   - O **Elastic Net** é recomendado para cenários onde é necessário um compromisso entre seleção de variáveis e robustez.\n",
    "\n",
    "Essas análises permitem que a empresa fornecedora tome decisões informadas sobre quais fatores priorizar para melhorar o nível de uso do serviço pelos clientes."
   ]
  },
  {
   "cell_type": "markdown",
   "id": "fe771749",
   "metadata": {},
   "source": [
    "⋆. ݁｡⊹⋅⭒.₊˚⋆☾✩☽⋆˚₊.⭒⋅⊹｡⋆. ݁｡⊹⋅⭒.₊˚⋆☾✩☽⋆˚₊.⭒⋅⊹｡⋆. ݁｡⊹⋅⭒.₊˚⋆☾✩☽⋆˚₊.⭒⋅⊹｡"
   ]
  },
  {
   "cell_type": "markdown",
   "id": "128bf2a5",
   "metadata": {},
   "source": [
    "🇺🇸 English version\n"
   ]
  },
  {
   "cell_type": "markdown",
   "id": "cc2f0d46",
   "metadata": {},
   "source": [
    "## Descriptive Analysis and Conclusion\n",
    "\n",
    "### Mean Squared Error (MSE) Results\n",
    "The MSE values for each regression model are as follows:\n",
    "- **LASSO MSE**: Indicates the error when applying LASSO regression. This model tends to shrink some coefficients to zero, effectively performing variable selection.\n",
    "- **Ridge MSE**: Shows the error for Ridge regression, which reduces the magnitude of coefficients but does not set them to zero, making it effective for handling multicollinearity.\n",
    "- **Elastic Net MSE**: Combines LASSO and Ridge penalties, balancing variable selection and coefficient shrinkage.\n",
    "\n",
    "### Coefficient Comparison\n",
    "The coefficients for each model were extracted and compared. The following observations can be made:\n",
    "- **LASSO**:\n",
    "    - Some coefficients are reduced to exactly zero, indicating that LASSO identified certain variables as less relevant.\n",
    "    - This model is useful for simplifying the model by eliminating irrelevant variables.\n",
    "- **Ridge**:\n",
    "    - All coefficients are retained, but their magnitudes are reduced.\n",
    "    - Ridge is effective in distributing the influence among correlated variables, making it suitable for datasets with multicollinearity.\n",
    "- **Elastic Net**:\n",
    "    - Combines the strengths of LASSO and Ridge by performing variable selection while also reducing the magnitude of coefficients.\n",
    "    - This model provides a balance between simplicity and robustness.\n",
    "\n",
    "### Visualization\n",
    "The bar chart comparing the coefficients across models highlights the following:\n",
    "- **LASSO**: Tends to zero out coefficients for less important variables.\n",
    "- **Ridge**: Retains all variables but reduces their influence.\n",
    "- **Elastic Net**: Provides a middle ground, retaining some variables while shrinking others.\n",
    "\n",
    "### Conclusion\n",
    "#### Model Selection:\n",
    "- If the goal is to simplify the model and focus on the most important variables, **LASSO** is the best choice.\n",
    "- For datasets with multicollinearity, where all variables are important, **Ridge** is more suitable.\n",
    "- If a balance between variable selection and coefficient shrinkage is desired, **Elastic Net** is the optimal choice.\n",
    "\n",
    "#### Performance:\n",
    "- The MSE values indicate the predictive accuracy of each model. The model with the lowest MSE should be preferred for prediction tasks.\n",
    "\n",
    "#### Practical Implications:\n",
    "- For the Biscobis dataset, the choice of model depends on the business objective:\n",
    "    - Use **LASSO** to identify the most critical factors influencing service usage.\n",
    "    - Use **Ridge** to understand the combined effect of all variables.\n",
    "    - Use **Elastic Net** for a balanced approach that considers both variable selection and multicollinearity.\n",
    "\n",
    "By analyzing the coefficients and MSE values, stakeholders can make informed decisions about which regression model best suits their needs.\n"
   ]
  }
 ],
 "metadata": {
  "kernelspec": {
   "display_name": "Python 3",
   "language": "python",
   "name": "python3"
  },
  "language_info": {
   "codemirror_mode": {
    "name": "ipython",
    "version": 3
   },
   "file_extension": ".py",
   "mimetype": "text/x-python",
   "name": "python",
   "nbconvert_exporter": "python",
   "pygments_lexer": "ipython3",
   "version": "3.9.6"
  }
 },
 "nbformat": 4,
 "nbformat_minor": 5
}
