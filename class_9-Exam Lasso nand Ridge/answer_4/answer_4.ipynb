{
 "cells": [
  {
   "cell_type": "markdown",
   "id": "d4f53ea9",
   "metadata": {},
   "source": [
    "### 🇧🇷 4- Por que na Regressão Elastic Net é preciso ajustar 2 parâmetros e na Lasso apenas 1?"
   ]
  },
  {
   "cell_type": "markdown",
   "id": "960c9e1b",
   "metadata": {},
   "source": [
    "Porque o Elastic Net combina tanto a regularização L1 (Lasso) quanto a L2 (Ridge), é necessário ajustar dois parâmetros: um para o equilíbrio entre as penalidades L1 e L2, e outro para a força geral da regularização. Em contraste, o Lasso utiliza apenas a regularização L1, então é necessário ajustar apenas um parâmetro para a força da regularização."
   ]
  },
  {
   "cell_type": "markdown",
   "id": "0d758323",
   "metadata": {},
   "source": [
    "⊹⋅⭒.₊˚⋆☾✩☽⋆˚₊.⭒⋅⊹｡⊹⋅⭒.₊˚⋆☾✩☽⋆˚₊.⭒⋅⊹｡⊹⋅⭒.₊˚⋆☾✩☽⋆˚₊.⭒⋅⊹｡⊹⋅⭒.₊˚⋆☾✩☽⋆˚₊.⭒⋅⊹｡"
   ]
  },
  {
   "cell_type": "markdown",
   "id": "64de5388",
   "metadata": {},
   "source": [
    "### 🇺🇸 4. Why does Elastic Net Regression require adjusting 2 parameters, while Lasso only requires 1?"
   ]
  },
  {
   "cell_type": "markdown",
   "id": "bf5e0e90",
   "metadata": {},
   "source": [
    "Because Elastic Net combines both L1 (Lasso) and L2 (Ridge) regularization, it requires tuning two parameters: one for the balance between L1 and L2 penalties, and another for the overall regularization strength. In contrast, Lasso only uses L1 regularization, so it requires tuning just one parameter for the regularization strength.\n"
   ]
  }
 ],
 "metadata": {
  "language_info": {
   "name": "python"
  }
 },
 "nbformat": 4,
 "nbformat_minor": 5
}
