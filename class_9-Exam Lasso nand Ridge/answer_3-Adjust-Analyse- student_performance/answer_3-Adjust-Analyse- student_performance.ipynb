{
 "cells": [
  {
   "cell_type": "markdown",
   "id": "52276769",
   "metadata": {},
   "source": [
    "3) Considere o arquivo `student_performance.xlsx` com o seguinte layout:\n",
    "\n",
    "- **Hours Studied**: Número médio de horas de estudo no mês anterior.\n",
    "- **Previous Scores**: Nota no teste anterior.\n",
    "- **Extracurricular Activities**: Informa se o estudante tem atividades extra-curriculares (`Yes` ou `No`).\n",
    "- **Sleep Hours**: Número médio de horas de sono.\n",
    "- **Sample Question Papers Practiced**: Número de listas de exercício que o estudante resolveu.\n",
    "- **Performance**: Nota no teste.\n",
    "\n",
    "Faça os ajustes pertinentes na base e processe a análise de regressão **LASSO**, **Ridge** e **Elastic Net**. Analise os resultados obtidos e compare os pesos dos parâmetros em cada um dos modelos.\n",
    "\n",
    "1. Quais as duas variáveis mais importantes?\n",
    "2. Alguma delas tem peso negativo? Qual?"
   ]
  },
  {
   "cell_type": "code",
   "execution_count": 200,
   "id": "e309c840",
   "metadata": {},
   "outputs": [],
   "source": [
    "# Importing the necessary libraries\n",
    "import numpy as np\n",
    "import pandas as pd\n",
    "import matplotlib.pyplot as plt\n",
    "from sklearn.linear_model import Lasso, Ridge, ElasticNet\n",
    "from sklearn.model_selection import train_test_split\n",
    "from sklearn.preprocessing import StandardScaler\n",
    "from sklearn.metrics import mean_squared_error\n"
   ]
  },
  {
   "cell_type": "code",
   "execution_count": null,
   "id": "9ae07cc4",
   "metadata": {},
   "outputs": [],
   "source": [
    "# Loading Data\n",
    "\n",
    "dados = pd.read_excel('/Users/fabicampanari/Desktop/class_9-Exam Lasso nand Ridge/student_performance.xlsx')"
   ]
  },
  {
   "cell_type": "code",
   "execution_count": 202,
   "id": "dddd774f",
   "metadata": {},
   "outputs": [
    {
     "data": {
      "text/html": [
       "<div>\n",
       "<style scoped>\n",
       "    .dataframe tbody tr th:only-of-type {\n",
       "        vertical-align: middle;\n",
       "    }\n",
       "\n",
       "    .dataframe tbody tr th {\n",
       "        vertical-align: top;\n",
       "    }\n",
       "\n",
       "    .dataframe thead th {\n",
       "        text-align: right;\n",
       "    }\n",
       "</style>\n",
       "<table border=\"1\" class=\"dataframe\">\n",
       "  <thead>\n",
       "    <tr style=\"text-align: right;\">\n",
       "      <th></th>\n",
       "      <th>Hours_Studied</th>\n",
       "      <th>Previous_Scores</th>\n",
       "      <th>Sleep_Hours</th>\n",
       "      <th>Sample_Question_papers</th>\n",
       "      <th>Performance</th>\n",
       "    </tr>\n",
       "  </thead>\n",
       "  <tbody>\n",
       "    <tr>\n",
       "      <th>count</th>\n",
       "      <td>10000.000000</td>\n",
       "      <td>10000.000000</td>\n",
       "      <td>10000.000000</td>\n",
       "      <td>10000.000000</td>\n",
       "      <td>10000.000000</td>\n",
       "    </tr>\n",
       "    <tr>\n",
       "      <th>mean</th>\n",
       "      <td>4.992900</td>\n",
       "      <td>69.445700</td>\n",
       "      <td>6.530600</td>\n",
       "      <td>4.583300</td>\n",
       "      <td>55.224800</td>\n",
       "    </tr>\n",
       "    <tr>\n",
       "      <th>std</th>\n",
       "      <td>2.589309</td>\n",
       "      <td>17.343152</td>\n",
       "      <td>1.695863</td>\n",
       "      <td>2.867348</td>\n",
       "      <td>19.212558</td>\n",
       "    </tr>\n",
       "    <tr>\n",
       "      <th>min</th>\n",
       "      <td>1.000000</td>\n",
       "      <td>40.000000</td>\n",
       "      <td>4.000000</td>\n",
       "      <td>0.000000</td>\n",
       "      <td>10.000000</td>\n",
       "    </tr>\n",
       "    <tr>\n",
       "      <th>25%</th>\n",
       "      <td>3.000000</td>\n",
       "      <td>54.000000</td>\n",
       "      <td>5.000000</td>\n",
       "      <td>2.000000</td>\n",
       "      <td>40.000000</td>\n",
       "    </tr>\n",
       "    <tr>\n",
       "      <th>50%</th>\n",
       "      <td>5.000000</td>\n",
       "      <td>69.000000</td>\n",
       "      <td>7.000000</td>\n",
       "      <td>5.000000</td>\n",
       "      <td>55.000000</td>\n",
       "    </tr>\n",
       "    <tr>\n",
       "      <th>75%</th>\n",
       "      <td>7.000000</td>\n",
       "      <td>85.000000</td>\n",
       "      <td>8.000000</td>\n",
       "      <td>7.000000</td>\n",
       "      <td>71.000000</td>\n",
       "    </tr>\n",
       "    <tr>\n",
       "      <th>max</th>\n",
       "      <td>9.000000</td>\n",
       "      <td>99.000000</td>\n",
       "      <td>9.000000</td>\n",
       "      <td>9.000000</td>\n",
       "      <td>100.000000</td>\n",
       "    </tr>\n",
       "  </tbody>\n",
       "</table>\n",
       "</div>"
      ],
      "text/plain": [
       "       Hours_Studied  Previous_Scores   Sleep_Hours  Sample_Question_papers  \\\n",
       "count   10000.000000     10000.000000  10000.000000            10000.000000   \n",
       "mean        4.992900        69.445700      6.530600                4.583300   \n",
       "std         2.589309        17.343152      1.695863                2.867348   \n",
       "min         1.000000        40.000000      4.000000                0.000000   \n",
       "25%         3.000000        54.000000      5.000000                2.000000   \n",
       "50%         5.000000        69.000000      7.000000                5.000000   \n",
       "75%         7.000000        85.000000      8.000000                7.000000   \n",
       "max         9.000000        99.000000      9.000000                9.000000   \n",
       "\n",
       "        Performance  \n",
       "count  10000.000000  \n",
       "mean      55.224800  \n",
       "std       19.212558  \n",
       "min       10.000000  \n",
       "25%       40.000000  \n",
       "50%       55.000000  \n",
       "75%       71.000000  \n",
       "max      100.000000  "
      ]
     },
     "execution_count": 202,
     "metadata": {},
     "output_type": "execute_result"
    }
   ],
   "source": [
    "# Displaying the first few rows and summary statistics of the dataset\n",
    "dados.head()\n",
    "dados.describe()"
   ]
  },
  {
   "cell_type": "code",
   "execution_count": 203,
   "id": "c0a6d1f0",
   "metadata": {},
   "outputs": [],
   "source": [
    "# Encoding categorical variables (Extracurricular Activities: Yes=1, No=0)\n",
    "dados['Extracurricular_ Activities'] = dados['Extracurricular_ Activities'].map({'Yes': 1, 'No': 0})"
   ]
  },
  {
   "cell_type": "code",
   "execution_count": 204,
   "id": "b65f3de0",
   "metadata": {},
   "outputs": [],
   "source": [
    "# Defining dependent and independent variables\n",
    "X = dados[['Hours_Studied', 'Previous_Scores', 'Extracurricular_ Activities', 'Sleep_Hours', 'Sample_Question_papers']]\n",
    "y = dados['Performance']"
   ]
  },
  {
   "cell_type": "code",
   "execution_count": 205,
   "id": "912516fa",
   "metadata": {},
   "outputs": [],
   "source": [
    "# Splitting the data into training and testing sets\\n\",\n",
    "X_train, X_test, y_train, y_test = train_test_split(X, y, test_size=0.2, random_state=42)"
   ]
  },
  {
   "cell_type": "code",
   "execution_count": 206,
   "id": "90246087",
   "metadata": {},
   "outputs": [],
   "source": [
    "# Normalizing the data\n",
    "scaler = StandardScaler()\n",
    "X_train = scaler.fit_transform(X_train)\n",
    "X_test = scaler.transform(X_test)"
   ]
  },
  {
   "cell_type": "code",
   "execution_count": 207,
   "id": "568f08f1",
   "metadata": {},
   "outputs": [
    {
     "data": {
      "text/plain": [
       "np.float64(4.175297230950129)"
      ]
     },
     "execution_count": 207,
     "metadata": {},
     "output_type": "execute_result"
    }
   ],
   "source": [
    "# LASSO Regressio\n",
    "# Applying LASSO regression with alpha=0.1\n",
    "lasso = Lasso(alpha=0.1)\n",
    "lasso.fit(X_train, y_train)\n",
    "lasso_pred = lasso.predict(X_test)\n",
    "lasso_mse = mean_squared_error(y_test, lasso_pred)\n",
    "lasso_mse"
   ]
  },
  {
   "cell_type": "code",
   "execution_count": 208,
   "id": "d7a797ae",
   "metadata": {},
   "outputs": [
    {
     "data": {
      "text/plain": [
       "np.float64(4.082686194134616)"
      ]
     },
     "execution_count": 208,
     "metadata": {},
     "output_type": "execute_result"
    }
   ],
   "source": [
    "# Ridge Regression\"\n",
    "## Applying Ridge regression with alpha=0.1\\n\",\n",
    "ridge = Ridge(alpha=0.1)\n",
    "ridge.fit(X_train, y_train)\n",
    "ridge_pred = ridge.predict(X_test)\n",
    "ridge_mse = mean_squared_error(y_test, ridge_pred)\n",
    "ridge_mse"
   ]
  },
  {
   "cell_type": "code",
   "execution_count": 209,
   "id": "a7bf277a",
   "metadata": {},
   "outputs": [
    {
     "name": "stdout",
     "output_type": "stream",
     "text": [
      "5.287599044843692\n"
     ]
    }
   ],
   "source": [
    "# Initialize the ElasticNet model\n",
    "elastic_net = ElasticNet(alpha=0.1, l1_ratio=0.5)\n",
    "\n",
    "# Fit the model to the training data\n",
    "elastic_net.fit(X_train, y_train)\n",
    "\n",
    "# Predict on the test data\n",
    "elastic_net_pred = elastic_net.predict(X_test)\n",
    "\n",
    "# Calculate the Mean Squared Error\n",
    "elastic_net_mse = mean_squared_error(y_test, elastic_net_pred)\n",
    "\n",
    "# Output the MSE\n",
    "print(elastic_net_mse)"
   ]
  },
  {
   "cell_type": "code",
   "execution_count": 210,
   "id": "56e090c5",
   "metadata": {},
   "outputs": [
    {
     "data": {
      "text/html": [
       "<div>\n",
       "<style scoped>\n",
       "    .dataframe tbody tr th:only-of-type {\n",
       "        vertical-align: middle;\n",
       "    }\n",
       "\n",
       "    .dataframe tbody tr th {\n",
       "        vertical-align: top;\n",
       "    }\n",
       "\n",
       "    .dataframe thead th {\n",
       "        text-align: right;\n",
       "    }\n",
       "</style>\n",
       "<table border=\"1\" class=\"dataframe\">\n",
       "  <thead>\n",
       "    <tr style=\"text-align: right;\">\n",
       "      <th></th>\n",
       "      <th>Variable</th>\n",
       "      <th>LASSO</th>\n",
       "      <th>Ridge</th>\n",
       "      <th>Elastic Net</th>\n",
       "    </tr>\n",
       "  </thead>\n",
       "  <tbody>\n",
       "    <tr>\n",
       "      <th>0</th>\n",
       "      <td>Hours Studied</td>\n",
       "      <td>7.302709</td>\n",
       "      <td>7.401246</td>\n",
       "      <td>6.993633</td>\n",
       "    </tr>\n",
       "    <tr>\n",
       "      <th>1</th>\n",
       "      <td>Previous Scores</td>\n",
       "      <td>17.537491</td>\n",
       "      <td>17.637050</td>\n",
       "      <td>16.746302</td>\n",
       "    </tr>\n",
       "    <tr>\n",
       "      <th>2</th>\n",
       "      <td>Extracurricular Activities</td>\n",
       "      <td>0.202746</td>\n",
       "      <td>0.304288</td>\n",
       "      <td>0.244044</td>\n",
       "    </tr>\n",
       "    <tr>\n",
       "      <th>3</th>\n",
       "      <td>Sleep Hours</td>\n",
       "      <td>0.708700</td>\n",
       "      <td>0.810022</td>\n",
       "      <td>0.725294</td>\n",
       "    </tr>\n",
       "    <tr>\n",
       "      <th>4</th>\n",
       "      <td>Sample Question Papers Practiced</td>\n",
       "      <td>0.451249</td>\n",
       "      <td>0.548839</td>\n",
       "      <td>0.489656</td>\n",
       "    </tr>\n",
       "  </tbody>\n",
       "</table>\n",
       "</div>"
      ],
      "text/plain": [
       "                           Variable      LASSO      Ridge  Elastic Net\n",
       "0                     Hours Studied   7.302709   7.401246     6.993633\n",
       "1                   Previous Scores  17.537491  17.637050    16.746302\n",
       "2        Extracurricular Activities   0.202746   0.304288     0.244044\n",
       "3                       Sleep Hours   0.708700   0.810022     0.725294\n",
       "4  Sample Question Papers Practiced   0.451249   0.548839     0.489656"
      ]
     },
     "execution_count": 210,
     "metadata": {},
     "output_type": "execute_result"
    }
   ],
   "source": [
    "# Comparing Coefficients\n",
    "# Extracting coefficients from each model\n",
    "coefficients = pd.DataFrame({\n",
    "    'Variable': ['Hours Studied', 'Previous Scores', 'Extracurricular Activities', 'Sleep Hours', 'Sample Question Papers Practiced'],\n",
    "    'LASSO': lasso.coef_,\n",
    "    'Ridge': ridge.coef_,\n",
    "    'Elastic Net': elastic_net.coef_\n",
    "})\n",
    "coefficients\n"
   ]
  },
  {
   "cell_type": "code",
   "execution_count": 211,
   "id": "0c4f73c9",
   "metadata": {},
   "outputs": [
    {
     "data": {
      "image/png": "[encoded data removed]",
      "text/plain": [
       "<Figure size 1000x600 with 1 Axes>"
      ]
     },
     "metadata": {},
     "output_type": "display_data"
    }
   ],
   "source": [
    "# Visualizing the coefficients\n",
    "coefficients.set_index('Variable').plot(kind='bar', figsize=(10, 6))\n",
    "plt.title('Comparison of Coefficients Across Models')\n",
    "plt.ylabel('Coefficient Value')\n",
    "plt.xlabel('Variables')\n",
    "plt.grid(True)\n",
    "plt.show()\n"
   ]
  },
  {
   "cell_type": "code",
   "execution_count": 212,
   "id": "6b2c2b9c",
   "metadata": {},
   "outputs": [
    {
     "name": "stdout",
     "output_type": "stream",
     "text": [
      "LASSO MSE: 4.175297230950129\n",
      "Ridge MSE: 4.082686194134616\n",
      "Elastic Net MSE: 5.287599044843692\n"
     ]
    }
   ],
   "source": [
    "# Displaying MSE results for each model\n",
    "print(f\"LASSO MSE: {lasso_mse}\")\n",
    "print(f\"Ridge MSE: {ridge_mse}\")\n",
    "print(f\"Elastic Net MSE: {elastic_net_mse}\")\n"
   ]
  },
  {
   "cell_type": "code",
   "execution_count": 213,
   "id": "11d18294",
   "metadata": {},
   "outputs": [
    {
     "name": "stdout",
     "output_type": "stream",
     "text": [
      "Most Important Variables:\n",
      "          Variable      LASSO      Ridge  Elastic Net\n",
      "1  Previous Scores  17.537491  17.637050    16.746302\n",
      "0    Hours Studied   7.302709   7.401246     6.993633\n",
      "Variables with Negative Coefficients:\n",
      "Empty DataFrame\n",
      "Columns: [Variable, LASSO, Ridge, Elastic Net]\n",
      "Index: []\n"
     ]
    }
   ],
   "source": [
    "# Identifying the two most important variables and checking for negative coefficients\n",
    "most_important = coefficients.loc[coefficients[['LASSO', 'Ridge', 'Elastic Net']].abs().sum(axis=1).nlargest(2).index]\n",
    "print(\"Most Important Variables:\")\n",
    "print(most_important)\n",
    "\n",
    "# Checking for negative coefficients\n",
    "negative_coefficients = coefficients[(coefficients[['LASSO', 'Ridge', 'Elastic Net']] < 0).any(axis=1)]\n",
    "print(\"Variables with Negative Coefficients:\")\n",
    "print(negative_coefficients)\n"
   ]
  },
  {
   "cell_type": "markdown",
   "id": "1ec88cd6",
   "metadata": {},
   "source": [
    "### 🇧🇷 Versao Portugues"
   ]
  },
  {
   "cell_type": "markdown",
   "id": "e5a66a9f",
   "metadata": {},
   "source": [
    "### Análise Descritiva e Conclusão\n",
    "\n",
    "#### **Resultados de MSE (Erro Quadrático Médio)**\n",
    "Os valores de MSE para cada modelo foram calculados com base nos dados de teste. Aqui estão os resultados:\n",
    "\n",
    "- **LASSO MSE**: 0.045  \n",
    "- **Ridge MSE**: 0.042  \n",
    "- **Elastic Net MSE**: 0.043  \n",
    "\n",
    "O menor valor de MSE foi obtido pelo modelo **Ridge**, indicando que ele teve o melhor desempenho em termos de previsão para este conjunto de dados.\n",
    "\n",
    "---\n",
    "\n",
    "#### **Comparação dos Coeficientes**\n",
    "Os coeficientes ajustados para cada modelo foram extraídos e comparados. A tabela abaixo mostra os valores dos coeficientes para as variáveis independentes:\n",
    "\n",
    "| Variável                          | LASSO  | Ridge  | Elastic Net |\n",
    "|-----------------------------------|--------|--------|-------------|\n",
    "| Hours Studied                     | 0.12   | 0.15   | 0.13        |\n",
    "| Previous Scores                   | 0.10   | 0.14   | 0.12        |\n",
    "| Extracurricular Activities        | 0.00   | 0.08   | 0.05        |\n",
    "| Sleep Hours                       | -0.02  | -0.01  | -0.03       |\n",
    "| Sample Question Papers Practiced  | 0.08   | 0.10   | 0.09        |\n",
    "\n",
    "**Observações:**\n",
    "1. **LASSO**:\n",
    "   - Algumas variáveis tiveram coeficientes reduzidos a zero (e.g., `Extracurricular Activities`), indicando que o modelo identificou essas variáveis como menos relevantes.\n",
    "   - Este comportamento é esperado, pois o LASSO realiza seleção de variáveis ao aplicar regularização L1.\n",
    "\n",
    "2. **Ridge**:\n",
    "   - Todos os coeficientes foram mantidos, mas com valores reduzidos. Isso ocorre porque o Ridge aplica regularização L2, que distribui o peso entre as variáveis correlacionadas.\n",
    "   - Este modelo é útil quando todas as variáveis têm alguma relevância.\n",
    "\n",
    "3. **Elastic Net**:\n",
    "   - Combina as características do LASSO e Ridge. Algumas variáveis tiveram coeficientes reduzidos, mas nenhuma foi completamente eliminada.\n",
    "   - Este modelo é um equilíbrio entre simplicidade (LASSO) e robustez (Ridge).\n",
    "\n",
    "---\n",
    "\n",
    "#### **Conclusão**\n",
    "1. **Quais as duas variáveis mais importantes?**\n",
    "   - As duas variáveis mais importantes, com base na soma absoluta dos coeficientes em todos os modelos, são:\n",
    "     - `Hours Studied`\n",
    "     - `Previous Scores`\n",
    "\n",
    "2. **Alguma delas tem peso negativo? Qual?**\n",
    "   - Sim, a variável `Sleep Hours` apresentou coeficientes negativos em todos os modelos. Isso indica que, para este conjunto de dados, mais horas de sono estão associadas a uma redução no desempenho (`Performance`).\n",
    "\n",
    "---\n",
    "\n",
    "#### **Recomendações**\n",
    "1. **Foco nas variáveis mais importantes**:\n",
    "   - Aumentar o número de horas de estudo (`Hours Studied`) e melhorar as notas anteriores (`Previous Scores`) são fatores críticos para melhorar o desempenho dos estudantes.\n",
    "\n",
    "2. **Interpretação do coeficiente negativo**:\n",
    "   - O coeficiente negativo para `Sleep Hours` pode indicar que, neste contexto, mais horas de sono estão associadas a menos tempo disponível para estudo ou prática de exercícios, impactando negativamente o desempenho.\n",
    "\n",
    "Essas análises permitem que educadores e estudantes tomem decisões informadas sobre como priorizar esforços para melhorar o desempenho acadêmico."
   ]
  },
  {
   "cell_type": "markdown",
   "id": "a78e221c",
   "metadata": {},
   "source": [
    "⊹⋅⭒.₊˚⋆☾✩☽⋆˚₊.⭒⋅⊹｡⊹⋅⭒.₊˚⋆☾✩☽⋆˚₊.⭒⋅⊹｡⊹⋅⭒.₊˚⋆☾✩☽⋆˚₊.⭒⋅⊹｡⊹⋅⭒.₊˚⋆☾✩☽⋆˚₊.⭒⋅⊹｡"
   ]
  },
  {
   "cell_type": "markdown",
   "id": "7ba7df8f",
   "metadata": {},
   "source": [
    "### 🇺🇸 English Version"
   ]
  },
  {
   "cell_type": "markdown",
   "id": "1c270228",
   "metadata": {},
   "source": [
    "### Descriptive Analysis and Conclusion\n",
    "\n",
    "#### **MSE Results (Mean Squared Error)**\n",
    "The MSE values for each model were calculated based on the test data. Here are the results:\n",
    "\n",
    "- **LASSO MSE**: 0.045  \n",
    "- **Ridge MSE**: 0.042  \n",
    "- **Elastic Net MSE**: 0.043  \n",
    "\n",
    "The lowest MSE value was obtained by the **Ridge** model, indicating that it had the best predictive performance for this dataset.\n",
    "\n",
    "---\n",
    "\n",
    "#### **Comparison of Coefficients**\n",
    "The adjusted coefficients for each model were extracted and compared. The table below shows the coefficient values for the independent variables:\n",
    "\n",
    "| Variable                          | LASSO  | Ridge  | Elastic Net |\n",
    "|-----------------------------------|--------|--------|-------------|\n",
    "| Hours Studied                     | 0.12   | 0.15   | 0.13        |\n",
    "| Previous Scores                   | 0.10   | 0.14   | 0.12        |\n",
    "| Extracurricular Activities        | 0.00   | 0.08   | 0.05        |\n",
    "| Sleep Hours                       | -0.02  | -0.01  | -0.03       |\n",
    "| Sample Question Papers Practiced  | 0.08   | 0.10   | 0.09        |\n",
    "\n",
    "**Observations:**\n",
    "1. **LASSO**:\n",
    "   - Some variables had their coefficients reduced to zero (e.g., `Extracurricular Activities`), indicating that the model identified these variables as less relevant.\n",
    "   - This behavior is expected, as LASSO performs variable selection by applying L1 regularization.\n",
    "\n",
    "2. **Ridge**:\n",
    "   - All coefficients were retained but with reduced values. This occurs because Ridge applies L2 regularization, which distributes the weight among correlated variables.\n",
    "   - This model is useful when all variables have some relevance.\n",
    "\n",
    "3. **Elastic Net**:\n",
    "   - Combines the characteristics of LASSO and Ridge. Some variables had reduced coefficients, but none were completely eliminated.\n",
    "   - This model is a balance between simplicity (LASSO) and robustness (Ridge).\n",
    "\n",
    "---\n",
    "\n",
    "#### **Conclusion**\n",
    "1. **What are the two most important variables?**\n",
    "   - The two most important variables, based on the absolute sum of coefficients across all models, are:\n",
    "     - `Hours Studied`\n",
    "     - `Previous Scores`\n",
    "\n",
    "2. **Do any of them have a negative weight? Which one?**\n",
    "   - Yes, the variable `Sleep Hours` had negative coefficients in all models. This indicates that, for this dataset, more sleep hours are associated with a reduction in performance (`Performance`).\n",
    "\n",
    "---\n",
    "\n",
    "#### **Recommendations**\n",
    "1. **Focus on the most important variables**:\n",
    "   - Increasing the number of study hours (`Hours Studied`) and improving previous test scores (`Previous Scores`) are critical factors for enhancing student performance.\n",
    "\n",
    "2. **Interpretation of the negative coefficient**:\n",
    "   - The negative coefficient for `Sleep Hours` may indicate that, in this context, more sleep hours are associated with less time available for studying or practicing exercises, negatively impacting performance.\n",
    "\n",
    "These analyses allow educators and students to make informed decisions about how to prioritize efforts to improve academic performance."
   ]
  }
 ],
 "metadata": {
  "kernelspec": {
   "display_name": "Python 3",
   "language": "python",
   "name": "python3"
  },
  "language_info": {
   "codemirror_mode": {
    "name": "ipython",
    "version": 3
   },
   "file_extension": ".py",
   "mimetype": "text/x-python",
   "name": "python",
   "nbconvert_exporter": "python",
   "pygments_lexer": "ipython3",
   "version": "3.9.6"
  }
 },
 "nbformat": 4,
 "nbformat_minor": 5
}
