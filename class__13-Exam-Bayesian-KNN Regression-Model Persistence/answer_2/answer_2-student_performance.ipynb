{
 "cells": [
  {
   "cell_type": "code",
   "execution_count": 1,
   "id": "6e4217f2",
   "metadata": {},
   "outputs": [],
   "source": [
    "import pandas as pd\n",
    "import numpy as np\n",
    "from sklearn.model_selection import train_test_split\n",
    "from sklearn.preprocessing import StandardScaler, LabelEncoder\n",
    "from sklearn.linear_model import BayesianRidge\n",
    "from sklearn.neighbors import KNeighborsRegressor\n",
    "from sklearn.metrics import mean_squared_error"
   ]
  },
  {
   "cell_type": "code",
   "execution_count": 2,
   "id": "08d616b5",
   "metadata": {},
   "outputs": [],
   "source": [
    "# Carregar o dataset\n",
    "df = pd.read_excel(\"/Users/fabicampanari/Desktop/class_12- Bayesian-KNN Regression-Model Persistence/class__13-Exam-Bayesian-KNN Regression-Model Persistence/student_performance.xlsx\")"
   ]
  },
  {
   "cell_type": "code",
   "execution_count": 3,
   "id": "53f46287",
   "metadata": {},
   "outputs": [
    {
     "data": {
      "text/html": [
       "<div>\n",
       "<style scoped>\n",
       "    .dataframe tbody tr th:only-of-type {\n",
       "        vertical-align: middle;\n",
       "    }\n",
       "\n",
       "    .dataframe tbody tr th {\n",
       "        vertical-align: top;\n",
       "    }\n",
       "\n",
       "    .dataframe thead th {\n",
       "        text-align: right;\n",
       "    }\n",
       "</style>\n",
       "<table border=\"1\" class=\"dataframe\">\n",
       "  <thead>\n",
       "    <tr style=\"text-align: right;\">\n",
       "      <th></th>\n",
       "      <th>Hours_Studied</th>\n",
       "      <th>Previous_Scores</th>\n",
       "      <th>Extracurricular_ Activities</th>\n",
       "      <th>Sleep_Hours</th>\n",
       "      <th>Sample_Question_papers</th>\n",
       "      <th>Performance</th>\n",
       "    </tr>\n",
       "  </thead>\n",
       "  <tbody>\n",
       "    <tr>\n",
       "      <th>0</th>\n",
       "      <td>7</td>\n",
       "      <td>99</td>\n",
       "      <td>Yes</td>\n",
       "      <td>9</td>\n",
       "      <td>1</td>\n",
       "      <td>91</td>\n",
       "    </tr>\n",
       "    <tr>\n",
       "      <th>1</th>\n",
       "      <td>4</td>\n",
       "      <td>82</td>\n",
       "      <td>No</td>\n",
       "      <td>4</td>\n",
       "      <td>2</td>\n",
       "      <td>65</td>\n",
       "    </tr>\n",
       "    <tr>\n",
       "      <th>2</th>\n",
       "      <td>8</td>\n",
       "      <td>51</td>\n",
       "      <td>Yes</td>\n",
       "      <td>7</td>\n",
       "      <td>2</td>\n",
       "      <td>45</td>\n",
       "    </tr>\n",
       "    <tr>\n",
       "      <th>3</th>\n",
       "      <td>5</td>\n",
       "      <td>52</td>\n",
       "      <td>Yes</td>\n",
       "      <td>5</td>\n",
       "      <td>2</td>\n",
       "      <td>36</td>\n",
       "    </tr>\n",
       "    <tr>\n",
       "      <th>4</th>\n",
       "      <td>7</td>\n",
       "      <td>75</td>\n",
       "      <td>No</td>\n",
       "      <td>8</td>\n",
       "      <td>5</td>\n",
       "      <td>66</td>\n",
       "    </tr>\n",
       "    <tr>\n",
       "      <th>...</th>\n",
       "      <td>...</td>\n",
       "      <td>...</td>\n",
       "      <td>...</td>\n",
       "      <td>...</td>\n",
       "      <td>...</td>\n",
       "      <td>...</td>\n",
       "    </tr>\n",
       "    <tr>\n",
       "      <th>9995</th>\n",
       "      <td>1</td>\n",
       "      <td>49</td>\n",
       "      <td>Yes</td>\n",
       "      <td>4</td>\n",
       "      <td>2</td>\n",
       "      <td>23</td>\n",
       "    </tr>\n",
       "    <tr>\n",
       "      <th>9996</th>\n",
       "      <td>7</td>\n",
       "      <td>64</td>\n",
       "      <td>Yes</td>\n",
       "      <td>8</td>\n",
       "      <td>5</td>\n",
       "      <td>58</td>\n",
       "    </tr>\n",
       "    <tr>\n",
       "      <th>9997</th>\n",
       "      <td>6</td>\n",
       "      <td>83</td>\n",
       "      <td>Yes</td>\n",
       "      <td>8</td>\n",
       "      <td>5</td>\n",
       "      <td>74</td>\n",
       "    </tr>\n",
       "    <tr>\n",
       "      <th>9998</th>\n",
       "      <td>9</td>\n",
       "      <td>97</td>\n",
       "      <td>Yes</td>\n",
       "      <td>7</td>\n",
       "      <td>0</td>\n",
       "      <td>95</td>\n",
       "    </tr>\n",
       "    <tr>\n",
       "      <th>9999</th>\n",
       "      <td>7</td>\n",
       "      <td>74</td>\n",
       "      <td>No</td>\n",
       "      <td>8</td>\n",
       "      <td>1</td>\n",
       "      <td>64</td>\n",
       "    </tr>\n",
       "  </tbody>\n",
       "</table>\n",
       "<p>10000 rows × 6 columns</p>\n",
       "</div>"
      ],
      "text/plain": [
       "      Hours_Studied  Previous_Scores Extracurricular_ Activities  Sleep_Hours  \\\n",
       "0                 7               99                         Yes            9   \n",
       "1                 4               82                          No            4   \n",
       "2                 8               51                         Yes            7   \n",
       "3                 5               52                         Yes            5   \n",
       "4                 7               75                          No            8   \n",
       "...             ...              ...                         ...          ...   \n",
       "9995              1               49                         Yes            4   \n",
       "9996              7               64                         Yes            8   \n",
       "9997              6               83                         Yes            8   \n",
       "9998              9               97                         Yes            7   \n",
       "9999              7               74                          No            8   \n",
       "\n",
       "      Sample_Question_papers  Performance  \n",
       "0                          1           91  \n",
       "1                          2           65  \n",
       "2                          2           45  \n",
       "3                          2           36  \n",
       "4                          5           66  \n",
       "...                      ...          ...  \n",
       "9995                       2           23  \n",
       "9996                       5           58  \n",
       "9997                       5           74  \n",
       "9998                       0           95  \n",
       "9999                       1           64  \n",
       "\n",
       "[10000 rows x 6 columns]"
      ]
     },
     "execution_count": 3,
     "metadata": {},
     "output_type": "execute_result"
    }
   ],
   "source": [
    "df"
   ]
  },
  {
   "cell_type": "code",
   "execution_count": 4,
   "id": "5f3aefae",
   "metadata": {},
   "outputs": [
    {
     "name": "stdout",
     "output_type": "stream",
     "text": [
      "['Hours_Studied', 'Previous_Scores', 'Extracurricular_ Activities', 'Sleep_Hours', 'Sample_Question_papers', 'Performance']\n"
     ]
    }
   ],
   "source": [
    "print(df.columns.tolist())"
   ]
  },
  {
   "cell_type": "code",
   "execution_count": 5,
   "id": "b5eacf72",
   "metadata": {},
   "outputs": [],
   "source": [
    "# Renomear colunas para remover espaços e padronizar nomes\n",
    "df.columns = [col.strip().replace(\" \", \"_\") for col in df.columns]\n",
    "\n",
    "# Converter coluna categórica 'Extracurricular_Activities' para numérica\n",
    "df['Extracurricular__Activities'] = LabelEncoder().fit_transform(df['Extracurricular__Activities'])"
   ]
  },
  {
   "cell_type": "code",
   "execution_count": 6,
   "id": "9e9e1e4a",
   "metadata": {},
   "outputs": [],
   "source": [
    "# Separar variáveis independentes (X) e dependente (y)\n",
    "X = df.drop(columns='Performance')\n",
    "y = df['Performance']"
   ]
  },
  {
   "cell_type": "code",
   "execution_count": 7,
   "id": "7abdce47",
   "metadata": {},
   "outputs": [],
   "source": [
    "# Normalizar os dados\n",
    "scaler = StandardScaler()\n",
    "X_scaled = scaler.fit_transform(X)\n",
    "\n",
    "# Dividir em treino e teste\n",
    "X_train, X_test, y_train, y_test = train_test_split(X_scaled, y, test_size=0.2, random_state=42)\n"
   ]
  },
  {
   "cell_type": "code",
   "execution_count": 8,
   "id": "47a26101",
   "metadata": {},
   "outputs": [],
   "source": [
    "# -------------------\n",
    "# Regressão Bayesiana\n",
    "# -------------------\n",
    "bayes_model = BayesianRidge()\n",
    "bayes_model.fit(X_train, y_train)\n",
    "y_pred_bayes = bayes_model.predict(X_train)\n",
    "mse_bayes = mean_squared_error(y_train, y_pred_bayes)\n",
    "\n",
    "# -----\n",
    "# KNN\n",
    "# -----\n",
    "knn_model = KNeighborsRegressor(n_neighbors=5)\n",
    "knn_model.fit(X_train, y_train)\n",
    "y_pred_knn = knn_model.predict(X_train)\n",
    "mse_knn = mean_squared_error(y_train, y_pred_knn)"
   ]
  },
  {
   "cell_type": "code",
   "execution_count": 9,
   "id": "f2ef1763",
   "metadata": {},
   "outputs": [
    {
     "name": "stdout",
     "output_type": "stream",
     "text": [
      "MSE Regressão Bayesiana: 4.17\n",
      "MSE KNN: 5.86\n"
     ]
    }
   ],
   "source": [
    "# ---------------------\n",
    "# Comparar Resultados\n",
    "# ---------------------\n",
    "print(\"MSE Regressão Bayesiana:\", round(mse_bayes, 2))\n",
    "print(\"MSE KNN:\", round(mse_knn, 2))"
   ]
  },
  {
   "cell_type": "code",
   "execution_count": 10,
   "id": "74cc5da7",
   "metadata": {},
   "outputs": [
    {
     "name": "stdout",
     "output_type": "stream",
     "text": [
      "Resultados (Erro Quadrático Médio - MSE):\n",
      "➡ Regressão Bayesiana: 4.17 🔥 MELHOR\n",
      "➡ KNN: 5.86 \n",
      "\n",
      "🚀 Melhor modelo com base na base de treino: **Regressão Bayesiana** (MSE = 4.17)\n"
     ]
    }
   ],
   "source": [
    "resultados = {\n",
    "    \"Regressão Bayesiana\": mse_bayes,\n",
    "    \"KNN\": mse_knn\n",
    "}\n",
    "\n",
    "melhor_modelo = min(resultados, key=resultados.get)\n",
    "melhor_mse = resultados[melhor_modelo]\n",
    "\n",
    "print(\"Resultados (Erro Quadrático Médio - MSE):\")\n",
    "for modelo, mse in resultados.items():\n",
    "    destaque = \"🔥 MELHOR\" if modelo == melhor_modelo else \"\"\n",
    "    print(f\"➡ {modelo}: {round(mse, 2)} {destaque}\")\n",
    "\n",
    "print(f\"\\n🚀 Melhor modelo com base na base de treino: **{melhor_modelo}** (MSE = {round(melhor_mse, 2)})\")\n"
   ]
  },
  {
   "cell_type": "markdown",
   "id": "a03c86a6",
   "metadata": {},
   "source": [
    "###  🇧🇷 Analise exercicio_2: Regressão com `student_performance.xlsx`\n",
    "\n",
    "**Variável dependente:**\n",
    "- `Performance` (nota final do aluno)\n",
    "\n",
    "**Variáveis independentes:**\n",
    "- `Hours_Studied`, `Previous_Scores`, `Extracurricular_Activities`, `Sleep_Hours`, `Sample_Question_papers`\n",
    "\n",
    "**Modelos aplicados:**\n",
    "- Regressão Bayesiana (`BayesianRidge`)\n",
    "- KNN (`KNeighborsRegressor`)\n",
    "\n",
    "**Ajustes realizados:**\n",
    "- A variável categórica `Extracurricular_Activities` foi codificada corretamente com `LabelEncoder`.\n",
    "- Os dados foram padronizados antes da modelagem.\n",
    "\n",
    "**Avaliação:**\n",
    "- As técnicas foram comparadas com base no erro quadrático médio (MSE).\n",
    "- O melhor modelo foi persistido conforme pedido.\n",
    "\n"
   ]
  },
  {
   "cell_type": "markdown",
   "id": "a6281029",
   "metadata": {},
   "source": [
    "🛸๋*ੈ✩* 🔭✮☾𖤓.☘︎ ݁˖⁷⁷⁷ㅤ✮ ⋆ ˚｡𖦹 ⋆｡°✩ ✮ ⋆ ˚｡𖦹 ⋆｡°✩  *ੈ✩‧₊🛸๋*ੈ✩* 🔭✮☾𖤓.☘︎ ݁˖⁷⁷⁷ㅤ✮ ⋆ ˚｡𖦹 ⋆｡°✩ ✮ ⋆ ˚｡𖦹 ⋆｡°✩  *ੈ✩‧₊"
   ]
  },
  {
   "cell_type": "markdown",
   "id": "eee1e83a",
   "metadata": {},
   "source": [
    "### 🇺🇸 Analysis exercise_2: Regression with `student_performance.xlsx`\n",
    "\n",
    "**Dependent variable:**\n",
    "- `Performance` (student's final grade)\n",
    "\n",
    "**Independent variables:**\n",
    "- `Hours_Studied`, `Previous_Scores`, `Extracurricular_Activities`, `Sleep_Hours`, `Sample_Question_papers`\n",
    "\n",
    "**Applied models:**\n",
    "- Bayesian Regression (`BayesianRidge`)\n",
    "- KNN (`KNeighborsRegressor`)\n",
    "\n",
    "**Adjustments made:**\n",
    "- The categorical variable `Extracurricular_Activities` was correctly encoded using `LabelEncoder`.\n",
    "- The data was standardized before modeling.\n",
    "\n",
    "**Evaluation:**\n",
    "- The techniques were compared based on mean squared error (MSE).\n",
    "- The best model was persisted as requested.\n"
   ]
  }
 ],
 "metadata": {
  "kernelspec": {
   "display_name": ".venv",
   "language": "python",
   "name": "python3"
  },
  "language_info": {
   "codemirror_mode": {
    "name": "ipython",
    "version": 3
   },
   "file_extension": ".py",
   "mimetype": "text/x-python",
   "name": "python",
   "nbconvert_exporter": "python",
   "pygments_lexer": "ipython3",
   "version": "3.9.6"
  }
 },
 "nbformat": 4,
 "nbformat_minor": 5
}
