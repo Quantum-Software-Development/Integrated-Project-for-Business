{
  "cells": [
    {
      "cell_type": "code",
      "execution_count": 38,
      "metadata": {},
      "outputs": [
        {
          "name": "stdout",
          "output_type": "stream",
          "text": [
            "Requirement already satisfied: scikit-learn in ./.venv/lib/python3.9/site-packages (1.6.1)\n",
            "Requirement already satisfied: numpy>=1.19.5 in ./.venv/lib/python3.9/site-packages (from scikit-learn) (1.26.4)\n",
            "Requirement already satisfied: scipy>=1.6.0 in ./.venv/lib/python3.9/site-packages (from scikit-learn) (1.13.1)\n",
            "Requirement already satisfied: joblib>=1.2.0 in ./.venv/lib/python3.9/site-packages (from scikit-learn) (1.5.1)\n",
            "Requirement already satisfied: threadpoolctl>=3.1.0 in ./.venv/lib/python3.9/site-packages (from scikit-learn) (3.6.0)\n"
          ]
        }
      ],
      "source": [
        "!pip install scikit-learn"
      ]
    },
    {
      "cell_type": "code",
      "execution_count": 39,
      "metadata": {
        "id": "ejimWnjOa0NZ"
      },
      "outputs": [],
      "source": [
        "import pandas as pd\n",
        "import numpy as np\n",
        "from sklearn.model_selection import train_test_split\n",
        "from sklearn.preprocessing import StandardScaler, LabelEncoder\n",
        "from sklearn.linear_model import BayesianRidge\n",
        "from sklearn.neighbors import KNeighborsRegressor\n",
        "from sklearn.metrics import mean_squared_error"
      ]
    },
    {
      "cell_type": "code",
      "execution_count": 40,
      "metadata": {
        "colab": {
          "base_uri": "https://localhost:8080/",
          "height": 424
        },
        "id": "tmOTJkVsbe7l",
        "outputId": "6fedb30e-075f-439b-e0c1-8b2525485561"
      },
      "outputs": [
        {
          "name": "stdout",
          "output_type": "stream",
          "text": [
            "Requirement already satisfied: openpyxl in ./.venv/lib/python3.9/site-packages (3.1.5)\n",
            "Requirement already satisfied: et-xmlfile in ./.venv/lib/python3.9/site-packages (from openpyxl) (2.0.0)\n",
            "Note: you may need to restart the kernel to use updated packages.\n"
          ]
        },
        {
          "data": {
            "text/html": [
              "<div>\n",
              "<style scoped>\n",
              "    .dataframe tbody tr th:only-of-type {\n",
              "        vertical-align: middle;\n",
              "    }\n",
              "\n",
              "    .dataframe tbody tr th {\n",
              "        vertical-align: top;\n",
              "    }\n",
              "\n",
              "    .dataframe thead th {\n",
              "        text-align: right;\n",
              "    }\n",
              "</style>\n",
              "<table border=\"1\" class=\"dataframe\">\n",
              "  <thead>\n",
              "    <tr style=\"text-align: right;\">\n",
              "      <th></th>\n",
              "      <th>x1</th>\n",
              "      <th>x2</th>\n",
              "      <th>x3</th>\n",
              "      <th>x4</th>\n",
              "      <th>x5</th>\n",
              "      <th>x6</th>\n",
              "      <th>x7</th>\n",
              "      <th>x8</th>\n",
              "      <th>x9</th>\n",
              "    </tr>\n",
              "  </thead>\n",
              "  <tbody>\n",
              "    <tr>\n",
              "      <th>0</th>\n",
              "      <td>4.1</td>\n",
              "      <td>0.6</td>\n",
              "      <td>6.9</td>\n",
              "      <td>4.7</td>\n",
              "      <td>2.4</td>\n",
              "      <td>2.3</td>\n",
              "      <td>5.2</td>\n",
              "      <td>1</td>\n",
              "      <td>32</td>\n",
              "    </tr>\n",
              "    <tr>\n",
              "      <th>1</th>\n",
              "      <td>6.0</td>\n",
              "      <td>0.9</td>\n",
              "      <td>9.6</td>\n",
              "      <td>7.8</td>\n",
              "      <td>3.4</td>\n",
              "      <td>4.6</td>\n",
              "      <td>4.5</td>\n",
              "      <td>3</td>\n",
              "      <td>58</td>\n",
              "    </tr>\n",
              "    <tr>\n",
              "      <th>2</th>\n",
              "      <td>4.6</td>\n",
              "      <td>2.4</td>\n",
              "      <td>9.5</td>\n",
              "      <td>6.6</td>\n",
              "      <td>3.5</td>\n",
              "      <td>4.5</td>\n",
              "      <td>7.6</td>\n",
              "      <td>1</td>\n",
              "      <td>46</td>\n",
              "    </tr>\n",
              "    <tr>\n",
              "      <th>3</th>\n",
              "      <td>5.5</td>\n",
              "      <td>1.6</td>\n",
              "      <td>9.4</td>\n",
              "      <td>4.7</td>\n",
              "      <td>3.5</td>\n",
              "      <td>3.0</td>\n",
              "      <td>7.6</td>\n",
              "      <td>3</td>\n",
              "      <td>63</td>\n",
              "    </tr>\n",
              "    <tr>\n",
              "      <th>4</th>\n",
              "      <td>2.4</td>\n",
              "      <td>1.6</td>\n",
              "      <td>8.8</td>\n",
              "      <td>4.8</td>\n",
              "      <td>2.0</td>\n",
              "      <td>2.8</td>\n",
              "      <td>5.8</td>\n",
              "      <td>1</td>\n",
              "      <td>32</td>\n",
              "    </tr>\n",
              "    <tr>\n",
              "      <th>...</th>\n",
              "      <td>...</td>\n",
              "      <td>...</td>\n",
              "      <td>...</td>\n",
              "      <td>...</td>\n",
              "      <td>...</td>\n",
              "      <td>...</td>\n",
              "      <td>...</td>\n",
              "      <td>...</td>\n",
              "      <td>...</td>\n",
              "    </tr>\n",
              "    <tr>\n",
              "      <th>95</th>\n",
              "      <td>2.9</td>\n",
              "      <td>1.2</td>\n",
              "      <td>7.3</td>\n",
              "      <td>6.1</td>\n",
              "      <td>2.0</td>\n",
              "      <td>2.5</td>\n",
              "      <td>8.0</td>\n",
              "      <td>1</td>\n",
              "      <td>34</td>\n",
              "    </tr>\n",
              "    <tr>\n",
              "      <th>96</th>\n",
              "      <td>1.9</td>\n",
              "      <td>2.7</td>\n",
              "      <td>5.0</td>\n",
              "      <td>4.9</td>\n",
              "      <td>2.2</td>\n",
              "      <td>2.5</td>\n",
              "      <td>8.2</td>\n",
              "      <td>1</td>\n",
              "      <td>36</td>\n",
              "    </tr>\n",
              "    <tr>\n",
              "      <th>97</th>\n",
              "      <td>0.6</td>\n",
              "      <td>1.6</td>\n",
              "      <td>6.4</td>\n",
              "      <td>5.0</td>\n",
              "      <td>0.7</td>\n",
              "      <td>2.1</td>\n",
              "      <td>8.4</td>\n",
              "      <td>1</td>\n",
              "      <td>25</td>\n",
              "    </tr>\n",
              "    <tr>\n",
              "      <th>98</th>\n",
              "      <td>2.0</td>\n",
              "      <td>2.8</td>\n",
              "      <td>5.2</td>\n",
              "      <td>5.0</td>\n",
              "      <td>2.4</td>\n",
              "      <td>2.7</td>\n",
              "      <td>8.4</td>\n",
              "      <td>1</td>\n",
              "      <td>38</td>\n",
              "    </tr>\n",
              "    <tr>\n",
              "      <th>99</th>\n",
              "      <td>3.1</td>\n",
              "      <td>2.2</td>\n",
              "      <td>6.7</td>\n",
              "      <td>6.8</td>\n",
              "      <td>2.6</td>\n",
              "      <td>2.9</td>\n",
              "      <td>8.4</td>\n",
              "      <td>1</td>\n",
              "      <td>42</td>\n",
              "    </tr>\n",
              "  </tbody>\n",
              "</table>\n",
              "<p>100 rows × 9 columns</p>\n",
              "</div>"
            ],
            "text/plain": [
              "     x1   x2   x3   x4   x5   x6   x7  x8  x9\n",
              "0   4.1  0.6  6.9  4.7  2.4  2.3  5.2   1  32\n",
              "1   6.0  0.9  9.6  7.8  3.4  4.6  4.5   3  58\n",
              "2   4.6  2.4  9.5  6.6  3.5  4.5  7.6   1  46\n",
              "3   5.5  1.6  9.4  4.7  3.5  3.0  7.6   3  63\n",
              "4   2.4  1.6  8.8  4.8  2.0  2.8  5.8   1  32\n",
              "..  ...  ...  ...  ...  ...  ...  ...  ..  ..\n",
              "95  2.9  1.2  7.3  6.1  2.0  2.5  8.0   1  34\n",
              "96  1.9  2.7  5.0  4.9  2.2  2.5  8.2   1  36\n",
              "97  0.6  1.6  6.4  5.0  0.7  2.1  8.4   1  25\n",
              "98  2.0  2.8  5.2  5.0  2.4  2.7  8.4   1  38\n",
              "99  3.1  2.2  6.7  6.8  2.6  2.9  8.4   1  42\n",
              "\n",
              "[100 rows x 9 columns]"
            ]
          },
          "execution_count": 40,
          "metadata": {},
          "output_type": "execute_result"
        }
      ],
      "source": [
        "%pip install openpyxl\n",
        "\n",
        "# --------------------------\n",
        "# 1. Carregar e preparar os dados\n",
        "# --------------------------\n",
        "df_biscobis = pd.read_excel('/Users/fabicampanari/Desktop/class_12- Bayesian-KNN Regression-Model Persistence/class__13-Exam-Bayesian-KNN Regression-Model Persistence/Biscobis.xlsx')\n",
        "df_biscobis"
      ]
    },
    {
      "cell_type": "code",
      "execution_count": 41,
      "metadata": {
        "id": "_UZz_9zncpL9"
      },
      "outputs": [],
      "source": [
        "X_df_biscobis = df_biscobis[['x1', 'x2', 'x3', 'x4', 'x5', 'x6', 'x7']]\n",
        "y_df_biscobis = df_biscobis['x9']\n",
        "\n",
        "# Normalização\n",
        "scaler = StandardScaler()\n",
        "X_scaled_X_df_biscobis = scaler.fit_transform(X_df_biscobis)"
      ]
    },
    {
      "cell_type": "code",
      "execution_count": 42,
      "metadata": {
        "colab": {
          "base_uri": "https://localhost:8080/",
          "height": 424
        },
        "id": "z2hUsu3Ucpm1",
        "outputId": "e8e0c389-d3ea-4ad4-f431-e82565ce40a2"
      },
      "outputs": [
        {
          "data": {
            "text/html": [
              "<div>\n",
              "<style scoped>\n",
              "    .dataframe tbody tr th:only-of-type {\n",
              "        vertical-align: middle;\n",
              "    }\n",
              "\n",
              "    .dataframe tbody tr th {\n",
              "        vertical-align: top;\n",
              "    }\n",
              "\n",
              "    .dataframe thead th {\n",
              "        text-align: right;\n",
              "    }\n",
              "</style>\n",
              "<table border=\"1\" class=\"dataframe\">\n",
              "  <thead>\n",
              "    <tr style=\"text-align: right;\">\n",
              "      <th></th>\n",
              "      <th>x1</th>\n",
              "      <th>x2</th>\n",
              "      <th>x3</th>\n",
              "      <th>x4</th>\n",
              "      <th>x5</th>\n",
              "      <th>x6</th>\n",
              "      <th>x7</th>\n",
              "    </tr>\n",
              "  </thead>\n",
              "  <tbody>\n",
              "    <tr>\n",
              "      <th>0</th>\n",
              "      <td>4.1</td>\n",
              "      <td>0.6</td>\n",
              "      <td>6.9</td>\n",
              "      <td>4.7</td>\n",
              "      <td>2.4</td>\n",
              "      <td>2.3</td>\n",
              "      <td>5.2</td>\n",
              "    </tr>\n",
              "    <tr>\n",
              "      <th>1</th>\n",
              "      <td>6.0</td>\n",
              "      <td>0.9</td>\n",
              "      <td>9.6</td>\n",
              "      <td>7.8</td>\n",
              "      <td>3.4</td>\n",
              "      <td>4.6</td>\n",
              "      <td>4.5</td>\n",
              "    </tr>\n",
              "    <tr>\n",
              "      <th>2</th>\n",
              "      <td>4.6</td>\n",
              "      <td>2.4</td>\n",
              "      <td>9.5</td>\n",
              "      <td>6.6</td>\n",
              "      <td>3.5</td>\n",
              "      <td>4.5</td>\n",
              "      <td>7.6</td>\n",
              "    </tr>\n",
              "    <tr>\n",
              "      <th>3</th>\n",
              "      <td>5.5</td>\n",
              "      <td>1.6</td>\n",
              "      <td>9.4</td>\n",
              "      <td>4.7</td>\n",
              "      <td>3.5</td>\n",
              "      <td>3.0</td>\n",
              "      <td>7.6</td>\n",
              "    </tr>\n",
              "    <tr>\n",
              "      <th>4</th>\n",
              "      <td>2.4</td>\n",
              "      <td>1.6</td>\n",
              "      <td>8.8</td>\n",
              "      <td>4.8</td>\n",
              "      <td>2.0</td>\n",
              "      <td>2.8</td>\n",
              "      <td>5.8</td>\n",
              "    </tr>\n",
              "    <tr>\n",
              "      <th>...</th>\n",
              "      <td>...</td>\n",
              "      <td>...</td>\n",
              "      <td>...</td>\n",
              "      <td>...</td>\n",
              "      <td>...</td>\n",
              "      <td>...</td>\n",
              "      <td>...</td>\n",
              "    </tr>\n",
              "    <tr>\n",
              "      <th>95</th>\n",
              "      <td>2.9</td>\n",
              "      <td>1.2</td>\n",
              "      <td>7.3</td>\n",
              "      <td>6.1</td>\n",
              "      <td>2.0</td>\n",
              "      <td>2.5</td>\n",
              "      <td>8.0</td>\n",
              "    </tr>\n",
              "    <tr>\n",
              "      <th>96</th>\n",
              "      <td>1.9</td>\n",
              "      <td>2.7</td>\n",
              "      <td>5.0</td>\n",
              "      <td>4.9</td>\n",
              "      <td>2.2</td>\n",
              "      <td>2.5</td>\n",
              "      <td>8.2</td>\n",
              "    </tr>\n",
              "    <tr>\n",
              "      <th>97</th>\n",
              "      <td>0.6</td>\n",
              "      <td>1.6</td>\n",
              "      <td>6.4</td>\n",
              "      <td>5.0</td>\n",
              "      <td>0.7</td>\n",
              "      <td>2.1</td>\n",
              "      <td>8.4</td>\n",
              "    </tr>\n",
              "    <tr>\n",
              "      <th>98</th>\n",
              "      <td>2.0</td>\n",
              "      <td>2.8</td>\n",
              "      <td>5.2</td>\n",
              "      <td>5.0</td>\n",
              "      <td>2.4</td>\n",
              "      <td>2.7</td>\n",
              "      <td>8.4</td>\n",
              "    </tr>\n",
              "    <tr>\n",
              "      <th>99</th>\n",
              "      <td>3.1</td>\n",
              "      <td>2.2</td>\n",
              "      <td>6.7</td>\n",
              "      <td>6.8</td>\n",
              "      <td>2.6</td>\n",
              "      <td>2.9</td>\n",
              "      <td>8.4</td>\n",
              "    </tr>\n",
              "  </tbody>\n",
              "</table>\n",
              "<p>100 rows × 7 columns</p>\n",
              "</div>"
            ],
            "text/plain": [
              "     x1   x2   x3   x4   x5   x6   x7\n",
              "0   4.1  0.6  6.9  4.7  2.4  2.3  5.2\n",
              "1   6.0  0.9  9.6  7.8  3.4  4.6  4.5\n",
              "2   4.6  2.4  9.5  6.6  3.5  4.5  7.6\n",
              "3   5.5  1.6  9.4  4.7  3.5  3.0  7.6\n",
              "4   2.4  1.6  8.8  4.8  2.0  2.8  5.8\n",
              "..  ...  ...  ...  ...  ...  ...  ...\n",
              "95  2.9  1.2  7.3  6.1  2.0  2.5  8.0\n",
              "96  1.9  2.7  5.0  4.9  2.2  2.5  8.2\n",
              "97  0.6  1.6  6.4  5.0  0.7  2.1  8.4\n",
              "98  2.0  2.8  5.2  5.0  2.4  2.7  8.4\n",
              "99  3.1  2.2  6.7  6.8  2.6  2.9  8.4\n",
              "\n",
              "[100 rows x 7 columns]"
            ]
          },
          "execution_count": 42,
          "metadata": {},
          "output_type": "execute_result"
        }
      ],
      "source": [
        "X_df_biscobis"
      ]
    },
    {
      "cell_type": "code",
      "execution_count": 43,
      "metadata": {
        "id": "iaSHAmOpdJdK"
      },
      "outputs": [],
      "source": [
        "# Adicionar intercepto para GD e SGD\n",
        "X_scaled_intercept = np.hstack((np.ones((X_scaled_X_df_biscobis.shape[0], 1)), X_scaled_X_df_biscobis))\n",
        "\n",
        "# Divisão treino/teste\n",
        "X_train, X_test, y_train, y_test = train_test_split(X_scaled_intercept, y_df_biscobis, test_size=0.2, random_state=42)\n",
        "X_train_knn, _, y_train_knn, _ = train_test_split(X_scaled_X_df_biscobis, y_df_biscobis, test_size=0.2, random_state=42)  # KNN usa sem intercepto\n"
      ]
    },
    {
      "cell_type": "code",
      "execution_count": 44,
      "metadata": {
        "id": "4Ev-BCLFdJgC"
      },
      "outputs": [],
      "source": [
        "# --------------------------\n",
        "# 2. Regressão Bayesiana\n",
        "# --------------------------\n",
        "bayes_model = BayesianRidge()\n",
        "bayes_model.fit(X_train[:, 1:], y_train)  # Remove intercepto para modelo scikit\n",
        "y_pred_bayes = bayes_model.predict(X_train[:, 1:])\n",
        "mse_bayes = mean_squared_error(y_train, y_pred_bayes)\n"
      ]
    },
    {
      "cell_type": "code",
      "execution_count": 45,
      "metadata": {
        "id": "9j-RKv2ndeKm"
      },
      "outputs": [],
      "source": [
        "# --------------------------\n",
        "# 3. KNN\n",
        "# --------------------------\n",
        "knn_model = KNeighborsRegressor(n_neighbors=5)\n",
        "knn_model.fit(X_train_knn, y_train_knn)\n",
        "y_pred_knn = knn_model.predict(X_train_knn)\n",
        "mse_knn = mean_squared_error(y_train_knn, y_pred_knn)"
      ]
    },
    {
      "cell_type": "code",
      "execution_count": 46,
      "metadata": {
        "id": "iK3bQEOqdeNF"
      },
      "outputs": [],
      "source": [
        "# --------------------------\n",
        "# 4. Gradiente Descendente\n",
        "# --------------------------\n",
        "def gradient_descent(X, y, lr=0.01, n_iter=1000):\n",
        "    m, n = X.shape\n",
        "    theta = np.zeros(n)\n",
        "    for _ in range(n_iter):\n",
        "        gradient = -2/m * X.T.dot(y - X.dot(theta))\n",
        "        theta -= lr * gradient\n",
        "    return theta\n",
        "\n",
        "theta_gd = gradient_descent(X_train, y_train.values, lr=0.01, n_iter=1000)\n",
        "y_pred_gd = X_train.dot(theta_gd)\n",
        "mse_gd = mean_squared_error(y_train, y_pred_gd)\n"
      ]
    },
    {
      "cell_type": "code",
      "execution_count": 47,
      "metadata": {
        "id": "fipUyNicdwnK"
      },
      "outputs": [],
      "source": [
        "# --------------------------\n",
        "# 5. Gradiente Descendente Estocástico\n",
        "# --------------------------\n",
        "def stochastic_gradient_descent(X, y, lr=0.01, n_iter=1000):\n",
        "    m, n = X.shape\n",
        "    theta = np.zeros(n)\n",
        "    for _ in range(n_iter):\n",
        "        for i in range(m):\n",
        "            idx = np.random.randint(m)\n",
        "            xi = X[idx, :].reshape(1, -1)\n",
        "            yi = y[idx]\n",
        "            gradient = -2 * xi.T.dot(yi - xi.dot(theta))\n",
        "            theta -= lr * gradient.ravel()\n",
        "    return theta\n",
        "\n",
        "theta_sgd = stochastic_gradient_descent(X_train, y_train.values, lr=0.01, n_iter=1000)\n",
        "y_pred_sgd = X_train.dot(theta_sgd)\n",
        "mse_sgd = mean_squared_error(y_train, y_pred_sgd)"
      ]
    },
    {
      "cell_type": "code",
      "execution_count": 48,
      "metadata": {
        "colab": {
          "base_uri": "https://localhost:8080/"
        },
        "id": "TeREtuMPfs0O",
        "outputId": "9eaa8821-c7c3-4528-cf48-8d18853b170c"
      },
      "outputs": [
        {
          "name": "stdout",
          "output_type": "stream",
          "text": [
            "🇧🇷Resultados (Erro Quadrático Médio - MSE):\n",
            "➡ Regressão Bayesiana: 17.5955 \n",
            "➡ KNN: 21.497 \n",
            "➡ Gradiente Descendente: 17.5372 🔥 MELHOR\n",
            "➡ Gradiente Descendente Estocástico: 17.9002 \n",
            "\n",
            "🚀 Melhor modelo com base na base de treino: **Gradiente Descendente** (MSE = 17.5372)\n"
          ]
        }
      ],
      "source": [
        "# --------------------------\n",
        "# 6. Resultados Finais\n",
        "# --------------------------\n",
        "resultados = {\n",
        "    \"Regressão Bayesiana\": mse_bayes,\n",
        "    \"KNN\": mse_knn,\n",
        "    \"Gradiente Descendente\": mse_gd,\n",
        "    \"Gradiente Descendente Estocástico\": mse_sgd\n",
        "}\n",
        "\n",
        "melhor_modelo = min(resultados, key=resultados.get)\n",
        "melhor_mse = resultados[melhor_modelo]\n",
        "\n",
        "print(\"🇧🇷Resultados (Erro Quadrático Médio - MSE):\")\n",
        "for modelo, mse in resultados.items():\n",
        "    destaque = \"🔥 MELHOR\" if modelo == melhor_modelo else \"\"\n",
        "    print(f\"➡ {modelo}: {round(mse, 4)} {destaque}\")\n",
        "\n",
        "print(f\"\\n🚀 Melhor modelo com base na base de treino: **{melhor_modelo}** (MSE = {round(melhor_mse, 4)})\")\n"
      ]
    },
    {
      "cell_type": "markdown",
      "metadata": {},
      "source": [
        "🛸๋*ੈ✩* 🔭✮☾𖤓.☘︎ ݁˖⁷⁷⁷ㅤ✮ ⋆ ˚｡𖦹 ⋆｡°✩ ✮ ⋆ ˚｡𖦹 ⋆｡°✩  *ੈ✩‧₊🛸๋*ੈ✩* 🔭✮☾𖤓.☘︎ ݁˖⁷⁷⁷ㅤ✮ ⋆ ˚｡𖦹 ⋆｡°✩ ✮ ⋆ ˚｡𖦹 ⋆｡°✩  *ੈ✩‧₊"
      ]
    },
    {
      "cell_type": "markdown",
      "metadata": {},
      "source": [
        "#### 🇺🇸Results (Mean Squared Error - MSE):\n",
        "➡ Bayesian Regression: 17.5955 \n",
        "➡ KNN: 21.497 \n",
        "➡ Gradient Descent: 17.5372 🔥 BEST\n",
        "➡ Stochastic Gradient Descent: 18.2634 \n",
        "\n",
        "🚀 Best model based on the training set: **Gradient Descent** (MSE = 17.5372)"
      ]
    },
    {
      "cell_type": "markdown",
      "metadata": {},
      "source": []
    }
  ],
  "metadata": {
    "colab": {
      "collapsed_sections": [
        "sYZZzZFPrKgK",
        "OZOEvVRNrqbD",
        "jqbZl5O3sSXr"
      ],
      "provenance": []
    },
    "kernelspec": {
      "display_name": ".venv",
      "language": "python",
      "name": "python3"
    },
    "language_info": {
      "codemirror_mode": {
        "name": "ipython",
        "version": 3
      },
      "file_extension": ".py",
      "mimetype": "text/x-python",
      "name": "python",
      "nbconvert_exporter": "python",
      "pygments_lexer": "ipython3",
      "version": "3.9.6"
    }
  },
  "nbformat": 4,
  "nbformat_minor": 0
}
