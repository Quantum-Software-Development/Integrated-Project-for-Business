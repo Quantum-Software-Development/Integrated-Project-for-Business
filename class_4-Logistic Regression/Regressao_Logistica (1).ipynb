{
 "cells": [
  {
   "cell_type": "code",
   "execution_count": 7,
   "id": "a1ca9b8f",
   "metadata": {},
   "outputs": [
    {
     "name": "stdout",
     "output_type": "stream",
     "text": [
      "Requirement already satisfied: stepwise_regression in c:\\users\\ebacc\\anaconda3\\envs\\modelo\\lib\\site-packages (1.0.3)\n",
      "Requirement already satisfied: statsmodels in c:\\users\\ebacc\\anaconda3\\envs\\modelo\\lib\\site-packages (from stepwise_regression) (0.14.0)\n",
      "Requirement already satisfied: pandas in c:\\users\\ebacc\\anaconda3\\envs\\modelo\\lib\\site-packages (from stepwise_regression) (2.0.3)\n",
      "Requirement already satisfied: python-dateutil>=2.8.2 in c:\\users\\ebacc\\anaconda3\\envs\\modelo\\lib\\site-packages (from pandas->stepwise_regression) (2.8.2)\n",
      "Requirement already satisfied: pytz>=2020.1 in c:\\users\\ebacc\\anaconda3\\envs\\modelo\\lib\\site-packages (from pandas->stepwise_regression) (2023.3.post1)\n",
      "Requirement already satisfied: tzdata>=2022.1 in c:\\users\\ebacc\\anaconda3\\envs\\modelo\\lib\\site-packages (from pandas->stepwise_regression) (2023.3)\n",
      "Requirement already satisfied: numpy>=1.20.3 in c:\\users\\ebacc\\anaconda3\\envs\\modelo\\lib\\site-packages (from pandas->stepwise_regression) (1.22.1)\n",
      "Requirement already satisfied: scipy!=1.9.2,>=1.4 in c:\\users\\ebacc\\anaconda3\\envs\\modelo\\lib\\site-packages (from statsmodels->stepwise_regression) (1.7.3)\n",
      "Requirement already satisfied: patsy>=0.5.2 in c:\\users\\ebacc\\anaconda3\\envs\\modelo\\lib\\site-packages (from statsmodels->stepwise_regression) (0.5.4)\n",
      "Requirement already satisfied: packaging>=21.3 in c:\\users\\ebacc\\anaconda3\\envs\\modelo\\lib\\site-packages (from statsmodels->stepwise_regression) (23.2)\n",
      "Requirement already satisfied: six in c:\\users\\ebacc\\anaconda3\\envs\\modelo\\lib\\site-packages (from patsy>=0.5.2->statsmodels->stepwise_regression) (1.16.0)\n"
     ]
    }
   ],
   "source": [
    "# importa biblioteca pandas\n",
    "import pandas as pd\n",
    "# importa biblioteca numpy\n",
    "import numpy as np\n",
    "# importa biblioteca statsmodels\n",
    "import statsmodels.api as sm\n",
    "\n",
    "! pip install stepwise_regression\n",
    "# local do arquivo\n",
    "Caminho='C:/_Academico/PUC/202401/PROJETO INTEGRADO NEGÓCIOS/Credito.xlsx'\n"
   ]
  },
  {
   "cell_type": "code",
   "execution_count": 18,
   "id": "491a5e2c",
   "metadata": {},
   "outputs": [
    {
     "data": {
      "text/html": [
       "<div>\n",
       "<style scoped>\n",
       "    .dataframe tbody tr th:only-of-type {\n",
       "        vertical-align: middle;\n",
       "    }\n",
       "\n",
       "    .dataframe tbody tr th {\n",
       "        vertical-align: top;\n",
       "    }\n",
       "\n",
       "    .dataframe thead th {\n",
       "        text-align: right;\n",
       "    }\n",
       "</style>\n",
       "<table border=\"1\" class=\"dataframe\">\n",
       "  <thead>\n",
       "    <tr style=\"text-align: right;\">\n",
       "      <th></th>\n",
       "      <th>tipo</th>\n",
       "      <th>est_civ</th>\n",
       "      <th>qtd_com</th>\n",
       "      <th>tempo_em</th>\n",
       "      <th>sal_cli</th>\n",
       "      <th>qtd_parc</th>\n",
       "      <th>vlr_cpr</th>\n",
       "      <th>vlr_prt</th>\n",
       "      <th>tipo_cre</th>\n",
       "      <th>idade</th>\n",
       "      <th>est_civ_2</th>\n",
       "      <th>est_civ_3</th>\n",
       "      <th>est_civ_4</th>\n",
       "      <th>est_civ_5</th>\n",
       "    </tr>\n",
       "  </thead>\n",
       "  <tbody>\n",
       "    <tr>\n",
       "      <th>0</th>\n",
       "      <td>1</td>\n",
       "      <td>1</td>\n",
       "      <td>1</td>\n",
       "      <td>31</td>\n",
       "      <td>0.01</td>\n",
       "      <td>4</td>\n",
       "      <td>1200</td>\n",
       "      <td>408.45</td>\n",
       "      <td>1</td>\n",
       "      <td>59</td>\n",
       "      <td>0</td>\n",
       "      <td>0</td>\n",
       "      <td>0</td>\n",
       "      <td>0</td>\n",
       "    </tr>\n",
       "    <tr>\n",
       "      <th>1</th>\n",
       "      <td>1</td>\n",
       "      <td>1</td>\n",
       "      <td>1</td>\n",
       "      <td>34</td>\n",
       "      <td>0.01</td>\n",
       "      <td>6</td>\n",
       "      <td>600</td>\n",
       "      <td>159.97</td>\n",
       "      <td>1</td>\n",
       "      <td>61</td>\n",
       "      <td>0</td>\n",
       "      <td>0</td>\n",
       "      <td>0</td>\n",
       "      <td>0</td>\n",
       "    </tr>\n",
       "    <tr>\n",
       "      <th>2</th>\n",
       "      <td>1</td>\n",
       "      <td>5</td>\n",
       "      <td>1</td>\n",
       "      <td>74</td>\n",
       "      <td>1.00</td>\n",
       "      <td>12</td>\n",
       "      <td>5000</td>\n",
       "      <td>555.55</td>\n",
       "      <td>0</td>\n",
       "      <td>42</td>\n",
       "      <td>0</td>\n",
       "      <td>0</td>\n",
       "      <td>0</td>\n",
       "      <td>1</td>\n",
       "    </tr>\n",
       "    <tr>\n",
       "      <th>3</th>\n",
       "      <td>1</td>\n",
       "      <td>1</td>\n",
       "      <td>0</td>\n",
       "      <td>332</td>\n",
       "      <td>0.10</td>\n",
       "      <td>12</td>\n",
       "      <td>500</td>\n",
       "      <td>90.66</td>\n",
       "      <td>1</td>\n",
       "      <td>50</td>\n",
       "      <td>0</td>\n",
       "      <td>0</td>\n",
       "      <td>0</td>\n",
       "      <td>0</td>\n",
       "    </tr>\n",
       "    <tr>\n",
       "      <th>4</th>\n",
       "      <td>1</td>\n",
       "      <td>2</td>\n",
       "      <td>0</td>\n",
       "      <td>74</td>\n",
       "      <td>1.00</td>\n",
       "      <td>12</td>\n",
       "      <td>3700</td>\n",
       "      <td>403.19</td>\n",
       "      <td>0</td>\n",
       "      <td>32</td>\n",
       "      <td>1</td>\n",
       "      <td>0</td>\n",
       "      <td>0</td>\n",
       "      <td>0</td>\n",
       "    </tr>\n",
       "  </tbody>\n",
       "</table>\n",
       "</div>"
      ],
      "text/plain": [
       "   tipo  est_civ  qtd_com  tempo_em  sal_cli  qtd_parc  vlr_cpr  vlr_prt  \\\n",
       "0     1        1        1        31     0.01         4     1200   408.45   \n",
       "1     1        1        1        34     0.01         6      600   159.97   \n",
       "2     1        5        1        74     1.00        12     5000   555.55   \n",
       "3     1        1        0       332     0.10        12      500    90.66   \n",
       "4     1        2        0        74     1.00        12     3700   403.19   \n",
       "\n",
       "   tipo_cre  idade  est_civ_2  est_civ_3  est_civ_4  est_civ_5  \n",
       "0         1     59          0          0          0          0  \n",
       "1         1     61          0          0          0          0  \n",
       "2         0     42          0          0          0          1  \n",
       "3         1     50          0          0          0          0  \n",
       "4         0     32          1          0          0          0  "
      ]
     },
     "execution_count": 18,
     "metadata": {},
     "output_type": "execute_result"
    }
   ],
   "source": [
    " #Traz o arquivo para o Python\n",
    "df=pd.read_excel(Caminho)\n",
    "df.head()"
   ]
  },
  {
   "cell_type": "code",
   "execution_count": 15,
   "id": "ded0617a",
   "metadata": {},
   "outputs": [
    {
     "name": "stdout",
     "output_type": "stream",
     "text": [
      "       est_civ_2  est_civ_3  est_civ_4  est_civ_5\n",
      "0              0          0          0          0\n",
      "1              0          0          0          0\n",
      "2              0          0          0          1\n",
      "3              0          0          0          0\n",
      "4              1          0          0          0\n",
      "...          ...        ...        ...        ...\n",
      "11995          1          0          0          0\n",
      "11996          0          1          0          0\n",
      "11997          1          0          0          0\n",
      "11998          0          0          0          0\n",
      "11999          0          1          0          0\n",
      "\n",
      "[12000 rows x 4 columns]\n"
     ]
    }
   ],
   "source": [
    "#Cria variável Dummy\n",
    "\n",
    "dummy_est_civ = pd.get_dummies(df['est_civ'], prefix='est_civ', drop_first=True)\n",
    "dummy_est_civ = dummy_est_civ.astype(int)\n",
    "print(dummy_est_civ)\n"
   ]
  },
  {
   "cell_type": "code",
   "execution_count": 16,
   "id": "a4cc0c36",
   "metadata": {},
   "outputs": [],
   "source": [
    "# Concatenando as variáveis dummy com o DataFrame original\n",
    "df = pd.concat([df, dummy_est_civ], axis=1)"
   ]
  },
  {
   "cell_type": "code",
   "execution_count": 17,
   "id": "934986d1",
   "metadata": {},
   "outputs": [
    {
     "name": "stdout",
     "output_type": "stream",
     "text": [
      "Adicionando variável: qtd_parc com p-value 7.87937e-183\n",
      "Adicionando variável: tipo_cre com p-value 5.80701e-108\n",
      "Adicionando variável: qtd_com com p-value 3.32786e-84\n",
      "Adicionando variável: idade com p-value 1.40623e-59\n",
      "Adicionando variável: tempo_em com p-value 1.70589e-07\n",
      "Adicionando variável: vlr_prt com p-value 0.000106013\n",
      "Adicionando variável: sal_cli com p-value 4.56617e-05\n",
      "Variáveis selecionadas:\n",
      "['qtd_parc', 'tipo_cre', 'qtd_com', 'idade', 'tempo_em', 'vlr_prt', 'sal_cli']\n"
     ]
    }
   ],
   "source": [
    "\n",
    "def stepwise_logistic_regression(X, y, \n",
    "                                 initial_list=[], \n",
    "                                 threshold_in=0.01, \n",
    "                                 threshold_out=0.05, \n",
    "                                 verbose=True):\n",
    "    included = list(initial_list)\n",
    "    while True:\n",
    "        changed = False\n",
    "        # Forward step\n",
    "        excluded = list(set(X.columns) - set(included))\n",
    "        new_pval = pd.Series(index=excluded)\n",
    "        for new_column in excluded:\n",
    "            model = sm.Logit(y, sm.add_constant(pd.DataFrame(X[included + [new_column]]))).fit(disp=0)\n",
    "            new_pval[new_column] = model.pvalues[new_column]\n",
    "        best_pval = new_pval.min()\n",
    "        if best_pval < threshold_in:\n",
    "            best_feature = new_pval.idxmin()\n",
    "            included.append(best_feature)\n",
    "            changed = True\n",
    "            if verbose:\n",
    "                print('Adicionando variável: {} com p-value {:.6}'.format(best_feature, best_pval))\n",
    "\n",
    "        # Backward step\n",
    "        model = sm.Logit(y, sm.add_constant(pd.DataFrame(X[included]))).fit(disp=0)\n",
    "        pvalues = model.pvalues.iloc[1:]\n",
    "        worst_pval = pvalues.max() \n",
    "        if worst_pval > threshold_out:\n",
    "            changed = True\n",
    "            worst_feature = pvalues.idxmax()\n",
    "            included.remove(worst_feature)\n",
    "            if verbose:\n",
    "                print('Removendo variável: {} com p-value {:.6}'.format(worst_feature, worst_pval))\n",
    "        if not changed:\n",
    "            break\n",
    "    return included\n",
    "\n",
    "X = df.drop(columns=['tipo', 'est_civ'])  # Variáveis preditoras - tira tipo que é a resposta e est_civ que virou dummy\n",
    "y = df['tipo']  # Variável resposta\n",
    "\n",
    "selected_features = stepwise_logistic_regression(X, y)\n",
    "\n",
    "print('Variáveis selecionadas:')\n",
    "print(selected_features)"
   ]
  },
  {
   "cell_type": "code",
   "execution_count": 19,
   "id": "4bf585da",
   "metadata": {},
   "outputs": [
    {
     "name": "stdout",
     "output_type": "stream",
     "text": [
      "Optimization terminated successfully.\n",
      "         Current function value: 0.603578\n",
      "         Iterations 6\n"
     ]
    }
   ],
   "source": [
    "#Modelo de Regressão Logística pós Stepwise - somente as variáveis listadas acima\n",
    "from statsmodels.formula.api import logit\n",
    "modelo=logit('tipo ~ qtd_parc+tipo_cre+qtd_com+idade+tempo_em+vlr_prt+sal_cli', data=df).fit()"
   ]
  },
  {
   "cell_type": "code",
   "execution_count": 20,
   "id": "5066086d",
   "metadata": {},
   "outputs": [
    {
     "data": {
      "text/html": [
       "<table class=\"simpletable\">\n",
       "<caption>Logit Regression Results</caption>\n",
       "<tr>\n",
       "  <th>Dep. Variable:</th>         <td>tipo</td>       <th>  No. Observations:  </th>  <td> 12000</td> \n",
       "</tr>\n",
       "<tr>\n",
       "  <th>Model:</th>                 <td>Logit</td>      <th>  Df Residuals:      </th>  <td> 11992</td> \n",
       "</tr>\n",
       "<tr>\n",
       "  <th>Method:</th>                 <td>MLE</td>       <th>  Df Model:          </th>  <td>     7</td> \n",
       "</tr>\n",
       "<tr>\n",
       "  <th>Date:</th>            <td>Mon, 24 Mar 2025</td> <th>  Pseudo R-squ.:     </th>  <td>0.1292</td> \n",
       "</tr>\n",
       "<tr>\n",
       "  <th>Time:</th>                <td>11:14:03</td>     <th>  Log-Likelihood:    </th> <td> -7242.9</td>\n",
       "</tr>\n",
       "<tr>\n",
       "  <th>converged:</th>             <td>True</td>       <th>  LL-Null:           </th> <td> -8317.8</td>\n",
       "</tr>\n",
       "<tr>\n",
       "  <th>Covariance Type:</th>     <td>nonrobust</td>    <th>  LLR p-value:       </th>  <td> 0.000</td> \n",
       "</tr>\n",
       "</table>\n",
       "<table class=\"simpletable\">\n",
       "<tr>\n",
       "      <td></td>         <th>coef</th>     <th>std err</th>      <th>z</th>      <th>P>|z|</th>  <th>[0.025</th>    <th>0.975]</th>  \n",
       "</tr>\n",
       "<tr>\n",
       "  <th>Intercept</th> <td>   -0.5152</td> <td>    0.097</td> <td>   -5.308</td> <td> 0.000</td> <td>   -0.705</td> <td>   -0.325</td>\n",
       "</tr>\n",
       "<tr>\n",
       "  <th>qtd_parc</th>  <td>   -0.2304</td> <td>    0.007</td> <td>  -32.893</td> <td> 0.000</td> <td>   -0.244</td> <td>   -0.217</td>\n",
       "</tr>\n",
       "<tr>\n",
       "  <th>tipo_cre</th>  <td>    1.2320</td> <td>    0.061</td> <td>   20.161</td> <td> 0.000</td> <td>    1.112</td> <td>    1.352</td>\n",
       "</tr>\n",
       "<tr>\n",
       "  <th>qtd_com</th>   <td>    0.7033</td> <td>    0.041</td> <td>   17.134</td> <td> 0.000</td> <td>    0.623</td> <td>    0.784</td>\n",
       "</tr>\n",
       "<tr>\n",
       "  <th>idade</th>     <td>    0.0211</td> <td>    0.002</td> <td>   12.472</td> <td> 0.000</td> <td>    0.018</td> <td>    0.024</td>\n",
       "</tr>\n",
       "<tr>\n",
       "  <th>tempo_em</th>  <td>    0.0013</td> <td>    0.000</td> <td>    5.244</td> <td> 0.000</td> <td>    0.001</td> <td>    0.002</td>\n",
       "</tr>\n",
       "<tr>\n",
       "  <th>vlr_prt</th>   <td>   -0.0010</td> <td>    0.000</td> <td>   -5.684</td> <td> 0.000</td> <td>   -0.001</td> <td>   -0.001</td>\n",
       "</tr>\n",
       "<tr>\n",
       "  <th>sal_cli</th>   <td> 8.871e-05</td> <td> 2.18e-05</td> <td>    4.077</td> <td> 0.000</td> <td> 4.61e-05</td> <td>    0.000</td>\n",
       "</tr>\n",
       "</table>"
      ],
      "text/latex": [
       "\\begin{center}\n",
       "\\begin{tabular}{lclc}\n",
       "\\toprule\n",
       "\\textbf{Dep. Variable:}   &       tipo       & \\textbf{  No. Observations:  } &    12000    \\\\\n",
       "\\textbf{Model:}           &      Logit       & \\textbf{  Df Residuals:      } &    11992    \\\\\n",
       "\\textbf{Method:}          &       MLE        & \\textbf{  Df Model:          } &        7    \\\\\n",
       "\\textbf{Date:}            & Mon, 24 Mar 2025 & \\textbf{  Pseudo R-squ.:     } &   0.1292    \\\\\n",
       "\\textbf{Time:}            &     11:14:03     & \\textbf{  Log-Likelihood:    } &   -7242.9   \\\\\n",
       "\\textbf{converged:}       &       True       & \\textbf{  LL-Null:           } &   -8317.8   \\\\\n",
       "\\textbf{Covariance Type:} &    nonrobust     & \\textbf{  LLR p-value:       } &    0.000    \\\\\n",
       "\\bottomrule\n",
       "\\end{tabular}\n",
       "\\begin{tabular}{lcccccc}\n",
       "                   & \\textbf{coef} & \\textbf{std err} & \\textbf{z} & \\textbf{P$> |$z$|$} & \\textbf{[0.025} & \\textbf{0.975]}  \\\\\n",
       "\\midrule\n",
       "\\textbf{Intercept} &      -0.5152  &        0.097     &    -5.308  &         0.000        &       -0.705    &       -0.325     \\\\\n",
       "\\textbf{qtd\\_parc} &      -0.2304  &        0.007     &   -32.893  &         0.000        &       -0.244    &       -0.217     \\\\\n",
       "\\textbf{tipo\\_cre} &       1.2320  &        0.061     &    20.161  &         0.000        &        1.112    &        1.352     \\\\\n",
       "\\textbf{qtd\\_com}  &       0.7033  &        0.041     &    17.134  &         0.000        &        0.623    &        0.784     \\\\\n",
       "\\textbf{idade}     &       0.0211  &        0.002     &    12.472  &         0.000        &        0.018    &        0.024     \\\\\n",
       "\\textbf{tempo\\_em} &       0.0013  &        0.000     &     5.244  &         0.000        &        0.001    &        0.002     \\\\\n",
       "\\textbf{vlr\\_prt}  &      -0.0010  &        0.000     &    -5.684  &         0.000        &       -0.001    &       -0.001     \\\\\n",
       "\\textbf{sal\\_cli}  &    8.871e-05  &     2.18e-05     &     4.077  &         0.000        &     4.61e-05    &        0.000     \\\\\n",
       "\\bottomrule\n",
       "\\end{tabular}\n",
       "%\\caption{Logit Regression Results}\n",
       "\\end{center}"
      ],
      "text/plain": [
       "<class 'statsmodels.iolib.summary.Summary'>\n",
       "\"\"\"\n",
       "                           Logit Regression Results                           \n",
       "==============================================================================\n",
       "Dep. Variable:                   tipo   No. Observations:                12000\n",
       "Model:                          Logit   Df Residuals:                    11992\n",
       "Method:                           MLE   Df Model:                            7\n",
       "Date:                Mon, 24 Mar 2025   Pseudo R-squ.:                  0.1292\n",
       "Time:                        11:14:03   Log-Likelihood:                -7242.9\n",
       "converged:                       True   LL-Null:                       -8317.8\n",
       "Covariance Type:            nonrobust   LLR p-value:                     0.000\n",
       "==============================================================================\n",
       "                 coef    std err          z      P>|z|      [0.025      0.975]\n",
       "------------------------------------------------------------------------------\n",
       "Intercept     -0.5152      0.097     -5.308      0.000      -0.705      -0.325\n",
       "qtd_parc      -0.2304      0.007    -32.893      0.000      -0.244      -0.217\n",
       "tipo_cre       1.2320      0.061     20.161      0.000       1.112       1.352\n",
       "qtd_com        0.7033      0.041     17.134      0.000       0.623       0.784\n",
       "idade          0.0211      0.002     12.472      0.000       0.018       0.024\n",
       "tempo_em       0.0013      0.000      5.244      0.000       0.001       0.002\n",
       "vlr_prt       -0.0010      0.000     -5.684      0.000      -0.001      -0.001\n",
       "sal_cli     8.871e-05   2.18e-05      4.077      0.000    4.61e-05       0.000\n",
       "==============================================================================\n",
       "\"\"\""
      ]
     },
     "execution_count": 20,
     "metadata": {},
     "output_type": "execute_result"
    }
   ],
   "source": [
    "modelo.summary()"
   ]
  },
  {
   "cell_type": "code",
   "execution_count": 21,
   "id": "0cb36818",
   "metadata": {},
   "outputs": [],
   "source": [
    "#Importa ferramentas para análise do modelo\n",
    "from sklearn.linear_model import LogisticRegression\n",
    "from sklearn.metrics import confusion_matrix, classification_report, roc_auc_score, roc_curve\n"
   ]
  },
  {
   "cell_type": "code",
   "execution_count": 22,
   "id": "455e9008",
   "metadata": {},
   "outputs": [
    {
     "data": {
      "image/png": "[encoded data removed]",
      "text/plain": [
       "<Figure size 640x480 with 1 Axes>"
      ]
     },
     "metadata": {},
     "output_type": "display_data"
    }
   ],
   "source": [
    "from sklearn.metrics import roc_curve, auc, confusion_matrix\n",
    "from statsmodels.tools import add_constant\n",
    "\n",
    "# Adicione uma constante ao DataFrame X\n",
    "X_constant = add_constant(X[selected_features])\n",
    "\n",
    "# Calcula as probabilidades previstas\n",
    "y_pred_prob = modelo.predict(X_constant)\n",
    "\n",
    "# Calcula o FPR (Taxa de Falsos Positivos) e TPR (Taxa de Verdadeiros Positivos)\n",
    "fpr, tpr, thresholds = roc_curve(y, y_pred_prob)\n",
    "\n",
    "# Calcula a área sob a curva ROC (AUC)\n",
    "roc_auc = auc(fpr, tpr)\n",
    "\n",
    "# Curva ROC\n",
    "import matplotlib.pyplot as plt\n",
    "plt.figure()\n",
    "plt.plot(fpr, tpr, color='darkorange', lw=2, label='ROC curve (area = %0.2f)' % roc_auc)\n",
    "plt.plot([0, 1], [0, 1], color='navy', lw=2, linestyle='--')\n",
    "plt.xlim([0.0, 1.0])\n",
    "plt.ylim([0.0, 1.05])\n",
    "plt.xlabel('False Positive Rate')\n",
    "plt.ylabel('True Positive Rate')\n",
    "plt.title('Receiver Operating Characteristic (ROC)')\n",
    "plt.legend(loc=\"lower right\")\n",
    "plt.show()"
   ]
  },
  {
   "cell_type": "code",
   "execution_count": 23,
   "id": "df75f813",
   "metadata": {},
   "outputs": [
    {
     "name": "stdout",
     "output_type": "stream",
     "text": [
      "Valor-p do teste de Hosmer-Lemeshow: 0.000\n"
     ]
    }
   ],
   "source": [
    "from scipy.stats import chi2\n",
    "\n",
    "# Calcula a estatística do teste de Hosmer-Lemeshow\n",
    "hosmer_lemeshow_statistic = np.sum((y_pred_prob - y_pred_prob.mean())**2)\n",
    "\n",
    "# Define o número de grupos (bins) para o teste de Hosmer-Lemeshow\n",
    "num_groups = 10\n",
    "\n",
    "# Calcula os graus de liberdade\n",
    "df = num_groups - 2\n",
    "\n",
    "# Calcula o valor-p comparando a estatística do teste com a distribuição qui-quadrado\n",
    "p_value = 1 - chi2.cdf(hosmer_lemeshow_statistic, df)\n",
    "\n",
    "# Exibe o valor-p com três casas decimais\n",
    "print(\"Valor-p do teste de Hosmer-Lemeshow: {:.3f}\".format(p_value))"
   ]
  },
  {
   "cell_type": "code",
   "execution_count": 24,
   "id": "aa734b57",
   "metadata": {},
   "outputs": [
    {
     "name": "stdout",
     "output_type": "stream",
     "text": [
      "Matriz de Confusão:\n",
      "[[4078 1922]\n",
      " [2074 3926]]\n"
     ]
    }
   ],
   "source": [
    "# Matriz de Confusão\n",
    "y_pred = (y_pred_prob > 0.5).astype(int)\n",
    "conf_matrix = confusion_matrix(y, y_pred)\n",
    "print(\"Matriz de Confusão:\")\n",
    "print(conf_matrix)"
   ]
  },
  {
   "cell_type": "code",
   "execution_count": 25,
   "id": "8646b46c",
   "metadata": {},
   "outputs": [
    {
     "name": "stdout",
     "output_type": "stream",
     "text": [
      "Total de acertos: 8004\n",
      "Total de erros: 3996\n",
      "Porcentagem de acertos: 66.70%\n",
      "Porcentagem de erros: 33.30%\n"
     ]
    }
   ],
   "source": [
    "# Calcula a matriz de confusão\n",
    "conf_matrix = confusion_matrix(y, y_pred)\n",
    "\n",
    "# Calcula o total de observações\n",
    "total_observations = np.sum(conf_matrix)\n",
    "\n",
    "# Calcula o total de acertos (soma da diagonal principal)\n",
    "total_acertos = np.trace(conf_matrix)\n",
    "\n",
    "# Calcula o total de erros (subtrai o total de acertos do total de observações)\n",
    "total_erros = total_observations - total_acertos\n",
    "\n",
    "# Calcula a porcentagem de acertos e erros\n",
    "percent_acertos = (total_acertos / total_observations) * 100\n",
    "percent_erros = (total_erros / total_observations) * 100\n",
    "\n",
    "# Exibe os resultados\n",
    "print(\"Total de acertos:\", total_acertos)\n",
    "print(\"Total de erros:\", total_erros)\n",
    "print(\"Porcentagem de acertos: {:.2f}%\".format(percent_acertos))\n",
    "print(\"Porcentagem de erros: {:.2f}%\".format(percent_erros))"
   ]
  },
  {
   "cell_type": "code",
   "execution_count": 26,
   "id": "d9bd5b07",
   "metadata": {},
   "outputs": [
    {
     "name": "stdout",
     "output_type": "stream",
     "text": [
      "Estatística de Cox e Snell: -12.375831179045122\n"
     ]
    }
   ],
   "source": [
    "# Calcula a estatística de Cox e Snell\n",
    "llf_null = -modelo.llnull\n",
    "llf_modelo = modelo.llf\n",
    "n = len(y)\n",
    "cox_snell_statistic = 1 - np.exp((2/n) * (llf_null - llf_modelo))\n",
    "\n",
    "# Exibe a estatística de Cox e Snell\n",
    "print(\"Estatística de Cox e Snell:\", cox_snell_statistic)"
   ]
  },
  {
   "cell_type": "code",
   "execution_count": 27,
   "id": "1b682ca2",
   "metadata": {},
   "outputs": [
    {
     "name": "stdout",
     "output_type": "stream",
     "text": [
      "Estatística de Nagelkerke: -0.7065153685531163\n"
     ]
    }
   ],
   "source": [
    "# Calcula a função de verossimilhança do modelo nulo (sem preditores)\n",
    "llf_null = modelo.llnull\n",
    "\n",
    "# Calcula a função de verossimilhança do modelo ajustado\n",
    "llf_modelo = modelo.llf\n",
    "\n",
    "# Calcula o número total de observações\n",
    "n = len(y)\n",
    "\n",
    "# Calcula a estatística de Nagelkerke\n",
    "R2_nagelkerke = 1 - (np.exp(-2 * (llf_null - llf_modelo) / n) / (1 - np.exp(llf_modelo * 2 / n)))\n",
    "\n",
    "# Exibe a estatística de Nagelkerke\n",
    "print(\"Estatística de Nagelkerke:\", R2_nagelkerke)"
   ]
  },
  {
   "cell_type": "code",
   "execution_count": null,
   "id": "d10e4550",
   "metadata": {},
   "outputs": [],
   "source": []
  }
 ],
 "metadata": {
  "kernelspec": {
   "display_name": "Python 3 (ipykernel)",
   "language": "python",
   "name": "python3"
  },
  "language_info": {
   "codemirror_mode": {
    "name": "ipython",
    "version": 3
   },
   "file_extension": ".py",
   "mimetype": "text/x-python",
   "name": "python",
   "nbconvert_exporter": "python",
   "pygments_lexer": "ipython3",
   "version": "3.8.18"
  }
 },
 "nbformat": 4,
 "nbformat_minor": 5
}
