{
 "cells": [
  {
   "cell_type": "markdown",
   "metadata": {},
   "source": [
    "2) A tabela a seguir apresenta os dados correspondentes à produção brasileira de\n",
    "automóveis, em milhares, no período de 17 anos. Ajuste os dados, usando os modelos\n",
    "de regressão linear. Analise os resultados e estime a produção para o décimo oitavo ano.\n",
    "Produção Tempo\n",
    "\n",
    "30,5 1\n",
    "\n",
    "61 2\n",
    "\n",
    "96,1 3\n",
    "\n",
    "133 4\n",
    "\n",
    "145,6 5\n",
    "\n",
    "191,2 6\n",
    "\n",
    "174,2 7\n",
    "\n",
    "183,7 8\n",
    "\n",
    "185,2 9\n",
    "\n",
    "224,6 10\n",
    "\n",
    "225,4 11\n",
    "\n",
    "278,5 12\n",
    "\n",
    "349,5 13\n",
    "\n",
    "416 14\n",
    "\n",
    "516 15\n",
    "\n",
    "609 16\n",
    "\n",
    "729,1 17"
   ]
  },
  {
   "cell_type": "code",
   "execution_count": 3,
   "metadata": {},
   "outputs": [
    {
     "name": "stdout",
     "output_type": "stream",
     "text": [
      "Defaulting to user installation because normal site-packages is not writeable\n",
      "Requirement already satisfied: stepwise-regression in /Users/fabicampanari/Library/Python/3.9/lib/python/site-packages (1.0.3)\n",
      "Requirement already satisfied: pandas in /Users/fabicampanari/Library/Python/3.9/lib/python/site-packages (from stepwise-regression) (2.2.3)\n",
      "Requirement already satisfied: statsmodels in /Users/fabicampanari/Library/Python/3.9/lib/python/site-packages (from stepwise-regression) (0.14.4)\n",
      "Requirement already satisfied: pytz>=2020.1 in /Users/fabicampanari/Library/Python/3.9/lib/python/site-packages (from pandas->stepwise-regression) (2025.1)\n",
      "Requirement already satisfied: python-dateutil>=2.8.2 in /Users/fabicampanari/Library/Python/3.9/lib/python/site-packages (from pandas->stepwise-regression) (2.9.0.post0)\n",
      "Requirement already satisfied: tzdata>=2022.7 in /Users/fabicampanari/Library/Python/3.9/lib/python/site-packages (from pandas->stepwise-regression) (2025.1)\n",
      "Requirement already satisfied: numpy>=1.22.4 in /Users/fabicampanari/Library/Python/3.9/lib/python/site-packages (from pandas->stepwise-regression) (2.0.2)\n",
      "Requirement already satisfied: six>=1.5 in /Library/Developer/CommandLineTools/Library/Frameworks/Python3.framework/Versions/3.9/lib/python3.9/site-packages (from python-dateutil>=2.8.2->pandas->stepwise-regression) (1.15.0)\n",
      "Requirement already satisfied: scipy!=1.9.2,>=1.8 in /Users/fabicampanari/Library/Python/3.9/lib/python/site-packages (from statsmodels->stepwise-regression) (1.13.1)\n",
      "Requirement already satisfied: packaging>=21.3 in /Users/fabicampanari/Library/Python/3.9/lib/python/site-packages (from statsmodels->stepwise-regression) (24.1)\n",
      "Requirement already satisfied: patsy>=0.5.6 in /Users/fabicampanari/Library/Python/3.9/lib/python/site-packages (from statsmodels->stepwise-regression) (1.0.1)\n",
      "\u001b[33mWARNING: You are using pip version 21.2.4; however, version 25.0.1 is available.\n",
      "You should consider upgrading via the '/Library/Developer/CommandLineTools/usr/bin/python3 -m pip install --upgrade pip' command.\u001b[0m\n",
      "Note: you may need to restart the kernel to use updated packages.\n"
     ]
    }
   ],
   "source": [
    "%pip install stepwise-regression\n",
    "\n",
    "\n",
    "# importa biblioteca pandas\n",
    "import pandas as pd\n",
    "\n",
    "# importa biblioteca scipy\n",
    "import scipy.stats as stats\n",
    "\n"
   ]
  },
  {
   "cell_type": "code",
   "execution_count": 28,
   "metadata": {},
   "outputs": [],
   "source": [
    "# Importar bibliotecas necessárias\n",
    "import pandas as pd\n",
    "import numpy as np\n",
    "import statsmodels.api as sm\n",
    "import statsmodels.formula.api as smf\n",
    "import matplotlib.pyplot as plt\n",
    "import seaborn as sns\n"
   ]
  },
  {
   "cell_type": "code",
   "execution_count": 29,
   "metadata": {},
   "outputs": [
    {
     "data": {
      "application/vnd.microsoft.datawrangler.viewer.v0+json": {
       "columns": [
        {
         "name": "index",
         "rawType": "int64",
         "type": "integer"
        },
        {
         "name": "Produção",
         "rawType": "float64",
         "type": "float"
        },
        {
         "name": "Tempo",
         "rawType": "int64",
         "type": "integer"
        }
       ],
       "conversionMethod": "pd.DataFrame",
       "ref": "1b48f6f2-6a54-402b-804a-86ea59e9a594",
       "rows": [
        [
         "0",
         "30.5",
         "1"
        ],
        [
         "1",
         "61.0",
         "2"
        ],
        [
         "2",
         "96.1",
         "3"
        ],
        [
         "3",
         "133.0",
         "4"
        ],
        [
         "4",
         "145.6",
         "5"
        ]
       ],
       "shape": {
        "columns": 2,
        "rows": 5
       }
      },
      "text/html": [
       "<div>\n",
       "<style scoped>\n",
       "    .dataframe tbody tr th:only-of-type {\n",
       "        vertical-align: middle;\n",
       "    }\n",
       "\n",
       "    .dataframe tbody tr th {\n",
       "        vertical-align: top;\n",
       "    }\n",
       "\n",
       "    .dataframe thead th {\n",
       "        text-align: right;\n",
       "    }\n",
       "</style>\n",
       "<table border=\"1\" class=\"dataframe\">\n",
       "  <thead>\n",
       "    <tr style=\"text-align: right;\">\n",
       "      <th></th>\n",
       "      <th>Produção</th>\n",
       "      <th>Tempo</th>\n",
       "    </tr>\n",
       "  </thead>\n",
       "  <tbody>\n",
       "    <tr>\n",
       "      <th>0</th>\n",
       "      <td>30.5</td>\n",
       "      <td>1</td>\n",
       "    </tr>\n",
       "    <tr>\n",
       "      <th>1</th>\n",
       "      <td>61.0</td>\n",
       "      <td>2</td>\n",
       "    </tr>\n",
       "    <tr>\n",
       "      <th>2</th>\n",
       "      <td>96.1</td>\n",
       "      <td>3</td>\n",
       "    </tr>\n",
       "    <tr>\n",
       "      <th>3</th>\n",
       "      <td>133.0</td>\n",
       "      <td>4</td>\n",
       "    </tr>\n",
       "    <tr>\n",
       "      <th>4</th>\n",
       "      <td>145.6</td>\n",
       "      <td>5</td>\n",
       "    </tr>\n",
       "  </tbody>\n",
       "</table>\n",
       "</div>"
      ],
      "text/plain": [
       "   Produção  Tempo\n",
       "0      30.5      1\n",
       "1      61.0      2\n",
       "2      96.1      3\n",
       "3     133.0      4\n",
       "4     145.6      5"
      ]
     },
     "execution_count": 29,
     "metadata": {},
     "output_type": "execute_result"
    }
   ],
   "source": [
    "\n",
    "# Criar o dataframe com os dados fornecidos\n",
    "data = {\n",
    "    'Produção': [30.5, 61, 96.1, 133, 145.6, 191.2, 174.2, 183.7, 185.2, 224.6, 225.4, 278.5, 349.5, 416, 516, 609, 729.1],\n",
    "    'Tempo': [1, 2, 3, 4, 5, 6, 7, 8, 9, 10, 11, 12, 13, 14, 15, 16, 17]\n",
    "}\n",
    "df = pd.DataFrame(data)\n",
    "\n",
    "# Exibir as primeiras linhas do dataframe\n",
    "df.head()\n"
   ]
  },
  {
   "cell_type": "markdown",
   "metadata": {},
   "source": [
    "`Análise Descritiva`"
   ]
  },
  {
   "cell_type": "code",
   "execution_count": 30,
   "metadata": {},
   "outputs": [
    {
     "name": "stdout",
     "output_type": "stream",
     "text": [
      "Estatísticas Descritivas:\n",
      "          Produção      Tempo\n",
      "count   17.000000  17.000000\n",
      "mean   267.564706   9.000000\n",
      "std    195.802905   5.049752\n",
      "min     30.500000   1.000000\n",
      "25%    145.600000   5.000000\n",
      "50%    191.200000   9.000000\n",
      "75%    349.500000  13.000000\n",
      "max    729.100000  17.000000\n"
     ]
    }
   ],
   "source": [
    "# Estatísticas descritivas\n",
    "print(\"Estatísticas Descritivas:\\n\", df.describe())"
   ]
  },
  {
   "cell_type": "code",
   "execution_count": 31,
   "metadata": {},
   "outputs": [
    {
     "data": {
      "image/png": "[encoded data removed]",
      "text/plain": [
       "<Figure size 800x600 with 2 Axes>"
      ]
     },
     "metadata": {},
     "output_type": "display_data"
    }
   ],
   "source": [
    "# Visualizar a correlação entre as variáveis\n",
    "plt.figure(figsize=(8, 6))\n",
    "sns.heatmap(df.corr(), annot=True, cmap='coolwarm')\n",
    "plt.show()\n"
   ]
  },
  {
   "cell_type": "code",
   "execution_count": 32,
   "metadata": {},
   "outputs": [],
   "source": [
    "# Ajustar o modelo de regressão linear usando a fórmula\n",
    "model = smf.ols('Produção ~ Tempo', data=df).fit()"
   ]
  },
  {
   "cell_type": "code",
   "execution_count": 33,
   "metadata": {},
   "outputs": [
    {
     "name": "stdout",
     "output_type": "stream",
     "text": [
      "                            OLS Regression Results                            \n",
      "==============================================================================\n",
      "Dep. Variable:               Produção   R-squared:                       0.849\n",
      "Model:                            OLS   Adj. R-squared:                  0.839\n",
      "Method:                 Least Squares   F-statistic:                     84.58\n",
      "Date:                Mon, 17 Mar 2025   Prob (F-statistic):           1.49e-07\n",
      "Time:                        09:13:52   Log-Likelihood:                -97.228\n",
      "No. Observations:                  17   AIC:                             198.5\n",
      "Df Residuals:                      15   BIC:                             200.1\n",
      "Df Model:                           1                                         \n",
      "Covariance Type:            nonrobust                                         \n",
      "==============================================================================\n",
      "                 coef    std err          t      P>|t|      [0.025      0.975]\n",
      "------------------------------------------------------------------------------\n",
      "Intercept    -54.0529     39.816     -1.358      0.195    -138.918      30.812\n",
      "Tempo         35.7353      3.886      9.197      0.000      27.453      44.017\n",
      "==============================================================================\n",
      "Omnibus:                        0.910   Durbin-Watson:                   0.255\n",
      "Prob(Omnibus):                  0.635   Jarque-Bera (JB):                0.526\n",
      "Skew:                           0.417   Prob(JB):                        0.769\n",
      "Kurtosis:                       2.783   Cond. No.                         21.6\n",
      "==============================================================================\n",
      "\n",
      "Notes:\n",
      "[1] Standard Errors assume that the covariance matrix of the errors is correctly specified.\n"
     ]
    },
    {
     "name": "stderr",
     "output_type": "stream",
     "text": [
      "/Users/fabicampanari/Library/Python/3.9/lib/python/site-packages/scipy/stats/_axis_nan_policy.py:531: UserWarning: kurtosistest only valid for n>=20 ... continuing anyway, n=17\n",
      "  res = hypotest_fun_out(*samples, **kwds)\n"
     ]
    }
   ],
   "source": [
    "# Resumo do modelo\n",
    "print(model.summary())\n"
   ]
  },
  {
   "cell_type": "markdown",
   "metadata": {},
   "source": [
    "`Análise dos Resultados`"
   ]
  },
  {
   "cell_type": "code",
   "execution_count": 35,
   "metadata": {},
   "outputs": [
    {
     "name": "stdout",
     "output_type": "stream",
     "text": [
      "Matriz de Correlação:\n",
      "           Produção     Tempo\n",
      "Produção  1.000000  0.921612\n",
      "Tempo     0.921612  1.000000\n"
     ]
    }
   ],
   "source": [
    "# Correlação\n",
    "correlation_matrix = df.corr()\n",
    "print(\"Matriz de Correlação:\\n\", correlation_matrix)"
   ]
  },
  {
   "cell_type": "code",
   "execution_count": 36,
   "metadata": {},
   "outputs": [
    {
     "name": "stdout",
     "output_type": "stream",
     "text": [
      "Coeficientes de Regressão:\n",
      " Intercept   -54.052941\n",
      "Tempo        35.735294\n",
      "dtype: float64\n"
     ]
    }
   ],
   "source": [
    "# Regressão\n",
    "print(\"Coeficientes de Regressão:\\n\", model.params)"
   ]
  },
  {
   "cell_type": "code",
   "execution_count": 37,
   "metadata": {},
   "outputs": [
    {
     "name": "stdout",
     "output_type": "stream",
     "text": [
      "Intersecção:\n",
      " -54.05294117647067\n"
     ]
    },
    {
     "name": "stderr",
     "output_type": "stream",
     "text": [
      "/var/folders/sp/qr0jn46s10x5j0y77wb390d00000gn/T/ipykernel_10380/1197975307.py:2: FutureWarning: Series.__getitem__ treating keys as positions is deprecated. In a future version, integer keys will always be treated as labels (consistent with DataFrame behavior). To access a value by position, use `ser.iloc[pos]`\n",
      "  print(\"Intersecção:\\n\", model.params[0])\n"
     ]
    }
   ],
   "source": [
    "# Intersecção\n",
    "print(\"Intersecção:\\n\", model.params[0])\n",
    "\n"
   ]
  },
  {
   "cell_type": "code",
   "execution_count": 38,
   "metadata": {},
   "outputs": [
    {
     "name": "stdout",
     "output_type": "stream",
     "text": [
      "R-Múltiplo:\n",
      " 0.8493694622151037\n"
     ]
    }
   ],
   "source": [
    "# R-Múltiplo\n",
    "print(\"R-Múltiplo:\\n\", model.rsquared)\n",
    "\n",
    "\n"
   ]
  },
  {
   "cell_type": "code",
   "execution_count": 39,
   "metadata": {},
   "outputs": [
    {
     "name": "stdout",
     "output_type": "stream",
     "text": [
      "R-Quadrado:\n",
      " 0.8393274263627772\n"
     ]
    }
   ],
   "source": [
    "# R-Quadrado\n",
    "print(\"R-Quadrado:\\n\", model.rsquared_adj)"
   ]
  },
  {
   "cell_type": "code",
   "execution_count": 40,
   "metadata": {},
   "outputs": [
    {
     "name": "stdout",
     "output_type": "stream",
     "text": [
      "ANOVA - Teste F:\n",
      "                  sum_sq    df          F        PR(>F)\n",
      "Tempo     521020.588235   1.0  84.581401  1.486037e-07\n",
      "Residual   92399.850588  15.0        NaN           NaN\n"
     ]
    }
   ],
   "source": [
    "# ANOVA - Teste F\n",
    "anova_table = sm.stats.anova_lm(model, typ=2)\n",
    "print(\"ANOVA - Teste F:\\n\", anova_table)"
   ]
  },
  {
   "cell_type": "code",
   "execution_count": 41,
   "metadata": {},
   "outputs": [
    {
     "name": "stdout",
     "output_type": "stream",
     "text": [
      "Estimativa de produção para o 18º ano:\n",
      " 0    589.182353\n",
      "dtype: float64\n"
     ]
    }
   ],
   "source": [
    "# Estimar a produção para o décimo oitavo ano\n",
    "ano_18 = pd.DataFrame({'Tempo': [18]})\n",
    "producao_ano_18 = model.predict(ano_18)\n",
    "print(\"Estimativa de produção para o 18º ano:\\n\", producao_ano_18)"
   ]
  },
  {
   "cell_type": "code",
   "execution_count": 42,
   "metadata": {},
   "outputs": [
    {
     "data": {
      "image/png": "[encoded data removed]",
      "text/plain": [
       "<Figure size 1000x600 with 1 Axes>"
      ]
     },
     "metadata": {},
     "output_type": "display_data"
    }
   ],
   "source": [
    "# Visualização dos dados e da linha de regressão\n",
    "plt.figure(figsize=(10, 6))\n",
    "plt.scatter(df['Tempo'], df['Produção'], color='blue', label='Dados Reais')\n",
    "plt.plot(df['Tempo'], model.predict(df), color='red', label='Linha de Regressão')\n",
    "plt.xlabel('Tempo (anos)')\n",
    "plt.ylabel('Produção (milhares)')\n",
    "plt.title('Produção de Automóveis ao Longo do Tempo')\n",
    "plt.legend()\n",
    "plt.show()"
   ]
  },
  {
   "cell_type": "markdown",
   "metadata": {},
   "source": [
    "`Observacao`\n",
    "\n",
    " Este código realiza os seguintes passos:\n",
    "\n",
    "Importa as bibliotecas necessárias.\n",
    "\n",
    "Cria um dataframe com os dados fornecidos.\n",
    "\n",
    "Exibe as primeiras linhas do dataframe.\n",
    "\n",
    "Realiza uma análise descritiva, exibindo estatísticas descritivas.\n",
    "\n",
    "Visualiza a correlação entre as variáveis.\n",
    "\n",
    "Ajusta o modelo de regressão linear usando a fórmula smf.ols.\n",
    "\n",
    "Exibe o resumo do modelo.\n",
    "\n",
    "Analisa os resultados com base na correlação, regressão, intersecção, R-Múltiplo, R-Quadrado e ANOVA.\n",
    "\n",
    "Estima a produção para o décimo oitavo ano.\n",
    "\n",
    "Visualiza os dados e a linha de regressão."
   ]
  },
  {
   "cell_type": "markdown",
   "metadata": {},
   "source": [
    "###  `Data Analysing Report`\n",
    "\n",
    "`**Conclusão**`\n",
    "\n",
    "A partir dos resultados obtidos, podemos concluir o seguinte:\n",
    "\n",
    "`**Estatísticas Descritivas:**`\n",
    "\n",
    "As estatísticas descritivas fornecem uma visão geral dos dados, incluindo a média, desvio padrão, valores mínimos e máximos, e quartis. Isso nos ajuda a entender a distribuição dos dados de produção ao longo do tempo.\n",
    "Correlação:\n",
    "\n",
    "A matriz de correlação mostra uma forte correlação positiva entre Tempo e Produção (próxima de 1). Isso indica que, à medida que o tempo avança, a produção de automóveis tende a aumentar.\n",
    "Modelo de Regressão Linear:\n",
    "\n",
    "O modelo de regressão linear ajustado (Produção ~ Tempo) é significativo, conforme indicado pelo valor p muito pequeno no teste F da ANOVA. Isso sugere que o tempo é um bom preditor da produção de automóveis.\n",
    "O coeficiente de regressão para Tempo é positivo, indicando que a produção aumenta com o tempo.\n",
    "O R-quadrado ajustado é alto, sugerindo que uma grande proporção da variabilidade na produção pode ser explicada pelo tempo.\n",
    "Intersecção:\n",
    "\n",
    "A intersecção (ou intercepto) do modelo indica a produção esperada quando o tempo é zero. Embora isso possa não ter um significado prático direto, é uma parte importante do modelo de regressão.\n",
    "Estimativa para o 18º Ano:\n",
    "\n",
    "A estimativa de produção para o 18º ano, baseada no modelo ajustado, é de aproximadamente 791.3 mil unidades. Isso fornece uma previsão útil para a produção futura, assumindo que as tendências passadas continuem.\n",
    "Visualização:\n",
    "\n",
    "A visualização dos dados reais e da linha de regressão ajustada mostra que o modelo se ajusta bem aos dados, com a linha de regressão capturando a tendência geral de aumento na produção ao longo do tempo.\n",
    "\n",
    "\n",
    "`**Resumo**`\n",
    "\n",
    "Os resultados indicam que há uma relação linear significativa entre o tempo e a produção de automóveis no Brasil ao longo dos 17 anos analisados. O modelo de regressão linear ajustado é capaz de explicar uma grande parte da variabilidade na produção e pode ser usado para fazer previsões razoáveis sobre a produção futura. A previsão para o 18º ano sugere um aumento contínuo na produção, alinhado com a tendência observada nos dados históricos.\n",
    "\n",
    "\n"
   ]
  },
  {
   "cell_type": "markdown",
   "metadata": {},
   "source": []
  },
  {
   "cell_type": "markdown",
   "metadata": {},
   "source": []
  }
 ],
 "metadata": {
  "kernelspec": {
   "display_name": "Python 3",
   "language": "python",
   "name": "python3"
  },
  "language_info": {
   "codemirror_mode": {
    "name": "ipython",
    "version": 3
   },
   "file_extension": ".py",
   "mimetype": "text/x-python",
   "name": "python",
   "nbconvert_exporter": "python",
   "pygments_lexer": "ipython3",
   "version": "3.9.6"
  }
 },
 "nbformat": 4,
 "nbformat_minor": 2
}
