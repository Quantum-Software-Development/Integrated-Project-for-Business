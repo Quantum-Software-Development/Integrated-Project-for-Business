{
 "cells": [
  {
   "cell_type": "markdown",
   "metadata": {},
   "source": [
    "6) Considere o peso e o comprimento de alguns cães. Calcule o coeficiente de correlação\n",
    "entre estas duas variáveis:\n",
    "\n",
    "Peso (Kg) Comprimento (cm)\n",
    "\n",
    "14 85\n",
    "\n",
    "14 90\n",
    "\n",
    "16 95\n",
    "\n",
    "17 100\n",
    "\n",
    "20 95\n",
    "\n",
    "22 96\n",
    "\n",
    "22 100\n",
    "\n",
    "23 109\n",
    "\n",
    "28 105\n",
    "\n",
    "28 110"
   ]
  },
  {
   "cell_type": "code",
   "execution_count": 1,
   "metadata": {},
   "outputs": [],
   "source": [
    "# Importar bibliotecas necessárias\n",
    "import pandas as pd\n",
    "import numpy as np\n",
    "import matplotlib.pyplot as plt\n",
    "import seaborn as sns\n",
    "from scipy.stats import pearsonr\n",
    "\n"
   ]
  },
  {
   "cell_type": "code",
   "execution_count": 2,
   "metadata": {},
   "outputs": [
    {
     "data": {
      "application/vnd.microsoft.datawrangler.viewer.v0+json": {
       "columns": [
        {
         "name": "index",
         "rawType": "int64",
         "type": "integer"
        },
        {
         "name": "Peso",
         "rawType": "int64",
         "type": "integer"
        },
        {
         "name": "Comprimento",
         "rawType": "int64",
         "type": "integer"
        }
       ],
       "conversionMethod": "pd.DataFrame",
       "ref": "51ca4804-3bbd-4d5e-ae42-f4c6fe87e567",
       "rows": [
        [
         "0",
         "14",
         "85"
        ],
        [
         "1",
         "14",
         "90"
        ],
        [
         "2",
         "16",
         "95"
        ],
        [
         "3",
         "17",
         "100"
        ],
        [
         "4",
         "20",
         "95"
        ]
       ],
       "shape": {
        "columns": 2,
        "rows": 5
       }
      },
      "text/html": [
       "<div>\n",
       "<style scoped>\n",
       "    .dataframe tbody tr th:only-of-type {\n",
       "        vertical-align: middle;\n",
       "    }\n",
       "\n",
       "    .dataframe tbody tr th {\n",
       "        vertical-align: top;\n",
       "    }\n",
       "\n",
       "    .dataframe thead th {\n",
       "        text-align: right;\n",
       "    }\n",
       "</style>\n",
       "<table border=\"1\" class=\"dataframe\">\n",
       "  <thead>\n",
       "    <tr style=\"text-align: right;\">\n",
       "      <th></th>\n",
       "      <th>Peso</th>\n",
       "      <th>Comprimento</th>\n",
       "    </tr>\n",
       "  </thead>\n",
       "  <tbody>\n",
       "    <tr>\n",
       "      <th>0</th>\n",
       "      <td>14</td>\n",
       "      <td>85</td>\n",
       "    </tr>\n",
       "    <tr>\n",
       "      <th>1</th>\n",
       "      <td>14</td>\n",
       "      <td>90</td>\n",
       "    </tr>\n",
       "    <tr>\n",
       "      <th>2</th>\n",
       "      <td>16</td>\n",
       "      <td>95</td>\n",
       "    </tr>\n",
       "    <tr>\n",
       "      <th>3</th>\n",
       "      <td>17</td>\n",
       "      <td>100</td>\n",
       "    </tr>\n",
       "    <tr>\n",
       "      <th>4</th>\n",
       "      <td>20</td>\n",
       "      <td>95</td>\n",
       "    </tr>\n",
       "  </tbody>\n",
       "</table>\n",
       "</div>"
      ],
      "text/plain": [
       "   Peso  Comprimento\n",
       "0    14           85\n",
       "1    14           90\n",
       "2    16           95\n",
       "3    17          100\n",
       "4    20           95"
      ]
     },
     "execution_count": 2,
     "metadata": {},
     "output_type": "execute_result"
    }
   ],
   "source": [
    "# Criar o dataframe com os dados fornecidos\n",
    "data = {\n",
    "    'Peso': [14, 14, 16, 17, 20, 22, 22, 23, 28, 28],\n",
    "    'Comprimento': [85, 90, 95, 100, 95, 96, 100, 109, 105, 110]\n",
    "}\n",
    "df = pd.DataFrame(data)\n",
    "\n",
    "# Exibir as primeiras linhas do dataframe\n",
    "df.head()\n",
    "\n"
   ]
  },
  {
   "cell_type": "code",
   "execution_count": 3,
   "metadata": {},
   "outputs": [
    {
     "name": "stdout",
     "output_type": "stream",
     "text": [
      "Coeficiente de Correlação de Pearson: 0.847614359685074\n",
      "Valor p: 0.001954538426253764\n"
     ]
    }
   ],
   "source": [
    "# Calcular o coeficiente de correlação de Pearson\n",
    "correlation, p_value = pearsonr(df['Peso'], df['Comprimento'])\n",
    "print(f\"Coeficiente de Correlação de Pearson: {correlation}\")\n",
    "print(f\"Valor p: {p_value}\")\n",
    "\n"
   ]
  },
  {
   "cell_type": "code",
   "execution_count": 4,
   "metadata": {},
   "outputs": [
    {
     "data": {
      "image/png": "[encoded data removed]",
      "text/plain": [
       "<Figure size 800x600 with 1 Axes>"
      ]
     },
     "metadata": {},
     "output_type": "display_data"
    }
   ],
   "source": [
    "# Visualizar a correlação entre as variáveis\n",
    "plt.figure(figsize=(8, 6))\n",
    "sns.scatterplot(x='Peso', y='Comprimento', data=df)\n",
    "plt.title('Correlação entre Peso e Comprimento dos Cães')\n",
    "plt.xlabel('Peso (Kg)')\n",
    "plt.ylabel('Comprimento (cm)')\n",
    "plt.show()"
   ]
  },
  {
   "cell_type": "markdown",
   "metadata": {},
   "source": [
    "`Análise e Conclusão`\n",
    "\n",
    "Coeficiente de Correlação de Pearson\n",
    "O coeficiente de correlação de Pearson é uma medida da força e direção da associação linear entre duas variáveis. Ele varia de -1 a 1, onde:\n",
    "\n",
    "1 indica uma correlação linear positiva perfeita,\n",
    "-1 indica uma correlação linear negativa perfeita,\n",
    "0 indica que não há correlação linear.\n",
    "\n",
    "`Resultado`\n",
    "\n",
    "O coeficiente de correlação de Pearson calculado entre o peso e o comprimento dos cães é exibido junto com o valor p, que indica a significância estatística da correlação.\n",
    "\n",
    "`Visualização`\n",
    "\n",
    "A visualização mostra a relação entre o peso e o comprimento dos cães em um gráfico de dispersão, permitindo uma análise visual da correlação.\n",
    "\n",
    "`Conclusão`\n",
    "\n",
    "Os resultados indicam a força e a direção da relação linear entre o peso e o comprimento dos cães. Se o coeficiente de correlação for próximo de 1 ou -1, isso sugere uma forte correlação linear positiva ou negativa, respectivamente. Se for próximo de 0, isso sugere que não há uma correlação linear significativa entre as duas variáveis."
   ]
  }
 ],
 "metadata": {
  "kernelspec": {
   "display_name": "Python 3",
   "language": "python",
   "name": "python3"
  },
  "language_info": {
   "codemirror_mode": {
    "name": "ipython",
    "version": 3
   },
   "file_extension": ".py",
   "mimetype": "text/x-python",
   "name": "python",
   "nbconvert_exporter": "python",
   "pygments_lexer": "ipython3",
   "version": "3.9.6"
  }
 },
 "nbformat": 4,
 "nbformat_minor": 2
}
