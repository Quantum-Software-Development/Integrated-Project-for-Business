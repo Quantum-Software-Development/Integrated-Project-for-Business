{
 "cells": [
  {
   "cell_type": "code",
   "execution_count": 22,
   "id": "4e37740d",
   "metadata": {},
   "outputs": [],
   "source": [
    "# importa biblioteca pandas\n",
    "import pandas as pd\n",
    "\n",
    "# importa biblioteca scipy\n",
    "import scipy.stats as stats\n",
    "\n",
    "# local do arquivo\n",
    "Caminho='C:/_Academico/PUC/202401/PROJETO INTEGRADO NEGÓCIOS/Imoveis.xlsx'\n"
   ]
  },
  {
   "cell_type": "code",
   "execution_count": 25,
   "id": "d016b3dd",
   "metadata": {},
   "outputs": [],
   "source": [
    "#Traz o arquivo para o Python\n",
    "df=pd.read_excel(Caminho)\n"
   ]
  },
  {
   "cell_type": "code",
   "execution_count": 26,
   "id": "91049223",
   "metadata": {},
   "outputs": [
    {
     "data": {
      "text/html": [
       "<div>\n",
       "<style scoped>\n",
       "    .dataframe tbody tr th:only-of-type {\n",
       "        vertical-align: middle;\n",
       "    }\n",
       "\n",
       "    .dataframe tbody tr th {\n",
       "        vertical-align: top;\n",
       "    }\n",
       "\n",
       "    .dataframe thead th {\n",
       "        text-align: right;\n",
       "    }\n",
       "</style>\n",
       "<table border=\"1\" class=\"dataframe\">\n",
       "  <thead>\n",
       "    <tr style=\"text-align: right;\">\n",
       "      <th></th>\n",
       "      <th>Valor</th>\n",
       "      <th>Área</th>\n",
       "      <th>Idade</th>\n",
       "      <th>Energia</th>\n",
       "    </tr>\n",
       "  </thead>\n",
       "  <tbody>\n",
       "    <tr>\n",
       "      <th>0</th>\n",
       "      <td>69</td>\n",
       "      <td>96</td>\n",
       "      <td>14</td>\n",
       "      <td>170</td>\n",
       "    </tr>\n",
       "    <tr>\n",
       "      <th>1</th>\n",
       "      <td>176</td>\n",
       "      <td>145</td>\n",
       "      <td>8</td>\n",
       "      <td>144</td>\n",
       "    </tr>\n",
       "    <tr>\n",
       "      <th>2</th>\n",
       "      <td>195</td>\n",
       "      <td>175</td>\n",
       "      <td>2</td>\n",
       "      <td>147</td>\n",
       "    </tr>\n",
       "    <tr>\n",
       "      <th>3</th>\n",
       "      <td>80</td>\n",
       "      <td>101</td>\n",
       "      <td>4</td>\n",
       "      <td>160</td>\n",
       "    </tr>\n",
       "    <tr>\n",
       "      <th>4</th>\n",
       "      <td>390</td>\n",
       "      <td>233</td>\n",
       "      <td>2</td>\n",
       "      <td>220</td>\n",
       "    </tr>\n",
       "  </tbody>\n",
       "</table>\n",
       "</div>"
      ],
      "text/plain": [
       "   Valor  Área  Idade  Energia\n",
       "0     69    96     14      170\n",
       "1    176   145      8      144\n",
       "2    195   175      2      147\n",
       "3     80   101      4      160\n",
       "4    390   233      2      220"
      ]
     },
     "execution_count": 26,
     "metadata": {},
     "output_type": "execute_result"
    }
   ],
   "source": [
    "#Mostra as cinco primeiras linhas\n",
    "df.head( ) \n"
   ]
  },
  {
   "cell_type": "code",
   "execution_count": 27,
   "id": "2d504283",
   "metadata": {
    "scrolled": true
   },
   "outputs": [
    {
     "data": {
      "text/html": [
       "<div>\n",
       "<style scoped>\n",
       "    .dataframe tbody tr th:only-of-type {\n",
       "        vertical-align: middle;\n",
       "    }\n",
       "\n",
       "    .dataframe tbody tr th {\n",
       "        vertical-align: top;\n",
       "    }\n",
       "\n",
       "    .dataframe thead th {\n",
       "        text-align: right;\n",
       "    }\n",
       "</style>\n",
       "<table border=\"1\" class=\"dataframe\">\n",
       "  <thead>\n",
       "    <tr style=\"text-align: right;\">\n",
       "      <th></th>\n",
       "      <th>Valor</th>\n",
       "      <th>Área</th>\n",
       "      <th>Idade</th>\n",
       "      <th>Energia</th>\n",
       "    </tr>\n",
       "  </thead>\n",
       "  <tbody>\n",
       "    <tr>\n",
       "      <th>Valor</th>\n",
       "      <td>1.000000</td>\n",
       "      <td>0.881343</td>\n",
       "      <td>-0.341712</td>\n",
       "      <td>0.549563</td>\n",
       "    </tr>\n",
       "    <tr>\n",
       "      <th>Área</th>\n",
       "      <td>0.881343</td>\n",
       "      <td>1.000000</td>\n",
       "      <td>-0.154898</td>\n",
       "      <td>0.450200</td>\n",
       "    </tr>\n",
       "    <tr>\n",
       "      <th>Idade</th>\n",
       "      <td>-0.341712</td>\n",
       "      <td>-0.154898</td>\n",
       "      <td>1.000000</td>\n",
       "      <td>-0.135727</td>\n",
       "    </tr>\n",
       "    <tr>\n",
       "      <th>Energia</th>\n",
       "      <td>0.549563</td>\n",
       "      <td>0.450200</td>\n",
       "      <td>-0.135727</td>\n",
       "      <td>1.000000</td>\n",
       "    </tr>\n",
       "  </tbody>\n",
       "</table>\n",
       "</div>"
      ],
      "text/plain": [
       "            Valor      Área     Idade   Energia\n",
       "Valor    1.000000  0.881343 -0.341712  0.549563\n",
       "Área     0.881343  1.000000 -0.154898  0.450200\n",
       "Idade   -0.341712 -0.154898  1.000000 -0.135727\n",
       "Energia  0.549563  0.450200 -0.135727  1.000000"
      ]
     },
     "execution_count": 27,
     "metadata": {},
     "output_type": "execute_result"
    }
   ],
   "source": [
    "#Gera tabela de correlações\n",
    "df.corr( )\n"
   ]
  },
  {
   "cell_type": "markdown",
   "id": "49c82552",
   "metadata": {},
   "source": [
    "A CORRELAÇÃO É ALTA E POSITIVA"
   ]
  },
  {
   "cell_type": "code",
   "execution_count": 28,
   "id": "b3095b0c",
   "metadata": {
    "scrolled": true
   },
   "outputs": [
    {
     "name": "stdout",
     "output_type": "stream",
     "text": [
      "                            OLS Regression Results                            \n",
      "==============================================================================\n",
      "Dep. Variable:                  Valor   R-squared:                       0.844\n",
      "Model:                            OLS   Adj. R-squared:                  0.834\n",
      "Method:                 Least Squares   F-statistic:                     83.11\n",
      "Date:                Mon, 08 Apr 2024   Prob (F-statistic):           1.35e-18\n",
      "Time:                        09:16:01   Log-Likelihood:                -249.36\n",
      "No. Observations:                  50   AIC:                             506.7\n",
      "Df Residuals:                      46   BIC:                             514.4\n",
      "Df Model:                           3                                         \n",
      "Covariance Type:            nonrobust                                         \n",
      "==============================================================================\n",
      "                 coef    std err          t      P>|t|      [0.025      0.975]\n",
      "------------------------------------------------------------------------------\n",
      "Intercept   -128.2598     38.541     -3.328      0.002    -205.838     -50.681\n",
      "Área           1.4590      0.124     11.776      0.000       1.210       1.708\n",
      "Idade         -2.7722      0.825     -3.359      0.002      -4.434      -1.111\n",
      "Energia        0.6805      0.254      2.681      0.010       0.170       1.191\n",
      "==============================================================================\n",
      "Omnibus:                       14.503   Durbin-Watson:                   1.781\n",
      "Prob(Omnibus):                  0.001   Jarque-Bera (JB):               19.605\n",
      "Skew:                           0.969   Prob(JB):                     5.53e-05\n",
      "Kurtosis:                       5.378   Cond. No.                     1.43e+03\n",
      "==============================================================================\n",
      "\n",
      "Notes:\n",
      "[1] Standard Errors assume that the covariance matrix of the errors is correctly specified.\n",
      "[2] The condition number is large, 1.43e+03. This might indicate that there are\n",
      "strong multicollinearity or other numerical problems.\n"
     ]
    }
   ],
   "source": [
    "#Modelo de Regressão\n",
    "from statsmodels.formula.api import ols\n",
    "modelo=ols('Valor~Área+Idade+Energia',data=df).fit()\n",
    "\n",
    "# Resumo do modelo\n",
    "print(modelo.summary())\n"
   ]
  },
  {
   "cell_type": "code",
   "execution_count": 29,
   "id": "3b259d55",
   "metadata": {},
   "outputs": [
    {
     "name": "stdout",
     "output_type": "stream",
     "text": [
      "Teste de Shapiro-Wilk para normalidade dos resíduos:\n",
      "Estatística de teste: 0.9448480606079102\n",
      "Valor-p: 0.02104487642645836\n"
     ]
    }
   ],
   "source": [
    "# Verificação de Distribuição Normal dos Resíduos\n",
    "# Teste de Shapiro-Wilk para normalidade dos resíduos\n",
    "\n",
    "from scipy.stats import shapiro\n",
    "residuos=modelo.resid\n",
    "stat, p_valor = shapiro(residuos)\n",
    "print('Teste de Shapiro-Wilk para normalidade dos resíduos:')\n",
    "print('Estatística de teste:', stat)\n",
    "print('Valor-p:', p_valor)\n"
   ]
  },
  {
   "cell_type": "markdown",
   "id": "35aa7d7d",
   "metadata": {},
   "source": [
    "Valor p acima de 0.05 aceito a normalidade dos resíduos"
   ]
  }
 ],
 "metadata": {
  "kernelspec": {
   "display_name": "Python 3 (ipykernel)",
   "language": "python",
   "name": "python3"
  },
  "language_info": {
   "codemirror_mode": {
    "name": "ipython",
    "version": 3
   },
   "file_extension": ".py",
   "mimetype": "text/x-python",
   "name": "python",
   "nbconvert_exporter": "python",
   "pygments_lexer": "ipython3",
   "version": "3.9.7"
  }
 },
 "nbformat": 4,
 "nbformat_minor": 5
}
