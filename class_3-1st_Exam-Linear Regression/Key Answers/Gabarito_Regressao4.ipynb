{
 "cells": [
  {
   "cell_type": "code",
   "execution_count": 2,
   "id": "4e37740d",
   "metadata": {},
   "outputs": [],
   "source": [
    "# importa biblioteca pandas\n",
    "import pandas as pd\n",
    "\n",
    "# importa biblioteca scipy\n",
    "import scipy.stats as stats\n",
    "\n",
    "# local do arquivo\n",
    "Caminho='C:/_Academico/PUC/202401/PROJETO INTEGRADO NEGÓCIOS/Construcao.xlsx'\n"
   ]
  },
  {
   "cell_type": "code",
   "execution_count": 3,
   "id": "d016b3dd",
   "metadata": {},
   "outputs": [],
   "source": [
    "#Traz o arquivo para o Python\n",
    "df=pd.read_excel(Caminho)\n"
   ]
  },
  {
   "cell_type": "code",
   "execution_count": 4,
   "id": "91049223",
   "metadata": {},
   "outputs": [
    {
     "data": {
      "text/html": [
       "<div>\n",
       "<style scoped>\n",
       "    .dataframe tbody tr th:only-of-type {\n",
       "        vertical-align: middle;\n",
       "    }\n",
       "\n",
       "    .dataframe tbody tr th {\n",
       "        vertical-align: top;\n",
       "    }\n",
       "\n",
       "    .dataframe thead th {\n",
       "        text-align: right;\n",
       "    }\n",
       "</style>\n",
       "<table border=\"1\" class=\"dataframe\">\n",
       "  <thead>\n",
       "    <tr style=\"text-align: right;\">\n",
       "      <th></th>\n",
       "      <th>qt_venda</th>\n",
       "      <th>gast_prop</th>\n",
       "      <th>n_cont</th>\n",
       "      <th>n_marc</th>\n",
       "      <th>n_loj</th>\n",
       "    </tr>\n",
       "  </thead>\n",
       "  <tbody>\n",
       "    <tr>\n",
       "      <th>0</th>\n",
       "      <td>79.3</td>\n",
       "      <td>5.5</td>\n",
       "      <td>31.0</td>\n",
       "      <td>10.0</td>\n",
       "      <td>8.0</td>\n",
       "    </tr>\n",
       "    <tr>\n",
       "      <th>1</th>\n",
       "      <td>200.1</td>\n",
       "      <td>2.5</td>\n",
       "      <td>55.0</td>\n",
       "      <td>8.0</td>\n",
       "      <td>6.0</td>\n",
       "    </tr>\n",
       "    <tr>\n",
       "      <th>2</th>\n",
       "      <td>163.2</td>\n",
       "      <td>8.0</td>\n",
       "      <td>67.0</td>\n",
       "      <td>12.0</td>\n",
       "      <td>9.0</td>\n",
       "    </tr>\n",
       "    <tr>\n",
       "      <th>3</th>\n",
       "      <td>200.1</td>\n",
       "      <td>3.0</td>\n",
       "      <td>50.0</td>\n",
       "      <td>7.0</td>\n",
       "      <td>16.0</td>\n",
       "    </tr>\n",
       "    <tr>\n",
       "      <th>4</th>\n",
       "      <td>146.0</td>\n",
       "      <td>3.0</td>\n",
       "      <td>38.0</td>\n",
       "      <td>8.0</td>\n",
       "      <td>15.0</td>\n",
       "    </tr>\n",
       "  </tbody>\n",
       "</table>\n",
       "</div>"
      ],
      "text/plain": [
       "   qt_venda  gast_prop  n_cont  n_marc  n_loj\n",
       "0      79.3        5.5    31.0    10.0    8.0\n",
       "1     200.1        2.5    55.0     8.0    6.0\n",
       "2     163.2        8.0    67.0    12.0    9.0\n",
       "3     200.1        3.0    50.0     7.0   16.0\n",
       "4     146.0        3.0    38.0     8.0   15.0"
      ]
     },
     "execution_count": 4,
     "metadata": {},
     "output_type": "execute_result"
    }
   ],
   "source": [
    "#Mostra as cinco primeiras linhas\n",
    "df.head( ) \n"
   ]
  },
  {
   "cell_type": "code",
   "execution_count": 32,
   "id": "2d504283",
   "metadata": {
    "scrolled": true
   },
   "outputs": [
    {
     "data": {
      "text/html": [
       "<div>\n",
       "<style scoped>\n",
       "    .dataframe tbody tr th:only-of-type {\n",
       "        vertical-align: middle;\n",
       "    }\n",
       "\n",
       "    .dataframe tbody tr th {\n",
       "        vertical-align: top;\n",
       "    }\n",
       "\n",
       "    .dataframe thead th {\n",
       "        text-align: right;\n",
       "    }\n",
       "</style>\n",
       "<table border=\"1\" class=\"dataframe\">\n",
       "  <thead>\n",
       "    <tr style=\"text-align: right;\">\n",
       "      <th></th>\n",
       "      <th>qt_venda</th>\n",
       "      <th>gast_prop</th>\n",
       "      <th>n_cont</th>\n",
       "      <th>n_marc</th>\n",
       "      <th>n_loj</th>\n",
       "    </tr>\n",
       "  </thead>\n",
       "  <tbody>\n",
       "    <tr>\n",
       "      <th>qt_venda</th>\n",
       "      <td>1.000000</td>\n",
       "      <td>0.158590</td>\n",
       "      <td>0.782750</td>\n",
       "      <td>-0.833102</td>\n",
       "      <td>0.407154</td>\n",
       "    </tr>\n",
       "    <tr>\n",
       "      <th>gast_prop</th>\n",
       "      <td>0.158590</td>\n",
       "      <td>1.000000</td>\n",
       "      <td>0.172551</td>\n",
       "      <td>-0.038252</td>\n",
       "      <td>-0.070565</td>\n",
       "    </tr>\n",
       "    <tr>\n",
       "      <th>n_cont</th>\n",
       "      <td>0.782750</td>\n",
       "      <td>0.172551</td>\n",
       "      <td>1.000000</td>\n",
       "      <td>-0.324288</td>\n",
       "      <td>0.468213</td>\n",
       "    </tr>\n",
       "    <tr>\n",
       "      <th>n_marc</th>\n",
       "      <td>-0.833102</td>\n",
       "      <td>-0.038252</td>\n",
       "      <td>-0.324288</td>\n",
       "      <td>1.000000</td>\n",
       "      <td>-0.202060</td>\n",
       "    </tr>\n",
       "    <tr>\n",
       "      <th>n_loj</th>\n",
       "      <td>0.407154</td>\n",
       "      <td>-0.070565</td>\n",
       "      <td>0.468213</td>\n",
       "      <td>-0.202060</td>\n",
       "      <td>1.000000</td>\n",
       "    </tr>\n",
       "  </tbody>\n",
       "</table>\n",
       "</div>"
      ],
      "text/plain": [
       "           qt_venda  gast_prop    n_cont    n_marc     n_loj\n",
       "qt_venda   1.000000   0.158590  0.782750 -0.833102  0.407154\n",
       "gast_prop  0.158590   1.000000  0.172551 -0.038252 -0.070565\n",
       "n_cont     0.782750   0.172551  1.000000 -0.324288  0.468213\n",
       "n_marc    -0.833102  -0.038252 -0.324288  1.000000 -0.202060\n",
       "n_loj      0.407154  -0.070565  0.468213 -0.202060  1.000000"
      ]
     },
     "execution_count": 32,
     "metadata": {},
     "output_type": "execute_result"
    }
   ],
   "source": [
    "#Gera tabela de correlações\n",
    "df.corr( )\n"
   ]
  },
  {
   "cell_type": "markdown",
   "id": "49c82552",
   "metadata": {},
   "source": [
    "AS CORRELAÇÕES SÃO ALTAS E POSITIVAS"
   ]
  },
  {
   "cell_type": "code",
   "execution_count": 33,
   "id": "b3095b0c",
   "metadata": {},
   "outputs": [
    {
     "name": "stdout",
     "output_type": "stream",
     "text": [
      "                            OLS Regression Results                            \n",
      "==============================================================================\n",
      "Dep. Variable:               qt_venda   R-squared:                       0.989\n",
      "Model:                            OLS   Adj. R-squared:                  0.988\n",
      "Method:                 Least Squares   F-statistic:                     1075.\n",
      "Date:                Mon, 01 Apr 2024   Prob (F-statistic):           1.52e-45\n",
      "Time:                        07:59:08   Log-Likelihood:                -185.83\n",
      "No. Observations:                  52   AIC:                             381.7\n",
      "Df Residuals:                      47   BIC:                             391.4\n",
      "Df Model:                           4                                         \n",
      "Covariance Type:            nonrobust                                         \n",
      "==============================================================================\n",
      "                 coef    std err          t      P>|t|      [0.025      0.975]\n",
      "------------------------------------------------------------------------------\n",
      "Intercept    178.4976      8.656     20.621      0.000     161.084     195.912\n",
      "gast_prop      1.7943      0.722      2.485      0.017       0.342       3.247\n",
      "n_cont         3.3190      0.109     30.507      0.000       3.100       3.538\n",
      "n_marc       -21.1989      0.526    -40.282      0.000     -22.258     -20.140\n",
      "n_loj          0.3218      0.312      1.030      0.308      -0.307       0.950\n",
      "==============================================================================\n",
      "Omnibus:                        1.647   Durbin-Watson:                   1.548\n",
      "Prob(Omnibus):                  0.439   Jarque-Bera (JB):                1.410\n",
      "Skew:                          -0.245   Prob(JB):                        0.494\n",
      "Kurtosis:                       2.360   Cond. No.                         383.\n",
      "==============================================================================\n",
      "\n",
      "Notes:\n",
      "[1] Standard Errors assume that the covariance matrix of the errors is correctly specified.\n"
     ]
    }
   ],
   "source": [
    "#Modelo de Regressão\n",
    "from statsmodels.formula.api import ols\n",
    "modelo=ols('qt_venda~gast_prop+n_cont+n_marc+n_loj',data=df).fit()\n",
    "\n",
    "# Resumo do modelo\n",
    "print(modelo.summary())\n"
   ]
  },
  {
   "cell_type": "code",
   "execution_count": 5,
   "id": "8f39f5d1",
   "metadata": {},
   "outputs": [
    {
     "name": "stdout",
     "output_type": "stream",
     "text": [
      "                            OLS Regression Results                            \n",
      "==============================================================================\n",
      "Dep. Variable:               qt_venda   R-squared:                       0.989\n",
      "Model:                            OLS   Adj. R-squared:                  0.988\n",
      "Method:                 Least Squares   F-statistic:                     1431.\n",
      "Date:                Mon, 08 Apr 2024   Prob (F-statistic):           6.23e-47\n",
      "Time:                        08:47:53   Log-Likelihood:                -186.41\n",
      "No. Observations:                  52   AIC:                             380.8\n",
      "Df Residuals:                      48   BIC:                             388.6\n",
      "Df Model:                           3                                         \n",
      "Covariance Type:            nonrobust                                         \n",
      "==============================================================================\n",
      "                 coef    std err          t      P>|t|      [0.025      0.975]\n",
      "------------------------------------------------------------------------------\n",
      "Intercept    180.0088      8.536     21.087      0.000     162.845     197.172\n",
      "gast_prop      1.6656      0.712      2.341      0.023       0.235       3.096\n",
      "n_cont         3.3701      0.097     34.789      0.000       3.175       3.565\n",
      "n_marc       -21.2302      0.526    -40.383      0.000     -22.287     -20.173\n",
      "==============================================================================\n",
      "Omnibus:                        1.243   Durbin-Watson:                   1.594\n",
      "Prob(Omnibus):                  0.537   Jarque-Bera (JB):                1.265\n",
      "Skew:                          -0.296   Prob(JB):                        0.531\n",
      "Kurtosis:                       2.516   Cond. No.                         371.\n",
      "==============================================================================\n",
      "\n",
      "Notes:\n",
      "[1] Standard Errors assume that the covariance matrix of the errors is correctly specified.\n"
     ]
    }
   ],
   "source": [
    "#Modelo de Regressão\n",
    "from statsmodels.formula.api import ols\n",
    "modelo=ols('qt_venda~gast_prop+n_cont+n_marc',data=df).fit()\n",
    "\n",
    "# Resumo do modelo\n",
    "print(modelo.summary())\n"
   ]
  },
  {
   "cell_type": "code",
   "execution_count": 6,
   "id": "3b259d55",
   "metadata": {},
   "outputs": [
    {
     "name": "stdout",
     "output_type": "stream",
     "text": [
      "Teste de Shapiro-Wilk para normalidade dos resíduos:\n",
      "Estatística de teste: 0.9676164984703064\n",
      "Valor-p: 0.1671878695487976\n"
     ]
    }
   ],
   "source": [
    "# Verificação de Distribuição Normal dos Resíduos\n",
    "# Teste de Shapiro-Wilk para normalidade dos resíduos\n",
    "\n",
    "from scipy.stats import shapiro\n",
    "residuos=modelo.resid\n",
    "stat, p_valor = shapiro(residuos)\n",
    "print('Teste de Shapiro-Wilk para normalidade dos resíduos:')\n",
    "print('Estatística de teste:', stat)\n",
    "print('Valor-p:', p_valor)\n"
   ]
  },
  {
   "cell_type": "markdown",
   "id": "35aa7d7d",
   "metadata": {},
   "source": [
    "Valor p acima de 0.05 aceito a normalidade dos resíduos"
   ]
  }
 ],
 "metadata": {
  "kernelspec": {
   "display_name": "Python 3 (ipykernel)",
   "language": "python",
   "name": "python3"
  },
  "language_info": {
   "codemirror_mode": {
    "name": "ipython",
    "version": 3
   },
   "file_extension": ".py",
   "mimetype": "text/x-python",
   "name": "python",
   "nbconvert_exporter": "python",
   "pygments_lexer": "ipython3",
   "version": "3.9.7"
  }
 },
 "nbformat": 4,
 "nbformat_minor": 5
}
