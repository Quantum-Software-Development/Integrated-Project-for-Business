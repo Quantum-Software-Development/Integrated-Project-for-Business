{
 "cells": [
  {
   "cell_type": "code",
   "execution_count": 13,
   "id": "4e37740d",
   "metadata": {},
   "outputs": [],
   "source": [
    "# importa biblioteca pandas\n",
    "import pandas as pd\n",
    "\n",
    "# importa biblioteca scipy\n",
    "import scipy.stats as stats\n",
    "\n",
    "# local do arquivo\n",
    "Caminho='C:/_Academico/PUC/202401/PROJETO INTEGRADO NEGÓCIOS/Multifator.xlsx'\n"
   ]
  },
  {
   "cell_type": "code",
   "execution_count": 14,
   "id": "d016b3dd",
   "metadata": {},
   "outputs": [],
   "source": [
    "#Traz o arquivo para o Python\n",
    "df=pd.read_excel(Caminho)\n"
   ]
  },
  {
   "cell_type": "code",
   "execution_count": 15,
   "id": "91049223",
   "metadata": {},
   "outputs": [
    {
     "data": {
      "text/html": [
       "<div>\n",
       "<style scoped>\n",
       "    .dataframe tbody tr th:only-of-type {\n",
       "        vertical-align: middle;\n",
       "    }\n",
       "\n",
       "    .dataframe tbody tr th {\n",
       "        vertical-align: top;\n",
       "    }\n",
       "\n",
       "    .dataframe thead th {\n",
       "        text-align: right;\n",
       "    }\n",
       "</style>\n",
       "<table border=\"1\" class=\"dataframe\">\n",
       "  <thead>\n",
       "    <tr style=\"text-align: right;\">\n",
       "      <th></th>\n",
       "      <th>Período</th>\n",
       "      <th>CIF</th>\n",
       "      <th>HMOD</th>\n",
       "      <th>HM</th>\n",
       "    </tr>\n",
       "  </thead>\n",
       "  <tbody>\n",
       "    <tr>\n",
       "      <th>0</th>\n",
       "      <td>1</td>\n",
       "      <td>350</td>\n",
       "      <td>4</td>\n",
       "      <td>10</td>\n",
       "    </tr>\n",
       "    <tr>\n",
       "      <th>1</th>\n",
       "      <td>2</td>\n",
       "      <td>400</td>\n",
       "      <td>8</td>\n",
       "      <td>14</td>\n",
       "    </tr>\n",
       "    <tr>\n",
       "      <th>2</th>\n",
       "      <td>3</td>\n",
       "      <td>470</td>\n",
       "      <td>12</td>\n",
       "      <td>16</td>\n",
       "    </tr>\n",
       "    <tr>\n",
       "      <th>3</th>\n",
       "      <td>4</td>\n",
       "      <td>550</td>\n",
       "      <td>10</td>\n",
       "      <td>26</td>\n",
       "    </tr>\n",
       "    <tr>\n",
       "      <th>4</th>\n",
       "      <td>5</td>\n",
       "      <td>620</td>\n",
       "      <td>15</td>\n",
       "      <td>31</td>\n",
       "    </tr>\n",
       "  </tbody>\n",
       "</table>\n",
       "</div>"
      ],
      "text/plain": [
       "   Período  CIF  HMOD  HM\n",
       "0        1  350     4  10\n",
       "1        2  400     8  14\n",
       "2        3  470    12  16\n",
       "3        4  550    10  26\n",
       "4        5  620    15  31"
      ]
     },
     "execution_count": 15,
     "metadata": {},
     "output_type": "execute_result"
    }
   ],
   "source": [
    "#Mostra as cinco primeiras linhas\n",
    "df.head( ) \n"
   ]
  },
  {
   "cell_type": "code",
   "execution_count": 18,
   "id": "2d504283",
   "metadata": {
    "scrolled": true
   },
   "outputs": [
    {
     "data": {
      "text/html": [
       "<div>\n",
       "<style scoped>\n",
       "    .dataframe tbody tr th:only-of-type {\n",
       "        vertical-align: middle;\n",
       "    }\n",
       "\n",
       "    .dataframe tbody tr th {\n",
       "        vertical-align: top;\n",
       "    }\n",
       "\n",
       "    .dataframe thead th {\n",
       "        text-align: right;\n",
       "    }\n",
       "</style>\n",
       "<table border=\"1\" class=\"dataframe\">\n",
       "  <thead>\n",
       "    <tr style=\"text-align: right;\">\n",
       "      <th></th>\n",
       "      <th>CIF</th>\n",
       "      <th>HMOD</th>\n",
       "      <th>HM</th>\n",
       "    </tr>\n",
       "  </thead>\n",
       "  <tbody>\n",
       "    <tr>\n",
       "      <th>CIF</th>\n",
       "      <td>1.000000</td>\n",
       "      <td>0.882914</td>\n",
       "      <td>0.919862</td>\n",
       "    </tr>\n",
       "    <tr>\n",
       "      <th>HMOD</th>\n",
       "      <td>0.882914</td>\n",
       "      <td>1.000000</td>\n",
       "      <td>0.845405</td>\n",
       "    </tr>\n",
       "    <tr>\n",
       "      <th>HM</th>\n",
       "      <td>0.919862</td>\n",
       "      <td>0.845405</td>\n",
       "      <td>1.000000</td>\n",
       "    </tr>\n",
       "  </tbody>\n",
       "</table>\n",
       "</div>"
      ],
      "text/plain": [
       "           CIF      HMOD        HM\n",
       "CIF   1.000000  0.882914  0.919862\n",
       "HMOD  0.882914  1.000000  0.845405\n",
       "HM    0.919862  0.845405  1.000000"
      ]
     },
     "execution_count": 18,
     "metadata": {},
     "output_type": "execute_result"
    }
   ],
   "source": [
    "#Gera tabela de correlações\n",
    "df[['CIF','HMOD','HM']].corr( )\n"
   ]
  },
  {
   "cell_type": "markdown",
   "id": "738b2243",
   "metadata": {},
   "source": [
    "AS CORRELAÇÕES SÃO ALTAS E POSITIVAS"
   ]
  },
  {
   "cell_type": "code",
   "execution_count": 24,
   "id": "b3095b0c",
   "metadata": {},
   "outputs": [
    {
     "name": "stdout",
     "output_type": "stream",
     "text": [
      "                            OLS Regression Results                            \n",
      "==============================================================================\n",
      "Dep. Variable:                    CIF   R-squared:                       0.780\n",
      "Model:                            OLS   Adj. R-squared:                  0.763\n",
      "Method:                 Least Squares   F-statistic:                     45.97\n",
      "Date:                Mon, 01 Apr 2024   Prob (F-statistic):           1.30e-05\n",
      "Time:                        07:50:53   Log-Likelihood:                -78.584\n",
      "No. Observations:                  15   AIC:                             161.2\n",
      "Df Residuals:                      13   BIC:                             162.6\n",
      "Df Model:                           1                                         \n",
      "Covariance Type:            nonrobust                                         \n",
      "==============================================================================\n",
      "                 coef    std err          t      P>|t|      [0.025      0.975]\n",
      "------------------------------------------------------------------------------\n",
      "Intercept    200.8214     41.762      4.809      0.000     110.600     291.043\n",
      "HMOD          28.1089      4.146      6.780      0.000      19.152      37.066\n",
      "==============================================================================\n",
      "Omnibus:                        0.876   Durbin-Watson:                   1.768\n",
      "Prob(Omnibus):                  0.645   Jarque-Bera (JB):                0.698\n",
      "Skew:                          -0.154   Prob(JB):                        0.705\n",
      "Kurtosis:                       1.989   Cond. No.                         33.6\n",
      "==============================================================================\n",
      "\n",
      "Notes:\n",
      "[1] Standard Errors assume that the covariance matrix of the errors is correctly specified.\n"
     ]
    },
    {
     "name": "stderr",
     "output_type": "stream",
     "text": [
      "C:\\Users\\ebacc\\anaconda3\\lib\\site-packages\\scipy\\stats\\_stats_py.py:1806: UserWarning: kurtosistest only valid for n>=20 ... continuing anyway, n=15\n",
      "  warnings.warn(\"kurtosistest only valid for n>=20 ... continuing \"\n"
     ]
    }
   ],
   "source": [
    "#Modelo de Regressão\n",
    "from statsmodels.formula.api import ols\n",
    "modelo1=ols('CIF ~ HMOD',data=df).fit()\n",
    "\n",
    "# Resumo do modelo\n",
    "print(modelo1.summary())\n"
   ]
  },
  {
   "cell_type": "markdown",
   "id": "66495416",
   "metadata": {},
   "source": [
    "R-squared: 0,780 - Bom ajuste\n",
    "    Coeficiente de HMOD > 0 relação positiva entre as variáveis\n",
    "    p-valor de HMOD <0,05 - variável relevante para o modelo\n",
    "    "
   ]
  },
  {
   "cell_type": "code",
   "execution_count": 25,
   "id": "8d80fba6",
   "metadata": {},
   "outputs": [
    {
     "name": "stdout",
     "output_type": "stream",
     "text": [
      "Teste de Shapiro-Wilk para normalidade dos resíduos:\n",
      "Estatística de teste: 0.9590085744857788\n",
      "Valor-p: 0.6751689314842224\n"
     ]
    }
   ],
   "source": [
    "# Verificação de Distribuição Normal dos Resíduos\n",
    "# Teste de Shapiro-Wilk para normalidade dos resíduos\n",
    "\n",
    "from scipy.stats import shapiro\n",
    "residuos=modelo1.resid\n",
    "stat, p_valor = shapiro(residuos)\n",
    "print('Teste de Shapiro-Wilk para normalidade dos resíduos:')\n",
    "print('Estatística de teste:', stat)\n",
    "print('Valor-p:', p_valor)\n"
   ]
  },
  {
   "cell_type": "markdown",
   "id": "4781b77a",
   "metadata": {},
   "source": [
    "Valor p acima de 0.05 aceito a normalidade dos resíduos"
   ]
  },
  {
   "cell_type": "code",
   "execution_count": 19,
   "id": "eae3091b",
   "metadata": {},
   "outputs": [
    {
     "name": "stdout",
     "output_type": "stream",
     "text": [
      "                            OLS Regression Results                            \n",
      "==============================================================================\n",
      "Dep. Variable:                    CIF   R-squared:                       0.846\n",
      "Model:                            OLS   Adj. R-squared:                  0.834\n",
      "Method:                 Least Squares   F-statistic:                     71.50\n",
      "Date:                Mon, 01 Apr 2024   Prob (F-statistic):           1.21e-06\n",
      "Time:                        07:42:42   Log-Likelihood:                -75.886\n",
      "No. Observations:                  15   AIC:                             155.8\n",
      "Df Residuals:                      13   BIC:                             157.2\n",
      "Df Model:                           1                                         \n",
      "Covariance Type:            nonrobust                                         \n",
      "==============================================================================\n",
      "                 coef    std err          t      P>|t|      [0.025      0.975]\n",
      "------------------------------------------------------------------------------\n",
      "Intercept    208.8765     32.714      6.385      0.000     138.202     279.551\n",
      "HM            14.1764      1.677      8.456      0.000      10.554      17.798\n",
      "==============================================================================\n",
      "Omnibus:                        6.390   Durbin-Watson:                   1.782\n",
      "Prob(Omnibus):                  0.041   Jarque-Bera (JB):                3.222\n",
      "Skew:                          -0.944   Prob(JB):                        0.200\n",
      "Kurtosis:                       4.262   Cond. No.                         60.6\n",
      "==============================================================================\n",
      "\n",
      "Notes:\n",
      "[1] Standard Errors assume that the covariance matrix of the errors is correctly specified.\n"
     ]
    },
    {
     "name": "stderr",
     "output_type": "stream",
     "text": [
      "C:\\Users\\ebacc\\anaconda3\\lib\\site-packages\\scipy\\stats\\_stats_py.py:1806: UserWarning: kurtosistest only valid for n>=20 ... continuing anyway, n=15\n",
      "  warnings.warn(\"kurtosistest only valid for n>=20 ... continuing \"\n"
     ]
    }
   ],
   "source": [
    "#Modelo de Regressão\n",
    "from statsmodels.formula.api import ols\n",
    "modelo2=ols('CIF ~ HM',data=df).fit()\n",
    "\n",
    "# Resumo do modelo\n",
    "print(modelo2.summary())\n"
   ]
  },
  {
   "cell_type": "markdown",
   "id": "6f3cb46e",
   "metadata": {},
   "source": [
    "R-squared: 0,846 - Ajuste melhor que o anterior\n",
    "    Coeficiente de HM > 0 relação positiva entre as variáveis\n",
    "    p-valor de HM <0,05 - variável relevante para o modelo"
   ]
  },
  {
   "cell_type": "code",
   "execution_count": 28,
   "id": "e448d8ee",
   "metadata": {},
   "outputs": [
    {
     "name": "stdout",
     "output_type": "stream",
     "text": [
      "Teste de Shapiro-Wilk para normalidade dos resíduos:\n",
      "Estatística de teste: 0.9249430894851685\n",
      "Valor-p: 0.22901682555675507\n"
     ]
    }
   ],
   "source": [
    "# Verificação de Distribuição Normal dos Resíduos\n",
    "# Teste de Shapiro-Wilk para normalidade dos resíduos\n",
    "\n",
    "from scipy.stats import shapiro\n",
    "residuos=modelo2.resid\n",
    "stat, p_valor = shapiro(residuos)\n",
    "print('Teste de Shapiro-Wilk para normalidade dos resíduos:')\n",
    "print('Estatística de teste:', stat)\n",
    "print('Valor-p:', p_valor)\n"
   ]
  },
  {
   "cell_type": "markdown",
   "id": "7bb36b30",
   "metadata": {},
   "source": [
    "Valor p acima de 0.05 aceito a normalidade dos resíduos"
   ]
  },
  {
   "cell_type": "code",
   "execution_count": 20,
   "id": "461b1782",
   "metadata": {},
   "outputs": [
    {
     "name": "stdout",
     "output_type": "stream",
     "text": [
      "                            OLS Regression Results                            \n",
      "==============================================================================\n",
      "Dep. Variable:                    CIF   R-squared:                       0.885\n",
      "Model:                            OLS   Adj. R-squared:                  0.866\n",
      "Method:                 Least Squares   F-statistic:                     46.17\n",
      "Date:                Mon, 01 Apr 2024   Prob (F-statistic):           2.32e-06\n",
      "Time:                        07:42:52   Log-Likelihood:                -73.704\n",
      "No. Observations:                  15   AIC:                             153.4\n",
      "Df Residuals:                      12   BIC:                             155.5\n",
      "Df Model:                           2                                         \n",
      "Covariance Type:            nonrobust                                         \n",
      "==============================================================================\n",
      "                 coef    std err          t      P>|t|      [0.025      0.975]\n",
      "------------------------------------------------------------------------------\n",
      "Intercept    184.8836     31.762      5.821      0.000     115.680     254.087\n",
      "HMOD          11.7460      5.835      2.013      0.067      -0.968      24.460\n",
      "HM             9.3694      2.825      3.317      0.006       3.215      15.524\n",
      "==============================================================================\n",
      "Omnibus:                        6.418   Durbin-Watson:                   1.721\n",
      "Prob(Omnibus):                  0.040   Jarque-Bera (JB):                3.376\n",
      "Skew:                          -1.062   Prob(JB):                        0.185\n",
      "Kurtosis:                       3.943   Cond. No.                         73.4\n",
      "==============================================================================\n",
      "\n",
      "Notes:\n",
      "[1] Standard Errors assume that the covariance matrix of the errors is correctly specified.\n"
     ]
    },
    {
     "name": "stderr",
     "output_type": "stream",
     "text": [
      "C:\\Users\\ebacc\\anaconda3\\lib\\site-packages\\scipy\\stats\\_stats_py.py:1806: UserWarning: kurtosistest only valid for n>=20 ... continuing anyway, n=15\n",
      "  warnings.warn(\"kurtosistest only valid for n>=20 ... continuing \"\n"
     ]
    }
   ],
   "source": [
    "#Modelo de Regressão\n",
    "from statsmodels.formula.api import ols\n",
    "modelo3=ols('CIF ~ HMOD+HM',data=df).fit()\n",
    "\n",
    "# Resumo do modelo\n",
    "print(modelo3.summary())"
   ]
  },
  {
   "cell_type": "markdown",
   "id": "400ab0cf",
   "metadata": {},
   "source": [
    "R-squared: 0,885 - Ajuste melhor que o anterior\n",
    "Coeficientes de HM e HMOD > 0 relação positiva entre as variáveis \n",
    "p-valor de HMOD > 0,05 - variável irrelevante para o modelo"
   ]
  },
  {
   "cell_type": "code",
   "execution_count": 26,
   "id": "e427834a",
   "metadata": {},
   "outputs": [
    {
     "name": "stdout",
     "output_type": "stream",
     "text": [
      "Teste de Shapiro-Wilk para normalidade dos resíduos:\n",
      "Estatística de teste: 0.9215136766433716\n",
      "Valor-p: 0.20314225554466248\n"
     ]
    }
   ],
   "source": [
    "# Verificação de Distribuição Normal dos Resíduos\n",
    "# Teste de Shapiro-Wilk para normalidade dos resíduos\n",
    "\n",
    "from scipy.stats import shapiro\n",
    "residuos=modelo3.resid\n",
    "stat, p_valor = shapiro(residuos)\n",
    "print('Teste de Shapiro-Wilk para normalidade dos resíduos:')\n",
    "print('Estatística de teste:', stat)\n",
    "print('Valor-p:', p_valor)\n"
   ]
  },
  {
   "cell_type": "markdown",
   "id": "bb69ac6a",
   "metadata": {},
   "source": [
    "Valor p acima de 0.05 aceito a normalidade dos resíduos"
   ]
  },
  {
   "cell_type": "code",
   "execution_count": 22,
   "id": "5ab3e6e6",
   "metadata": {},
   "outputs": [
    {
     "data": {
      "text/plain": [
       "['HM']"
      ]
     },
     "execution_count": 22,
     "metadata": {},
     "output_type": "execute_result"
    }
   ],
   "source": [
    "#Stepwise\n",
    "from stepwise_regression import step_reg\n",
    "#cria dois conjuntos, o de variáveis independentes (x) e o outro com a variável resposta (y)\n",
    "x=df[['HMOD','HM']]\n",
    "y=df['CIF']\n",
    "#Seleciona as variáveis\n",
    "backselect = step_reg.backward_regression(x, y, 0.05)\n",
    "backselect"
   ]
  },
  {
   "cell_type": "code",
   "execution_count": null,
   "id": "3bcc327e",
   "metadata": {},
   "outputs": [],
   "source": [
    "Resta só HM, igual ao modelo 2"
   ]
  }
 ],
 "metadata": {
  "kernelspec": {
   "display_name": "Python 3 (ipykernel)",
   "language": "python",
   "name": "python3"
  },
  "language_info": {
   "codemirror_mode": {
    "name": "ipython",
    "version": 3
   },
   "file_extension": ".py",
   "mimetype": "text/x-python",
   "name": "python",
   "nbconvert_exporter": "python",
   "pygments_lexer": "ipython3",
   "version": "3.9.7"
  }
 },
 "nbformat": 4,
 "nbformat_minor": 5
}
