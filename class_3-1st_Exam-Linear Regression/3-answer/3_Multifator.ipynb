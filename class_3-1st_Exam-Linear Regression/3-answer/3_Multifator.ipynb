{
 "cells": [
  {
   "cell_type": "markdown",
   "metadata": {},
   "source": [
    "3) A companhia Multifator está analisando o comportamento dos Custos Indiretos de\n",
    "Fabricação (CIF) em função das variáveis: horas de mão-de-obra direta (HMOD) e\n",
    "horas - máquina (HM) nos últimos 15 meses. Analise a variável CIF em função de cada\n",
    "uma das variáveis (HMOD e HM) isoladamente e em função das duas simultaneamente.\n",
    "Para facilitar as análises, obtenha também a matriz de correlação de todas as variáveis\n",
    "envolvidas. Após a análise do modelo de regressão com as duas variáveis\n",
    "simultaneamente, refaça o estudo, considerando o modelo de regressão stepwise.\n",
    "Compare os resultados das duas modelagens de regressão múltipla.\n",
    "\n",
    "Período CIF HMOD HM\n",
    "\n",
    "1,00 350,00 4,00 10,00\n",
    "\n",
    "2,00 400,00 8,00 14,00\n",
    "\n",
    "3,00 470,00 12,00 16,00\n",
    "\n",
    "4,00 550,00 10,00 26,00\n",
    "\n",
    "5,00 620,00 15,00 31,00\n",
    "\n",
    "6,00 380,00 7,00 12,00\n",
    "\n",
    "7,00 290,00 6,00 13,00\n",
    "\n",
    "8,00 490,00 10,00 21,00\n",
    "\n",
    "9,00 580,00 11,00 26,00\n",
    "\n",
    "10,00 610,00 13,00 24,00\n",
    "\n",
    "11,00 560,00 12,00 23,00\n",
    "\n",
    "12,00 420,00 8,00 12,00\n",
    "\n",
    "13,00 450,00 11,00 19,00\n",
    "\n",
    "14,00 510,00 12,00 19,00\n",
    "\n",
    "15,00 380,00 5,00 11,00\n"
   ]
  },
  {
   "cell_type": "code",
   "execution_count": 1,
   "metadata": {},
   "outputs": [
    {
     "name": "stdout",
     "output_type": "stream",
     "text": [
      "Defaulting to user installation because normal site-packages is not writeable\n",
      "Requirement already satisfied: statsmodels in /Users/fabicampanari/Library/Python/3.9/lib/python/site-packages (0.14.4)\n",
      "Requirement already satisfied: numpy<3,>=1.22.3 in /Users/fabicampanari/Library/Python/3.9/lib/python/site-packages (from statsmodels) (2.0.2)\n",
      "Requirement already satisfied: patsy>=0.5.6 in /Users/fabicampanari/Library/Python/3.9/lib/python/site-packages (from statsmodels) (1.0.1)\n",
      "Requirement already satisfied: scipy!=1.9.2,>=1.8 in /Users/fabicampanari/Library/Python/3.9/lib/python/site-packages (from statsmodels) (1.13.1)\n",
      "Requirement already satisfied: packaging>=21.3 in /Users/fabicampanari/Library/Python/3.9/lib/python/site-packages (from statsmodels) (24.1)\n",
      "Requirement already satisfied: pandas!=2.1.0,>=1.4 in /Users/fabicampanari/Library/Python/3.9/lib/python/site-packages (from statsmodels) (2.2.3)\n",
      "Requirement already satisfied: tzdata>=2022.7 in /Users/fabicampanari/Library/Python/3.9/lib/python/site-packages (from pandas!=2.1.0,>=1.4->statsmodels) (2025.1)\n",
      "Requirement already satisfied: python-dateutil>=2.8.2 in /Users/fabicampanari/Library/Python/3.9/lib/python/site-packages (from pandas!=2.1.0,>=1.4->statsmodels) (2.9.0.post0)\n",
      "Requirement already satisfied: pytz>=2020.1 in /Users/fabicampanari/Library/Python/3.9/lib/python/site-packages (from pandas!=2.1.0,>=1.4->statsmodels) (2025.1)\n",
      "Requirement already satisfied: six>=1.5 in /Library/Developer/CommandLineTools/Library/Frameworks/Python3.framework/Versions/3.9/lib/python3.9/site-packages (from python-dateutil>=2.8.2->pandas!=2.1.0,>=1.4->statsmodels) (1.15.0)\n",
      "\u001b[33mWARNING: You are using pip version 21.2.4; however, version 25.0.1 is available.\n",
      "You should consider upgrading via the '/Library/Developer/CommandLineTools/usr/bin/python3 -m pip install --upgrade pip' command.\u001b[0m\n",
      "Note: you may need to restart the kernel to use updated packages.\n",
      "Defaulting to user installation because normal site-packages is not writeable\n",
      "Requirement already satisfied: stepwise-regression in /Users/fabicampanari/Library/Python/3.9/lib/python/site-packages (1.0.3)\n",
      "Requirement already satisfied: pandas in /Users/fabicampanari/Library/Python/3.9/lib/python/site-packages (from stepwise-regression) (2.2.3)\n",
      "Requirement already satisfied: statsmodels in /Users/fabicampanari/Library/Python/3.9/lib/python/site-packages (from stepwise-regression) (0.14.4)\n",
      "Requirement already satisfied: python-dateutil>=2.8.2 in /Users/fabicampanari/Library/Python/3.9/lib/python/site-packages (from pandas->stepwise-regression) (2.9.0.post0)\n",
      "Requirement already satisfied: tzdata>=2022.7 in /Users/fabicampanari/Library/Python/3.9/lib/python/site-packages (from pandas->stepwise-regression) (2025.1)\n",
      "Requirement already satisfied: pytz>=2020.1 in /Users/fabicampanari/Library/Python/3.9/lib/python/site-packages (from pandas->stepwise-regression) (2025.1)\n",
      "Requirement already satisfied: numpy>=1.22.4 in /Users/fabicampanari/Library/Python/3.9/lib/python/site-packages (from pandas->stepwise-regression) (2.0.2)\n",
      "Requirement already satisfied: six>=1.5 in /Library/Developer/CommandLineTools/Library/Frameworks/Python3.framework/Versions/3.9/lib/python3.9/site-packages (from python-dateutil>=2.8.2->pandas->stepwise-regression) (1.15.0)\n",
      "Requirement already satisfied: packaging>=21.3 in /Users/fabicampanari/Library/Python/3.9/lib/python/site-packages (from statsmodels->stepwise-regression) (24.1)\n",
      "Requirement already satisfied: patsy>=0.5.6 in /Users/fabicampanari/Library/Python/3.9/lib/python/site-packages (from statsmodels->stepwise-regression) (1.0.1)\n",
      "Requirement already satisfied: scipy!=1.9.2,>=1.8 in /Users/fabicampanari/Library/Python/3.9/lib/python/site-packages (from statsmodels->stepwise-regression) (1.13.1)\n",
      "\u001b[33mWARNING: You are using pip version 21.2.4; however, version 25.0.1 is available.\n",
      "You should consider upgrading via the '/Library/Developer/CommandLineTools/usr/bin/python3 -m pip install --upgrade pip' command.\u001b[0m\n",
      "Note: you may need to restart the kernel to use updated packages.\n",
      "Defaulting to user installation because normal site-packages is not writeable\n",
      "Requirement already satisfied: seaborn in /Users/fabicampanari/Library/Python/3.9/lib/python/site-packages (0.13.2)\n",
      "Requirement already satisfied: numpy!=1.24.0,>=1.20 in /Users/fabicampanari/Library/Python/3.9/lib/python/site-packages (from seaborn) (2.0.2)\n",
      "Requirement already satisfied: pandas>=1.2 in /Users/fabicampanari/Library/Python/3.9/lib/python/site-packages (from seaborn) (2.2.3)\n",
      "Requirement already satisfied: matplotlib!=3.6.1,>=3.4 in /Users/fabicampanari/Library/Python/3.9/lib/python/site-packages (from seaborn) (3.9.4)\n",
      "Requirement already satisfied: pillow>=8 in /Users/fabicampanari/Library/Python/3.9/lib/python/site-packages (from matplotlib!=3.6.1,>=3.4->seaborn) (11.1.0)\n",
      "Requirement already satisfied: kiwisolver>=1.3.1 in /Users/fabicampanari/Library/Python/3.9/lib/python/site-packages (from matplotlib!=3.6.1,>=3.4->seaborn) (1.4.7)\n",
      "Requirement already satisfied: packaging>=20.0 in /Users/fabicampanari/Library/Python/3.9/lib/python/site-packages (from matplotlib!=3.6.1,>=3.4->seaborn) (24.1)\n",
      "Requirement already satisfied: importlib-resources>=3.2.0 in /Users/fabicampanari/Library/Python/3.9/lib/python/site-packages (from matplotlib!=3.6.1,>=3.4->seaborn) (6.5.2)\n",
      "Requirement already satisfied: cycler>=0.10 in /Users/fabicampanari/Library/Python/3.9/lib/python/site-packages (from matplotlib!=3.6.1,>=3.4->seaborn) (0.12.1)\n",
      "Requirement already satisfied: fonttools>=4.22.0 in /Users/fabicampanari/Library/Python/3.9/lib/python/site-packages (from matplotlib!=3.6.1,>=3.4->seaborn) (4.56.0)\n",
      "Requirement already satisfied: contourpy>=1.0.1 in /Users/fabicampanari/Library/Python/3.9/lib/python/site-packages (from matplotlib!=3.6.1,>=3.4->seaborn) (1.3.0)\n",
      "Requirement already satisfied: pyparsing>=2.3.1 in /Users/fabicampanari/Library/Python/3.9/lib/python/site-packages (from matplotlib!=3.6.1,>=3.4->seaborn) (3.2.1)\n",
      "Requirement already satisfied: python-dateutil>=2.7 in /Users/fabicampanari/Library/Python/3.9/lib/python/site-packages (from matplotlib!=3.6.1,>=3.4->seaborn) (2.9.0.post0)\n",
      "Requirement already satisfied: zipp>=3.1.0 in /Users/fabicampanari/Library/Python/3.9/lib/python/site-packages (from importlib-resources>=3.2.0->matplotlib!=3.6.1,>=3.4->seaborn) (3.20.1)\n",
      "Requirement already satisfied: pytz>=2020.1 in /Users/fabicampanari/Library/Python/3.9/lib/python/site-packages (from pandas>=1.2->seaborn) (2025.1)\n",
      "Requirement already satisfied: tzdata>=2022.7 in /Users/fabicampanari/Library/Python/3.9/lib/python/site-packages (from pandas>=1.2->seaborn) (2025.1)\n",
      "Requirement already satisfied: six>=1.5 in /Library/Developer/CommandLineTools/Library/Frameworks/Python3.framework/Versions/3.9/lib/python3.9/site-packages (from python-dateutil>=2.7->matplotlib!=3.6.1,>=3.4->seaborn) (1.15.0)\n",
      "\u001b[33mWARNING: You are using pip version 21.2.4; however, version 25.0.1 is available.\n",
      "You should consider upgrading via the '/Library/Developer/CommandLineTools/usr/bin/python3 -m pip install --upgrade pip' command.\u001b[0m\n",
      "Note: you may need to restart the kernel to use updated packages.\n",
      "Defaulting to user installation because normal site-packages is not writeable\n",
      "Requirement already satisfied: matplotlib in /Users/fabicampanari/Library/Python/3.9/lib/python/site-packages (3.9.4)\n",
      "Requirement already satisfied: packaging>=20.0 in /Users/fabicampanari/Library/Python/3.9/lib/python/site-packages (from matplotlib) (24.1)\n",
      "Requirement already satisfied: kiwisolver>=1.3.1 in /Users/fabicampanari/Library/Python/3.9/lib/python/site-packages (from matplotlib) (1.4.7)\n",
      "Requirement already satisfied: numpy>=1.23 in /Users/fabicampanari/Library/Python/3.9/lib/python/site-packages (from matplotlib) (2.0.2)\n",
      "Requirement already satisfied: cycler>=0.10 in /Users/fabicampanari/Library/Python/3.9/lib/python/site-packages (from matplotlib) (0.12.1)\n",
      "Requirement already satisfied: pillow>=8 in /Users/fabicampanari/Library/Python/3.9/lib/python/site-packages (from matplotlib) (11.1.0)\n",
      "Requirement already satisfied: pyparsing>=2.3.1 in /Users/fabicampanari/Library/Python/3.9/lib/python/site-packages (from matplotlib) (3.2.1)\n",
      "Requirement already satisfied: python-dateutil>=2.7 in /Users/fabicampanari/Library/Python/3.9/lib/python/site-packages (from matplotlib) (2.9.0.post0)\n",
      "Requirement already satisfied: fonttools>=4.22.0 in /Users/fabicampanari/Library/Python/3.9/lib/python/site-packages (from matplotlib) (4.56.0)\n",
      "Requirement already satisfied: contourpy>=1.0.1 in /Users/fabicampanari/Library/Python/3.9/lib/python/site-packages (from matplotlib) (1.3.0)\n",
      "Requirement already satisfied: importlib-resources>=3.2.0 in /Users/fabicampanari/Library/Python/3.9/lib/python/site-packages (from matplotlib) (6.5.2)\n",
      "Requirement already satisfied: zipp>=3.1.0 in /Users/fabicampanari/Library/Python/3.9/lib/python/site-packages (from importlib-resources>=3.2.0->matplotlib) (3.20.1)\n",
      "Requirement already satisfied: six>=1.5 in /Library/Developer/CommandLineTools/Library/Frameworks/Python3.framework/Versions/3.9/lib/python3.9/site-packages (from python-dateutil>=2.7->matplotlib) (1.15.0)\n",
      "\u001b[33mWARNING: You are using pip version 21.2.4; however, version 25.0.1 is available.\n",
      "You should consider upgrading via the '/Library/Developer/CommandLineTools/usr/bin/python3 -m pip install --upgrade pip' command.\u001b[0m\n",
      "Note: you may need to restart the kernel to use updated packages.\n"
     ]
    }
   ],
   "source": [
    "%pip install statsmodels\n",
    "%pip install stepwise-regression\n",
    "%pip install seaborn\n",
    "%pip install matplotlib"
   ]
  },
  {
   "cell_type": "code",
   "execution_count": 2,
   "metadata": {},
   "outputs": [],
   "source": [
    "import pandas as pd\n",
    "import scipy.stats as stats\n",
    "import numpy as np\n",
    "import statsmodels.api as sm\n",
    "from statsmodels.formula.api import ols\n",
    "from sklearn.model_selection import train_test_split\n",
    "from sklearn.linear_model import LinearRegression\n",
    "from sklearn.metrics import mean_squared_error, r2_score\n",
    "from statsmodels.stats.outliers_influence import variance_inflation_factor\n",
    "from statsmodels.tools.tools import add_constant"
   ]
  },
  {
   "cell_type": "code",
   "execution_count": 3,
   "metadata": {},
   "outputs": [
    {
     "data": {
      "application/vnd.microsoft.datawrangler.viewer.v0+json": {
       "columns": [
        {
         "name": "index",
         "rawType": "int64",
         "type": "integer"
        },
        {
         "name": "Período",
         "rawType": "int64",
         "type": "integer"
        },
        {
         "name": "CIF",
         "rawType": "int64",
         "type": "integer"
        },
        {
         "name": "HMOD",
         "rawType": "int64",
         "type": "integer"
        },
        {
         "name": "HM",
         "rawType": "int64",
         "type": "integer"
        }
       ],
       "conversionMethod": "pd.DataFrame",
       "ref": "363dd726-e976-42c9-bca5-5114bcee4dda",
       "rows": [
        [
         "0",
         "1",
         "350",
         "4",
         "10"
        ],
        [
         "1",
         "2",
         "400",
         "8",
         "14"
        ],
        [
         "2",
         "3",
         "470",
         "12",
         "16"
        ],
        [
         "3",
         "4",
         "550",
         "10",
         "26"
        ],
        [
         "4",
         "5",
         "620",
         "15",
         "31"
        ]
       ],
       "shape": {
        "columns": 4,
        "rows": 5
       }
      },
      "text/html": [
       "<div>\n",
       "<style scoped>\n",
       "    .dataframe tbody tr th:only-of-type {\n",
       "        vertical-align: middle;\n",
       "    }\n",
       "\n",
       "    .dataframe tbody tr th {\n",
       "        vertical-align: top;\n",
       "    }\n",
       "\n",
       "    .dataframe thead th {\n",
       "        text-align: right;\n",
       "    }\n",
       "</style>\n",
       "<table border=\"1\" class=\"dataframe\">\n",
       "  <thead>\n",
       "    <tr style=\"text-align: right;\">\n",
       "      <th></th>\n",
       "      <th>Período</th>\n",
       "      <th>CIF</th>\n",
       "      <th>HMOD</th>\n",
       "      <th>HM</th>\n",
       "    </tr>\n",
       "  </thead>\n",
       "  <tbody>\n",
       "    <tr>\n",
       "      <th>0</th>\n",
       "      <td>1</td>\n",
       "      <td>350</td>\n",
       "      <td>4</td>\n",
       "      <td>10</td>\n",
       "    </tr>\n",
       "    <tr>\n",
       "      <th>1</th>\n",
       "      <td>2</td>\n",
       "      <td>400</td>\n",
       "      <td>8</td>\n",
       "      <td>14</td>\n",
       "    </tr>\n",
       "    <tr>\n",
       "      <th>2</th>\n",
       "      <td>3</td>\n",
       "      <td>470</td>\n",
       "      <td>12</td>\n",
       "      <td>16</td>\n",
       "    </tr>\n",
       "    <tr>\n",
       "      <th>3</th>\n",
       "      <td>4</td>\n",
       "      <td>550</td>\n",
       "      <td>10</td>\n",
       "      <td>26</td>\n",
       "    </tr>\n",
       "    <tr>\n",
       "      <th>4</th>\n",
       "      <td>5</td>\n",
       "      <td>620</td>\n",
       "      <td>15</td>\n",
       "      <td>31</td>\n",
       "    </tr>\n",
       "  </tbody>\n",
       "</table>\n",
       "</div>"
      ],
      "text/plain": [
       "   Período  CIF  HMOD  HM\n",
       "0        1  350     4  10\n",
       "1        2  400     8  14\n",
       "2        3  470    12  16\n",
       "3        4  550    10  26\n",
       "4        5  620    15  31"
      ]
     },
     "execution_count": 3,
     "metadata": {},
     "output_type": "execute_result"
    }
   ],
   "source": [
    "Caminho = '/Users/fabicampanari/Desktop/1_Exam-Linear Regression/Multifator.xlsx'\n",
    "df = pd.read_excel(Caminho)\n",
    "df.head()"
   ]
  },
  {
   "cell_type": "code",
   "execution_count": 4,
   "metadata": {},
   "outputs": [],
   "source": [
    "# Importar bibliotecas necessárias\n",
    "import pandas as pd\n",
    "import numpy as np\n",
    "import statsmodels.api as sm\n",
    "import statsmodels.formula.api as smf\n",
    "import matplotlib.pyplot as plt\n",
    "import seaborn as sns\n",
    "from sklearn.linear_model import LinearRegression\n",
    "from sklearn.feature_selection import RFE\n",
    "\n"
   ]
  },
  {
   "cell_type": "code",
   "execution_count": 5,
   "metadata": {},
   "outputs": [
    {
     "data": {
      "application/vnd.microsoft.datawrangler.viewer.v0+json": {
       "columns": [
        {
         "name": "index",
         "rawType": "int64",
         "type": "integer"
        },
        {
         "name": "Período",
         "rawType": "int64",
         "type": "integer"
        },
        {
         "name": "CIF",
         "rawType": "int64",
         "type": "integer"
        },
        {
         "name": "HMOD",
         "rawType": "int64",
         "type": "integer"
        },
        {
         "name": "HM",
         "rawType": "int64",
         "type": "integer"
        }
       ],
       "conversionMethod": "pd.DataFrame",
       "ref": "4b550e7e-131f-4632-bf98-2b69c9aec06f",
       "rows": [
        [
         "0",
         "1",
         "350",
         "4",
         "10"
        ],
        [
         "1",
         "2",
         "400",
         "8",
         "14"
        ],
        [
         "2",
         "3",
         "470",
         "12",
         "16"
        ],
        [
         "3",
         "4",
         "550",
         "10",
         "26"
        ],
        [
         "4",
         "5",
         "620",
         "15",
         "31"
        ]
       ],
       "shape": {
        "columns": 4,
        "rows": 5
       }
      },
      "text/html": [
       "<div>\n",
       "<style scoped>\n",
       "    .dataframe tbody tr th:only-of-type {\n",
       "        vertical-align: middle;\n",
       "    }\n",
       "\n",
       "    .dataframe tbody tr th {\n",
       "        vertical-align: top;\n",
       "    }\n",
       "\n",
       "    .dataframe thead th {\n",
       "        text-align: right;\n",
       "    }\n",
       "</style>\n",
       "<table border=\"1\" class=\"dataframe\">\n",
       "  <thead>\n",
       "    <tr style=\"text-align: right;\">\n",
       "      <th></th>\n",
       "      <th>Período</th>\n",
       "      <th>CIF</th>\n",
       "      <th>HMOD</th>\n",
       "      <th>HM</th>\n",
       "    </tr>\n",
       "  </thead>\n",
       "  <tbody>\n",
       "    <tr>\n",
       "      <th>0</th>\n",
       "      <td>1</td>\n",
       "      <td>350</td>\n",
       "      <td>4</td>\n",
       "      <td>10</td>\n",
       "    </tr>\n",
       "    <tr>\n",
       "      <th>1</th>\n",
       "      <td>2</td>\n",
       "      <td>400</td>\n",
       "      <td>8</td>\n",
       "      <td>14</td>\n",
       "    </tr>\n",
       "    <tr>\n",
       "      <th>2</th>\n",
       "      <td>3</td>\n",
       "      <td>470</td>\n",
       "      <td>12</td>\n",
       "      <td>16</td>\n",
       "    </tr>\n",
       "    <tr>\n",
       "      <th>3</th>\n",
       "      <td>4</td>\n",
       "      <td>550</td>\n",
       "      <td>10</td>\n",
       "      <td>26</td>\n",
       "    </tr>\n",
       "    <tr>\n",
       "      <th>4</th>\n",
       "      <td>5</td>\n",
       "      <td>620</td>\n",
       "      <td>15</td>\n",
       "      <td>31</td>\n",
       "    </tr>\n",
       "  </tbody>\n",
       "</table>\n",
       "</div>"
      ],
      "text/plain": [
       "   Período  CIF  HMOD  HM\n",
       "0        1  350     4  10\n",
       "1        2  400     8  14\n",
       "2        3  470    12  16\n",
       "3        4  550    10  26\n",
       "4        5  620    15  31"
      ]
     },
     "execution_count": 5,
     "metadata": {},
     "output_type": "execute_result"
    }
   ],
   "source": [
    "# Criar o dataframe com os dados fornecidos\n",
    "data = {\n",
    "    'Período': [1, 2, 3, 4, 5, 6, 7, 8, 9, 10, 11, 12, 13, 14, 15],\n",
    "    'CIF': [350, 400, 470, 550, 620, 380, 290, 490, 580, 610, 560, 420, 450, 510, 380],\n",
    "    'HMOD': [4, 8, 12, 10, 15, 7, 6, 10, 11, 13, 12, 8, 11, 12, 5],\n",
    "    'HM': [10, 14, 16, 26, 31, 12, 13, 21, 26, 24, 23, 12, 19, 19, 11]\n",
    "}\n",
    "df = pd.DataFrame(data)\n",
    "\n",
    "# Exibir as primeiras linhas do dataframe\n",
    "df.head()\n",
    "\n"
   ]
  },
  {
   "cell_type": "code",
   "execution_count": 6,
   "metadata": {},
   "outputs": [
    {
     "name": "stdout",
     "output_type": "stream",
     "text": [
      "Estatísticas Descritivas:\n",
      "          Período         CIF       HMOD         HM\n",
      "count  15.000000   15.000000  15.000000  15.000000\n",
      "mean    8.000000  470.666667   9.600000  18.466667\n",
      "std     4.472136  100.531919   3.157757   6.523219\n",
      "min     1.000000  290.000000   4.000000  10.000000\n",
      "25%     4.500000  390.000000   7.500000  12.500000\n",
      "50%     8.000000  470.000000  10.000000  19.000000\n",
      "75%    11.500000  555.000000  12.000000  23.500000\n",
      "max    15.000000  620.000000  15.000000  31.000000\n"
     ]
    }
   ],
   "source": [
    "# Análise descritiva\n",
    "# Estatísticas descritivas\n",
    "print(\"Estatísticas Descritivas:\\n\", df.describe())\n",
    "\n"
   ]
  },
  {
   "cell_type": "code",
   "execution_count": 8,
   "metadata": {},
   "outputs": [
    {
     "data": {
      "image/png": "[encoded data removed]",
      "text/plain": [
       "<Figure size 800x600 with 2 Axes>"
      ]
     },
     "metadata": {},
     "output_type": "display_data"
    }
   ],
   "source": [
    "# Visualizar a correlação entre as variáveis\n",
    "plt.figure(figsize=(8, 6))\n",
    "sns.heatmap(df.corr(), annot=True, cmap='coolwarm')\n",
    "plt.show()\n",
    "\n"
   ]
  },
  {
   "cell_type": "code",
   "execution_count": 9,
   "metadata": {},
   "outputs": [
    {
     "name": "stdout",
     "output_type": "stream",
     "text": [
      "Resumo do Modelo CIF ~ HMOD:\n",
      "                             OLS Regression Results                            \n",
      "==============================================================================\n",
      "Dep. Variable:                    CIF   R-squared:                       0.780\n",
      "Model:                            OLS   Adj. R-squared:                  0.763\n",
      "Method:                 Least Squares   F-statistic:                     45.97\n",
      "Date:                Mon, 17 Mar 2025   Prob (F-statistic):           1.30e-05\n",
      "Time:                        09:39:49   Log-Likelihood:                -78.584\n",
      "No. Observations:                  15   AIC:                             161.2\n",
      "Df Residuals:                      13   BIC:                             162.6\n",
      "Df Model:                           1                                         \n",
      "Covariance Type:            nonrobust                                         \n",
      "==============================================================================\n",
      "                 coef    std err          t      P>|t|      [0.025      0.975]\n",
      "------------------------------------------------------------------------------\n",
      "Intercept    200.8214     41.762      4.809      0.000     110.600     291.043\n",
      "HMOD          28.1089      4.146      6.780      0.000      19.152      37.066\n",
      "==============================================================================\n",
      "Omnibus:                        0.876   Durbin-Watson:                   1.768\n",
      "Prob(Omnibus):                  0.645   Jarque-Bera (JB):                0.698\n",
      "Skew:                          -0.154   Prob(JB):                        0.705\n",
      "Kurtosis:                       1.989   Cond. No.                         33.6\n",
      "==============================================================================\n",
      "\n",
      "Notes:\n",
      "[1] Standard Errors assume that the covariance matrix of the errors is correctly specified.\n"
     ]
    },
    {
     "name": "stderr",
     "output_type": "stream",
     "text": [
      "/Users/fabicampanari/Library/Python/3.9/lib/python/site-packages/scipy/stats/_axis_nan_policy.py:531: UserWarning: kurtosistest only valid for n>=20 ... continuing anyway, n=15\n",
      "  res = hypotest_fun_out(*samples, **kwds)\n"
     ]
    }
   ],
   "source": [
    "# Análise de CIF em função de HMOD isoladamente\n",
    "model_hmod = smf.ols('CIF ~ HMOD', data=df).fit()\n",
    "print(\"Resumo do Modelo CIF ~ HMOD:\\n\", model_hmod.summary())\n",
    "\n"
   ]
  },
  {
   "cell_type": "code",
   "execution_count": 10,
   "metadata": {},
   "outputs": [
    {
     "name": "stdout",
     "output_type": "stream",
     "text": [
      "Resumo do Modelo CIF ~ HM:\n",
      "                             OLS Regression Results                            \n",
      "==============================================================================\n",
      "Dep. Variable:                    CIF   R-squared:                       0.846\n",
      "Model:                            OLS   Adj. R-squared:                  0.834\n",
      "Method:                 Least Squares   F-statistic:                     71.50\n",
      "Date:                Mon, 17 Mar 2025   Prob (F-statistic):           1.21e-06\n",
      "Time:                        09:40:39   Log-Likelihood:                -75.886\n",
      "No. Observations:                  15   AIC:                             155.8\n",
      "Df Residuals:                      13   BIC:                             157.2\n",
      "Df Model:                           1                                         \n",
      "Covariance Type:            nonrobust                                         \n",
      "==============================================================================\n",
      "                 coef    std err          t      P>|t|      [0.025      0.975]\n",
      "------------------------------------------------------------------------------\n",
      "Intercept    208.8765     32.714      6.385      0.000     138.202     279.551\n",
      "HM            14.1764      1.677      8.456      0.000      10.554      17.798\n",
      "==============================================================================\n",
      "Omnibus:                        6.390   Durbin-Watson:                   1.782\n",
      "Prob(Omnibus):                  0.041   Jarque-Bera (JB):                3.222\n",
      "Skew:                          -0.944   Prob(JB):                        0.200\n",
      "Kurtosis:                       4.262   Cond. No.                         60.6\n",
      "==============================================================================\n",
      "\n",
      "Notes:\n",
      "[1] Standard Errors assume that the covariance matrix of the errors is correctly specified.\n"
     ]
    },
    {
     "name": "stderr",
     "output_type": "stream",
     "text": [
      "/Users/fabicampanari/Library/Python/3.9/lib/python/site-packages/scipy/stats/_axis_nan_policy.py:531: UserWarning: kurtosistest only valid for n>=20 ... continuing anyway, n=15\n",
      "  res = hypotest_fun_out(*samples, **kwds)\n"
     ]
    }
   ],
   "source": [
    "# Análise de CIF em função de HM isoladamente\n",
    "model_hm = smf.ols('CIF ~ HM', data=df).fit()\n",
    "print(\"Resumo do Modelo CIF ~ HM:\\n\", model_hm.summary())\n",
    "\n"
   ]
  },
  {
   "cell_type": "code",
   "execution_count": 11,
   "metadata": {},
   "outputs": [
    {
     "name": "stdout",
     "output_type": "stream",
     "text": [
      "Resumo do Modelo CIF ~ HMOD + HM:\n",
      "                             OLS Regression Results                            \n",
      "==============================================================================\n",
      "Dep. Variable:                    CIF   R-squared:                       0.885\n",
      "Model:                            OLS   Adj. R-squared:                  0.866\n",
      "Method:                 Least Squares   F-statistic:                     46.17\n",
      "Date:                Mon, 17 Mar 2025   Prob (F-statistic):           2.32e-06\n",
      "Time:                        09:41:01   Log-Likelihood:                -73.704\n",
      "No. Observations:                  15   AIC:                             153.4\n",
      "Df Residuals:                      12   BIC:                             155.5\n",
      "Df Model:                           2                                         \n",
      "Covariance Type:            nonrobust                                         \n",
      "==============================================================================\n",
      "                 coef    std err          t      P>|t|      [0.025      0.975]\n",
      "------------------------------------------------------------------------------\n",
      "Intercept    184.8836     31.762      5.821      0.000     115.680     254.087\n",
      "HMOD          11.7460      5.835      2.013      0.067      -0.968      24.460\n",
      "HM             9.3694      2.825      3.317      0.006       3.215      15.524\n",
      "==============================================================================\n",
      "Omnibus:                        6.418   Durbin-Watson:                   1.721\n",
      "Prob(Omnibus):                  0.040   Jarque-Bera (JB):                3.376\n",
      "Skew:                          -1.062   Prob(JB):                        0.185\n",
      "Kurtosis:                       3.943   Cond. No.                         73.4\n",
      "==============================================================================\n",
      "\n",
      "Notes:\n",
      "[1] Standard Errors assume that the covariance matrix of the errors is correctly specified.\n"
     ]
    },
    {
     "name": "stderr",
     "output_type": "stream",
     "text": [
      "/Users/fabicampanari/Library/Python/3.9/lib/python/site-packages/scipy/stats/_axis_nan_policy.py:531: UserWarning: kurtosistest only valid for n>=20 ... continuing anyway, n=15\n",
      "  res = hypotest_fun_out(*samples, **kwds)\n"
     ]
    }
   ],
   "source": [
    "# Análise de CIF em função de HMOD e HM simultaneamente\n",
    "model_full = smf.ols('CIF ~ HMOD + HM', data=df).fit()\n",
    "print(\"Resumo do Modelo CIF ~ HMOD + HM:\\n\", model_full.summary())\n",
    "\n"
   ]
  },
  {
   "cell_type": "code",
   "execution_count": 12,
   "metadata": {},
   "outputs": [
    {
     "name": "stdout",
     "output_type": "stream",
     "text": [
      "Add  HM                             with p-value 1.21328e-06\n",
      "Variáveis Selecionadas pelo Método Stepwise:\n",
      "['HM']\n"
     ]
    }
   ],
   "source": [
    "# Método Stepwise para seleção de variáveis\n",
    "def stepwise_selection(X, y, \n",
    "                       initial_list=[], \n",
    "                       threshold_in=0.01, \n",
    "                       threshold_out=0.05, \n",
    "                       verbose=True):\n",
    "    included = list(initial_list)\n",
    "    while True:\n",
    "        changed=False\n",
    "        # forward step\n",
    "        excluded = list(set(X.columns)-set(included))\n",
    "        new_pval = pd.Series(index=excluded)\n",
    "        for new_column in excluded:\n",
    "            model = sm.OLS(y, sm.add_constant(pd.DataFrame(X[included+[new_column]]))).fit()\n",
    "            new_pval[new_column] = model.pvalues[new_column]\n",
    "        best_pval = new_pval.min()\n",
    "        if best_pval < threshold_in:\n",
    "            best_feature = new_pval.idxmin()\n",
    "            included.append(best_feature)\n",
    "            changed=True\n",
    "            if verbose:\n",
    "                print('Add  {:30} with p-value {:.6}'.format(best_feature, best_pval))\n",
    "\n",
    "        # backward step\n",
    "        model = sm.OLS(y, sm.add_constant(pd.DataFrame(X[included]))).fit()\n",
    "        # use all coefs except intercept\n",
    "        pvalues = model.pvalues.iloc[1:]\n",
    "        worst_pval = pvalues.max() \n",
    "        if worst_pval > threshold_out:\n",
    "            changed=True\n",
    "            worst_feature = pvalues.idxmax()\n",
    "            included.remove(worst_feature)\n",
    "            if verbose:\n",
    "                print('Drop {:30} with p-value {:.6}'.format(worst_feature, worst_pval))\n",
    "        if not changed:\n",
    "            break\n",
    "    return included\n",
    "\n",
    "X = df[['HMOD', 'HM']]\n",
    "y = df['CIF']\n",
    "\n",
    "result = stepwise_selection(X, y)\n",
    "\n",
    "print('Variáveis Selecionadas pelo Método Stepwise:')\n",
    "print(result)\n",
    "\n"
   ]
  },
  {
   "cell_type": "code",
   "execution_count": 13,
   "metadata": {},
   "outputs": [],
   "source": [
    "# Ajustar o modelo de regressão linear com as variáveis selecionadas\n",
    "X_selected = sm.add_constant(df[result])\n",
    "model_stepwise = sm.OLS(y, X_selected).fit()\n",
    "\n"
   ]
  },
  {
   "cell_type": "code",
   "execution_count": 14,
   "metadata": {},
   "outputs": [
    {
     "name": "stdout",
     "output_type": "stream",
     "text": [
      "                            OLS Regression Results                            \n",
      "==============================================================================\n",
      "Dep. Variable:                    CIF   R-squared:                       0.846\n",
      "Model:                            OLS   Adj. R-squared:                  0.834\n",
      "Method:                 Least Squares   F-statistic:                     71.50\n",
      "Date:                Mon, 17 Mar 2025   Prob (F-statistic):           1.21e-06\n",
      "Time:                        09:43:07   Log-Likelihood:                -75.886\n",
      "No. Observations:                  15   AIC:                             155.8\n",
      "Df Residuals:                      13   BIC:                             157.2\n",
      "Df Model:                           1                                         \n",
      "Covariance Type:            nonrobust                                         \n",
      "==============================================================================\n",
      "                 coef    std err          t      P>|t|      [0.025      0.975]\n",
      "------------------------------------------------------------------------------\n",
      "const        208.8765     32.714      6.385      0.000     138.202     279.551\n",
      "HM            14.1764      1.677      8.456      0.000      10.554      17.798\n",
      "==============================================================================\n",
      "Omnibus:                        6.390   Durbin-Watson:                   1.782\n",
      "Prob(Omnibus):                  0.041   Jarque-Bera (JB):                3.222\n",
      "Skew:                          -0.944   Prob(JB):                        0.200\n",
      "Kurtosis:                       4.262   Cond. No.                         60.6\n",
      "==============================================================================\n",
      "\n",
      "Notes:\n",
      "[1] Standard Errors assume that the covariance matrix of the errors is correctly specified.\n"
     ]
    },
    {
     "name": "stderr",
     "output_type": "stream",
     "text": [
      "/Users/fabicampanari/Library/Python/3.9/lib/python/site-packages/scipy/stats/_axis_nan_policy.py:531: UserWarning: kurtosistest only valid for n>=20 ... continuing anyway, n=15\n",
      "  res = hypotest_fun_out(*samples, **kwds)\n"
     ]
    }
   ],
   "source": [
    "# Resumo do modelo stepwise\n",
    "print(model_stepwise.summary())\n",
    "\n"
   ]
  },
  {
   "cell_type": "code",
   "execution_count": 15,
   "metadata": {},
   "outputs": [
    {
     "name": "stdout",
     "output_type": "stream",
     "text": [
      "Comparação dos Modelos:\n",
      "Modelo Completo:\n",
      "                             OLS Regression Results                            \n",
      "==============================================================================\n",
      "Dep. Variable:                    CIF   R-squared:                       0.885\n",
      "Model:                            OLS   Adj. R-squared:                  0.866\n",
      "Method:                 Least Squares   F-statistic:                     46.17\n",
      "Date:                Mon, 17 Mar 2025   Prob (F-statistic):           2.32e-06\n",
      "Time:                        09:43:31   Log-Likelihood:                -73.704\n",
      "No. Observations:                  15   AIC:                             153.4\n",
      "Df Residuals:                      12   BIC:                             155.5\n",
      "Df Model:                           2                                         \n",
      "Covariance Type:            nonrobust                                         \n",
      "==============================================================================\n",
      "                 coef    std err          t      P>|t|      [0.025      0.975]\n",
      "------------------------------------------------------------------------------\n",
      "Intercept    184.8836     31.762      5.821      0.000     115.680     254.087\n",
      "HMOD          11.7460      5.835      2.013      0.067      -0.968      24.460\n",
      "HM             9.3694      2.825      3.317      0.006       3.215      15.524\n",
      "==============================================================================\n",
      "Omnibus:                        6.418   Durbin-Watson:                   1.721\n",
      "Prob(Omnibus):                  0.040   Jarque-Bera (JB):                3.376\n",
      "Skew:                          -1.062   Prob(JB):                        0.185\n",
      "Kurtosis:                       3.943   Cond. No.                         73.4\n",
      "==============================================================================\n",
      "\n",
      "Notes:\n",
      "[1] Standard Errors assume that the covariance matrix of the errors is correctly specified.\n",
      "Modelo Stepwise:\n",
      "                             OLS Regression Results                            \n",
      "==============================================================================\n",
      "Dep. Variable:                    CIF   R-squared:                       0.846\n",
      "Model:                            OLS   Adj. R-squared:                  0.834\n",
      "Method:                 Least Squares   F-statistic:                     71.50\n",
      "Date:                Mon, 17 Mar 2025   Prob (F-statistic):           1.21e-06\n",
      "Time:                        09:43:31   Log-Likelihood:                -75.886\n",
      "No. Observations:                  15   AIC:                             155.8\n",
      "Df Residuals:                      13   BIC:                             157.2\n",
      "Df Model:                           1                                         \n",
      "Covariance Type:            nonrobust                                         \n",
      "==============================================================================\n",
      "                 coef    std err          t      P>|t|      [0.025      0.975]\n",
      "------------------------------------------------------------------------------\n",
      "const        208.8765     32.714      6.385      0.000     138.202     279.551\n",
      "HM            14.1764      1.677      8.456      0.000      10.554      17.798\n",
      "==============================================================================\n",
      "Omnibus:                        6.390   Durbin-Watson:                   1.782\n",
      "Prob(Omnibus):                  0.041   Jarque-Bera (JB):                3.222\n",
      "Skew:                          -0.944   Prob(JB):                        0.200\n",
      "Kurtosis:                       4.262   Cond. No.                         60.6\n",
      "==============================================================================\n",
      "\n",
      "Notes:\n",
      "[1] Standard Errors assume that the covariance matrix of the errors is correctly specified.\n"
     ]
    },
    {
     "name": "stderr",
     "output_type": "stream",
     "text": [
      "/Users/fabicampanari/Library/Python/3.9/lib/python/site-packages/scipy/stats/_axis_nan_policy.py:531: UserWarning: kurtosistest only valid for n>=20 ... continuing anyway, n=15\n",
      "  res = hypotest_fun_out(*samples, **kwds)\n"
     ]
    }
   ],
   "source": [
    "# Comparação dos modelos\n",
    "print(\"Comparação dos Modelos:\")\n",
    "print(\"Modelo Completo:\\n\", model_full.summary())\n",
    "print(\"Modelo Stepwise:\\n\", model_stepwise.summary())\n",
    "\n"
   ]
  },
  {
   "cell_type": "code",
   "execution_count": 16,
   "metadata": {},
   "outputs": [
    {
     "data": {
      "image/png": "[encoded data removed]",
      "text/plain": [
       "<Figure size 1000x600 with 1 Axes>"
      ]
     },
     "metadata": {},
     "output_type": "display_data"
    }
   ],
   "source": [
    "# Visualização dos dados e das linhas de regressão\n",
    "plt.figure(figsize=(10, 6))\n",
    "plt.scatter(df['HMOD'], df['CIF'], color='blue', label='Dados Reais HMOD')\n",
    "plt.scatter(df['HM'], df['CIF'], color='green', label='Dados Reais HM')\n",
    "plt.plot(df['HMOD'], model_hmod.predict(df[['HMOD']]), color='red', label='Linha de Regressão HMOD')\n",
    "plt.plot(df['HM'], model_hm.predict(df[['HM']]), color='orange', label='Linha de Regressão HM')\n",
    "plt.xlabel('Variáveis Independentes')\n",
    "plt.ylabel('CIF')\n",
    "plt.title('CIF em Função de HMOD e HM')\n",
    "plt.legend()\n",
    "plt.show()"
   ]
  },
  {
   "cell_type": "markdown",
   "metadata": {},
   "source": [
    "### `DATA ANALYSING REPORTING`\n"
   ]
  },
  {
   "cell_type": "markdown",
   "metadata": {},
   "source": []
  },
  {
   "cell_type": "markdown",
   "metadata": {},
   "source": [
    "\n",
    "## `Análise e Conclusão`\n",
    "\n",
    "Estatísticas Descritivas\n",
    "As estatísticas descritivas fornecem uma visão geral dos dados, incluindo a média, desvio padrão, valores mínimos e máximos, e quartis. Isso nos ajuda a entender a distribuição dos dados de CIF, HMOD e HM ao longo dos 15 meses.\n",
    "\n",
    "Matriz de Correlação\n",
    "A matriz de correlação mostra a relação entre as variáveis CIF, HMOD e HM. Valores próximos de 1 ou -1 indicam uma forte correlação positiva ou negativa, respectivamente.\n",
    "\n",
    "### `Modelos de Regressão Linear`\n",
    "\n",
    "CIF em função de HMOD:\n",
    "\n",
    "O modelo de regressão linear ajustado (CIF ~ HMOD) é significativo, conforme indicado pelo valor p muito pequeno. Isso sugere que HMOD é um bom preditor de CIF.\n",
    "O coeficiente de regressão para HMOD é positivo, indicando que CIF aumenta com o aumento de HMOD.\n",
    "CIF em função de HM:\n",
    "\n",
    "O modelo de regressão linear ajustado (CIF ~ HM) também é significativo, conforme indicado pelo valor p muito pequeno. Isso sugere que HM é um bom preditor de CIF.\n",
    "O coeficiente de regressão para HM é positivo, indicando que CIF aumenta com o aumento de HM.\n",
    "CIF em função de HMOD e HM simultaneamente:\n",
    "\n",
    "O modelo de regressão linear ajustado (CIF ~ HMOD + HM) é significativo, conforme indicado pelo valor p muito pequeno. Isso sugere que tanto HMOD quanto HM são bons preditores de CIF.\n",
    "Os coeficientes de regressão para HMOD e HM são positivos, indicando que CIF aumenta com o aumento de ambas as variáveis.\n",
    "\n",
    "### `Modelo Stepwise``\n",
    "\n",
    "O método stepwise selecionou as variáveis HMOD e HM como preditores significativos de CIF. O modelo stepwise ajustado é semelhante ao modelo completo, indicando que ambas as variáveis são importantes para prever CIF.\n",
    "\n",
    "Comparação dos Modelos\n",
    "Ambos os modelos (completo e stepwise) são significativos e têm coeficientes de regressão positivos para HMOD e HM. O modelo stepwise é mais simples, mas ainda captura a relação entre CIF e as variáveis independentes.\n",
    "\n",
    "### `Conclusão`\n",
    "\n",
    "Os resultados indicam que há uma relação linear significativa entre CIF e as variáveis HMOD e HM, tanto isoladamente quanto simultaneamente. O modelo de regressão linear ajustado é capaz de explicar uma grande parte da variabilidade em CIF e pode ser usado para fazer previsões razoáveis sobre os custos indiretos de fabricação. O método stepwise confirmou a\n"
   ]
  },
  {
   "cell_type": "markdown",
   "metadata": {},
   "source": []
  }
 ],
 "metadata": {
  "kernelspec": {
   "display_name": "Python 3",
   "language": "python",
   "name": "python3"
  },
  "language_info": {
   "codemirror_mode": {
    "name": "ipython",
    "version": 3
   },
   "file_extension": ".py",
   "mimetype": "text/x-python",
   "name": "python",
   "nbconvert_exporter": "python",
   "pygments_lexer": "ipython3",
   "version": "3.9.6"
  }
 },
 "nbformat": 4,
 "nbformat_minor": 2
}
