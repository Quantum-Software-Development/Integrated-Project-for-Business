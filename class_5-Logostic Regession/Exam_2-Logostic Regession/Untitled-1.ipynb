{
 "cells": [
  {
   "cell_type": "markdown",
   "metadata": {},
   "source": [
    "# Import Required Libraries\n",
    "Import the necessary libraries, such as NumPy, for mathematical calculations."
   ]
  },
  {
   "cell_type": "code",
   "execution_count": 14,
   "metadata": {},
   "outputs": [
    {
     "name": "stdout",
     "output_type": "stream",
     "text": [
      "Requirement already satisfied: numpy in /Users/fabicampanari/Desktop/Regressão Logística/.venv/lib/python3.9/site-packages (2.0.2)\n",
      "Note: you may need to restart the kernel to use updated packages.\n"
     ]
    }
   ],
   "source": [
    "%pip install numpy"
   ]
  },
  {
   "cell_type": "code",
   "execution_count": 15,
   "metadata": {},
   "outputs": [],
   "source": [
    "import numpy as np  # Import NumPy for mathematical calculations"
   ]
  },
  {
   "cell_type": "markdown",
   "metadata": {},
   "source": [
    "# Define the Logistic Function\n",
    "Define a Python function to compute the logistic function: P = 1 / (1 + exp(-Z))."
   ]
  },
  {
   "cell_type": "code",
   "execution_count": 16,
   "metadata": {},
   "outputs": [],
   "source": [
    "def logistic_function(z):\n",
    "    \"\"\"\n",
    "    Compute the logistic function for a given Z value.\n",
    "    \n",
    "    Parameters:\n",
    "        z (float or np.ndarray): The input value(s) for which to compute the logistic function.\n",
    "        \n",
    "    Returns:\n",
    "        float or np.ndarray: The computed logistic function value(s).\n",
    "    \"\"\"\n",
    "    return 1 / (1 + np.exp(-z))  # Logistic function formula"
   ]
  },
  {
   "cell_type": "markdown",
   "metadata": {},
   "source": [
    "# Calculate Probabilities for Given Z Values\n",
    "Use the logistic function to calculate probabilities for Z values: 0.5, 1, 0.1, and 2."
   ]
  },
  {
   "cell_type": "code",
   "execution_count": 17,
   "metadata": {},
   "outputs": [
    {
     "name": "stdout",
     "output_type": "stream",
     "text": [
      "Z = 0.5, Probability = 0.6225\n",
      "Z = 1, Probability = 0.7311\n",
      "Z = 0.1, Probability = 0.5250\n",
      "Z = 2, Probability = 0.8808\n"
     ]
    }
   ],
   "source": [
    "# Code for the section: Calculate Probabilities for Given Z Values\n",
    "\n",
    "# Define the Z values for which probabilities need to be calculated\n",
    "z_values = [0.5, 1, 0.1, 2]\n",
    "\n",
    "# Calculate probabilities using the logistic function\n",
    "probabilities = [logistic_function(z) for z in z_values]\n",
    "\n",
    "# Display the results\n",
    "for z, prob in zip(z_values, probabilities):\n",
    "    print(f\"Z = {z}, Probability = {prob:.4f}\")"
   ]
  },
  {
   "cell_type": "markdown",
   "metadata": {},
   "source": [
    "# Display Results\n",
    "Print the calculated probabilities for each Z value in a readable format."
   ]
  },
  {
   "cell_type": "code",
   "execution_count": 18,
   "metadata": {},
   "outputs": [
    {
     "name": "stdout",
     "output_type": "stream",
     "text": [
      "For Z = 0.5, the estimated probability is 0.6225\n",
      "For Z = 1, the estimated probability is 0.7311\n",
      "For Z = 0.1, the estimated probability is 0.5250\n",
      "For Z = 2, the estimated probability is 0.8808\n"
     ]
    }
   ],
   "source": [
    "for z, prob in zip(z_values, probabilities):\n",
    "    print(f\"For Z = {z}, the estimated probability is {prob:.4f}\")"
   ]
  }
 ],
 "metadata": {
  "kernelspec": {
   "display_name": ".venv",
   "language": "python",
   "name": "python3"
  },
  "language_info": {
   "codemirror_mode": {
    "name": "ipython",
    "version": 3
   },
   "file_extension": ".py",
   "mimetype": "text/x-python",
   "name": "python",
   "nbconvert_exporter": "python",
   "pygments_lexer": "ipython3",
   "version": "3.9.6"
  }
 },
 "nbformat": 4,
 "nbformat_minor": 2
}
