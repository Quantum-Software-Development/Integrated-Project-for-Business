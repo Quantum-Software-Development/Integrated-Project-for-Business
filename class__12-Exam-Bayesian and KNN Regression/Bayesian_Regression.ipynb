{
  "cells": [
    {
      "cell_type": "code",
      "execution_count": null,
      "id": "de931185-92bf-4094-9f55-ae9e9cae93d2",
      "metadata": {
        "id": "de931185-92bf-4094-9f55-ae9e9cae93d2"
      },
      "outputs": [],
      "source": [
        "!pip install tensorflow\n",
        "!pip install tensorflow-probability\n",
        "import numpy as np\n",
        "import pandas as pd\n",
        "import tensorflow as tf\n",
        "import tensorflow_probability as tfp"
      ]
    },
    {
      "cell_type": "code",
      "execution_count": null,
      "id": "e5da3559-c9f8-4129-b68d-5c94675c8fac",
      "metadata": {
        "id": "e5da3559-c9f8-4129-b68d-5c94675c8fac"
      },
      "outputs": [],
      "source": [
        "dados = pd.read_excel('/content/Consumo.xlsx')\n",
        "#Exibe as cinco primeiras linhas\n",
        "dados.head()"
      ]
    },
    {
      "cell_type": "code",
      "execution_count": null,
      "id": "d5578dac-7109-43f4-bd5a-026fb67fc722",
      "metadata": {
        "id": "d5578dac-7109-43f4-bd5a-026fb67fc722"
      },
      "outputs": [],
      "source": [
        "#Normalizando os dados - não é obrigatório mas é uma boa prática\n",
        "from sklearn.preprocessing import StandardScaler\n",
        "normalizador = StandardScaler()\n",
        "\n",
        "dados[['cylinders', 'displacement', 'horsepower','weight', 'acceleration', 'year', \\\n",
        "     'origin']] = normalizador.fit_transform(dados[['cylinders','displacement','horsepower',\\\n",
        "                                                  'weight','acceleration','year', 'origin']])"
      ]
    },
    {
      "cell_type": "code",
      "execution_count": null,
      "id": "42282a88-415b-49a7-b595-4dbfafe9d7cd",
      "metadata": {
        "id": "42282a88-415b-49a7-b595-4dbfafe9d7cd"
      },
      "outputs": [],
      "source": [
        "# Definir as variáveis independentes (X) e a variável dependente (y)\n",
        "X = dados[['cylinders', 'displacement', 'horsepower', 'weight', 'acceleration', 'year', 'origin']]\n",
        "y = dados['mpg']"
      ]
    },
    {
      "cell_type": "code",
      "execution_count": null,
      "id": "767d2a28-b11a-49fd-940b-89c54a32ac14",
      "metadata": {
        "id": "767d2a28-b11a-49fd-940b-89c54a32ac14"
      },
      "outputs": [],
      "source": [
        "# Separa a amostra em treino e teste\n",
        "from sklearn.model_selection import train_test_split\n",
        "X_train, X_test, y_train, y_test = train_test_split(X, y, test_size=0.2, random_state=42)\n",
        "\n",
        "\n",
        "# Garantir que X seja um array NumPy\n",
        "X_test = np.array(X_test)\n",
        "X_train = np.array(X_train)\n",
        "\n",
        "\n"
      ]
    },
    {
      "cell_type": "code",
      "execution_count": null,
      "id": "d8b8ed64-c346-4e42-baa9-6e423f6ad5c3",
      "metadata": {
        "id": "d8b8ed64-c346-4e42-baa9-6e423f6ad5c3"
      },
      "outputs": [],
      "source": [
        "# Modelo de Regressão Bayesiana com TFP\n",
        "def build_bayesian_linear_regression_model(input_shape):\n",
        "    model = tf.keras.Sequential([\n",
        "        tf.keras.layers.Dense(1 + input_shape, activation=None, kernel_initializer='zeros', bias_initializer='zeros'),\n",
        "        tfp.layers.DistributionLambda(lambda t: tfd.Normal(loc=t[..., :1], scale=1e-3 + tf.math.softplus(0.05 * t[..., 1:]))),\n",
        "    ])\n",
        "    return model\n",
        "    ## Função para construir o modelo de regressão linear bayesiana\n",
        "def build_bayesian_linear_regression_model(input_shape):\n",
        "    model = tf.keras.Sequential([\n",
        "        tf.keras.layers.Dense(1, input_shape=(input_shape,), activation=None,\n",
        "                              kernel_initializer='zeros', bias_initializer='zeros'),\n",
        "        tfp.layers.DistributionLambda(lambda t: tfp.distributions.Normal(loc=t, scale=1)),\n",
        "    ])\n",
        "    return model\n",
        "\n",
        "# Construção e compilação do modelo\n",
        "model = build_bayesian_linear_regression_model(X_train.shape[1])\n",
        "model.compile(optimizer=tf.optimizers.Adam(learning_rate=0.01),\n",
        "              loss=lambda y, rv_y: -rv_y.log_prob(y))\n",
        "\n",
        "# Treinamento do modelo\n",
        "history = model.fit(X_train, y_train, epochs=1000, verbose=0)\n",
        "\n",
        "# Previsões\n",
        "y_pred = model.predict(X_test).squeeze()  # Remover dimensão extra, se houver\n",
        "\n",
        "# Previsões\n",
        "y_pred_t = model.predict(X_train).squeeze()  # Remover dimensão extra, se houver"
      ]
    },
    {
      "cell_type": "code",
      "execution_count": null,
      "id": "973112da-b1a8-4b8d-8e52-e4914a9c5ef0",
      "metadata": {
        "id": "973112da-b1a8-4b8d-8e52-e4914a9c5ef0"
      },
      "outputs": [],
      "source": [
        "# Métricas de avaliação\n",
        "from sklearn.metrics import mean_squared_error, mean_absolute_error, r2_score\n",
        "\n",
        "test_mse = mean_squared_error(y_train, y_pred)\n",
        "test_mae = mean_absolute_error(y_train, y_pred)\n",
        "test_r2 = r2_score(y_train, y_pred)\n",
        "\n",
        "print(f'Test Mean Squared Error (MSE): {test_mse}')\n",
        "print(f'Test Mean Absolute Error (MAE): {test_mae}')\n",
        "print(f'Test R^2 Score: {test_r2}')"
      ]
    },
    {
      "cell_type": "code",
      "source": [
        "# Métricas de avaliação\n",
        "from sklearn.metrics import mean_squared_error, mean_absolute_error, r2_score\n",
        "\n",
        "test_mse = mean_squared_error(y_test, y_pred)\n",
        "test_mae = mean_absolute_error(y_test, y_pred)\n",
        "test_r2 = r2_score(y_test, y_pred)\n",
        "\n",
        "print(f'Test Mean Squared Error (MSE): {test_mse}')\n",
        "print(f'Test Mean Absolute Error (MAE): {test_mae}')\n",
        "print(f'Test R^2 Score: {test_r2}')"
      ],
      "metadata": {
        "id": "DfszSNN4wNYV"
      },
      "id": "DfszSNN4wNYV",
      "execution_count": null,
      "outputs": []
    }
  ],
  "metadata": {
    "kernelspec": {
      "display_name": "Python 3 (ipykernel)",
      "language": "python",
      "name": "python3"
    },
    "language_info": {
      "codemirror_mode": {
        "name": "ipython",
        "version": 3
      },
      "file_extension": ".py",
      "mimetype": "text/x-python",
      "name": "python",
      "nbconvert_exporter": "python",
      "pygments_lexer": "ipython3",
      "version": "3.8.18"
    },
    "colab": {
      "provenance": []
    }
  },
  "nbformat": 4,
  "nbformat_minor": 5
}