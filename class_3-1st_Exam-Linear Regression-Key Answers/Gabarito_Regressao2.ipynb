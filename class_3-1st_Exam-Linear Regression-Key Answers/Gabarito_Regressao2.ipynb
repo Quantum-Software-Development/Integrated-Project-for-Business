{
 "cells": [
  {
   "cell_type": "code",
   "execution_count": 1,
   "id": "4e37740d",
   "metadata": {},
   "outputs": [],
   "source": [
    "# importa biblioteca pandas\n",
    "import pandas as pd\n",
    "\n",
    "# importa biblioteca scipy\n",
    "import scipy.stats as stats\n",
    "\n",
    "# local do arquivo\n",
    "Caminho='C:/_Academico/PUC/202401/PROJETO INTEGRADO NEGÓCIOS/Automoveis.xlsx'\n"
   ]
  },
  {
   "cell_type": "code",
   "execution_count": 2,
   "id": "d016b3dd",
   "metadata": {},
   "outputs": [],
   "source": [
    "#Traz o arquivo para o Python\n",
    "df=pd.read_excel(Caminho)\n"
   ]
  },
  {
   "cell_type": "code",
   "execution_count": 3,
   "id": "91049223",
   "metadata": {},
   "outputs": [
    {
     "data": {
      "text/html": [
       "<div>\n",
       "<style scoped>\n",
       "    .dataframe tbody tr th:only-of-type {\n",
       "        vertical-align: middle;\n",
       "    }\n",
       "\n",
       "    .dataframe tbody tr th {\n",
       "        vertical-align: top;\n",
       "    }\n",
       "\n",
       "    .dataframe thead th {\n",
       "        text-align: right;\n",
       "    }\n",
       "</style>\n",
       "<table border=\"1\" class=\"dataframe\">\n",
       "  <thead>\n",
       "    <tr style=\"text-align: right;\">\n",
       "      <th></th>\n",
       "      <th>Produção</th>\n",
       "      <th>Tempo</th>\n",
       "    </tr>\n",
       "  </thead>\n",
       "  <tbody>\n",
       "    <tr>\n",
       "      <th>0</th>\n",
       "      <td>30.5</td>\n",
       "      <td>1</td>\n",
       "    </tr>\n",
       "    <tr>\n",
       "      <th>1</th>\n",
       "      <td>61.0</td>\n",
       "      <td>2</td>\n",
       "    </tr>\n",
       "    <tr>\n",
       "      <th>2</th>\n",
       "      <td>96.1</td>\n",
       "      <td>3</td>\n",
       "    </tr>\n",
       "    <tr>\n",
       "      <th>3</th>\n",
       "      <td>133.0</td>\n",
       "      <td>4</td>\n",
       "    </tr>\n",
       "    <tr>\n",
       "      <th>4</th>\n",
       "      <td>145.6</td>\n",
       "      <td>5</td>\n",
       "    </tr>\n",
       "  </tbody>\n",
       "</table>\n",
       "</div>"
      ],
      "text/plain": [
       "   Produção  Tempo\n",
       "0      30.5      1\n",
       "1      61.0      2\n",
       "2      96.1      3\n",
       "3     133.0      4\n",
       "4     145.6      5"
      ]
     },
     "execution_count": 3,
     "metadata": {},
     "output_type": "execute_result"
    }
   ],
   "source": [
    "#Mostra as cinco primeiras linhas\n",
    "df.head( ) \n"
   ]
  },
  {
   "cell_type": "code",
   "execution_count": 4,
   "id": "2d504283",
   "metadata": {
    "scrolled": true
   },
   "outputs": [
    {
     "data": {
      "text/html": [
       "<div>\n",
       "<style scoped>\n",
       "    .dataframe tbody tr th:only-of-type {\n",
       "        vertical-align: middle;\n",
       "    }\n",
       "\n",
       "    .dataframe tbody tr th {\n",
       "        vertical-align: top;\n",
       "    }\n",
       "\n",
       "    .dataframe thead th {\n",
       "        text-align: right;\n",
       "    }\n",
       "</style>\n",
       "<table border=\"1\" class=\"dataframe\">\n",
       "  <thead>\n",
       "    <tr style=\"text-align: right;\">\n",
       "      <th></th>\n",
       "      <th>Produção</th>\n",
       "      <th>Tempo</th>\n",
       "    </tr>\n",
       "  </thead>\n",
       "  <tbody>\n",
       "    <tr>\n",
       "      <th>Produção</th>\n",
       "      <td>1.000000</td>\n",
       "      <td>0.921612</td>\n",
       "    </tr>\n",
       "    <tr>\n",
       "      <th>Tempo</th>\n",
       "      <td>0.921612</td>\n",
       "      <td>1.000000</td>\n",
       "    </tr>\n",
       "  </tbody>\n",
       "</table>\n",
       "</div>"
      ],
      "text/plain": [
       "          Produção     Tempo\n",
       "Produção  1.000000  0.921612\n",
       "Tempo     0.921612  1.000000"
      ]
     },
     "execution_count": 4,
     "metadata": {},
     "output_type": "execute_result"
    }
   ],
   "source": [
    "#Gera tabela de correlações\n",
    "df.corr( )\n"
   ]
  },
  {
   "cell_type": "code",
   "execution_count": 5,
   "id": "b3095b0c",
   "metadata": {},
   "outputs": [
    {
     "name": "stdout",
     "output_type": "stream",
     "text": [
      "                            OLS Regression Results                            \n",
      "==============================================================================\n",
      "Dep. Variable:               Produção   R-squared:                       0.849\n",
      "Model:                            OLS   Adj. R-squared:                  0.839\n",
      "Method:                 Least Squares   F-statistic:                     84.58\n",
      "Date:                Mon, 01 Apr 2024   Prob (F-statistic):           1.49e-07\n",
      "Time:                        07:24:08   Log-Likelihood:                -97.228\n",
      "No. Observations:                  17   AIC:                             198.5\n",
      "Df Residuals:                      15   BIC:                             200.1\n",
      "Df Model:                           1                                         \n",
      "Covariance Type:            nonrobust                                         \n",
      "==============================================================================\n",
      "                 coef    std err          t      P>|t|      [0.025      0.975]\n",
      "------------------------------------------------------------------------------\n",
      "Intercept    -54.0529     39.816     -1.358      0.195    -138.918      30.812\n",
      "Tempo         35.7353      3.886      9.197      0.000      27.453      44.017\n",
      "==============================================================================\n",
      "Omnibus:                        0.910   Durbin-Watson:                   0.255\n",
      "Prob(Omnibus):                  0.635   Jarque-Bera (JB):                0.526\n",
      "Skew:                           0.417   Prob(JB):                        0.769\n",
      "Kurtosis:                       2.783   Cond. No.                         21.6\n",
      "==============================================================================\n",
      "\n",
      "Notes:\n",
      "[1] Standard Errors assume that the covariance matrix of the errors is correctly specified.\n"
     ]
    },
    {
     "name": "stderr",
     "output_type": "stream",
     "text": [
      "C:\\Users\\ebacc\\anaconda3\\lib\\site-packages\\scipy\\stats\\_stats_py.py:1806: UserWarning: kurtosistest only valid for n>=20 ... continuing anyway, n=17\n",
      "  warnings.warn(\"kurtosistest only valid for n>=20 ... continuing \"\n"
     ]
    }
   ],
   "source": [
    "#Modelo de Regressão\n",
    "from statsmodels.formula.api import ols\n",
    "modelo=ols('Produção ~ Tempo',data=df).fit()\n",
    "\n",
    "# Resumo do modelo\n",
    "print(modelo.summary())\n"
   ]
  },
  {
   "cell_type": "markdown",
   "id": "2bef33e5",
   "metadata": {},
   "source": [
    "R-squared: 0,849 - Bom ajuste\n",
    "    Coeficiente de tempo > 0 relação positiva entre as variáveis\n",
    "    p-valor de tempo <0,05 - variável relevante para o modelo\n",
    "    "
   ]
  },
  {
   "cell_type": "code",
   "execution_count": 12,
   "id": "eae3091b",
   "metadata": {},
   "outputs": [
    {
     "name": "stdout",
     "output_type": "stream",
     "text": [
      "Teste de Shapiro-Wilk para normalidade dos resíduos:\n",
      "Estatística de teste: 0.944674015045166\n",
      "Valor-p: 0.3778810501098633\n"
     ]
    }
   ],
   "source": [
    "\n",
    "# Verificação de Distribuição Normal dos Resíduos\n",
    "# Teste de Shapiro-Wilk para normalidade dos resíduos\n",
    "\n",
    "from scipy.stats import shapiro\n",
    "residuos=modelo.resid\n",
    "stat, p_valor = shapiro(residuos)\n",
    "print('Teste de Shapiro-Wilk para normalidade dos resíduos:')\n",
    "print('Estatística de teste:', stat)\n",
    "print('Valor-p:', p_valor)\n"
   ]
  },
  {
   "cell_type": "markdown",
   "id": "44bd2e16",
   "metadata": {},
   "source": [
    "Aceitamos a hipótese de igualdade dos resíduos p>0,05"
   ]
  },
  {
   "cell_type": "code",
   "execution_count": 10,
   "id": "461b1782",
   "metadata": {},
   "outputs": [
    {
     "name": "stdout",
     "output_type": "stream",
     "text": [
      "Previsão Producao 589.1823529411766\n"
     ]
    }
   ],
   "source": [
    "# PRevisão de Vendas\n",
    "novo_periodo = 18\n",
    "\n",
    "# Criando um DataFrame com os valores de exemplo\n",
    "novos_dados = pd.DataFrame({'Tempo': [novo_periodo]})\n",
    "\n",
    "# Usando o modelo para fazer previsões\n",
    "previsao_produçao = modelo.predict(novos_dados)\n",
    "\n",
    "# Imprimindo a previsão de vendas\n",
    "print(\"Previsão Producao\", previsao_produçao[0])"
   ]
  }
 ],
 "metadata": {
  "kernelspec": {
   "display_name": "Python 3 (ipykernel)",
   "language": "python",
   "name": "python3"
  },
  "language_info": {
   "codemirror_mode": {
    "name": "ipython",
    "version": 3
   },
   "file_extension": ".py",
   "mimetype": "text/x-python",
   "name": "python",
   "nbconvert_exporter": "python",
   "pygments_lexer": "ipython3",
   "version": "3.9.7"
  }
 },
 "nbformat": 4,
 "nbformat_minor": 5
}
