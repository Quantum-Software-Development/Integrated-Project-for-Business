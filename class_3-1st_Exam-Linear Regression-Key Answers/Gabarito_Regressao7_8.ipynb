{
 "cells": [
  {
   "cell_type": "code",
   "execution_count": 13,
   "id": "4e37740d",
   "metadata": {},
   "outputs": [],
   "source": [
    "# importa biblioteca pandas\n",
    "import pandas as pd\n",
    "\n",
    "# importa biblioteca scipy\n",
    "import scipy.stats as stats\n",
    "\n",
    "# local do arquivo\n",
    "Caminho='C:/_Academico/PUC/202401/PROJETO INTEGRADO NEGÓCIOS/Peso_caes.xlsx'\n"
   ]
  },
  {
   "cell_type": "code",
   "execution_count": 18,
   "id": "d016b3dd",
   "metadata": {},
   "outputs": [],
   "source": [
    "#Traz o arquivo para o Python\n",
    "df=pd.read_excel(Caminho)\n"
   ]
  },
  {
   "cell_type": "code",
   "execution_count": 19,
   "id": "91049223",
   "metadata": {},
   "outputs": [
    {
     "data": {
      "text/html": [
       "<div>\n",
       "<style scoped>\n",
       "    .dataframe tbody tr th:only-of-type {\n",
       "        vertical-align: middle;\n",
       "    }\n",
       "\n",
       "    .dataframe tbody tr th {\n",
       "        vertical-align: top;\n",
       "    }\n",
       "\n",
       "    .dataframe thead th {\n",
       "        text-align: right;\n",
       "    }\n",
       "</style>\n",
       "<table border=\"1\" class=\"dataframe\">\n",
       "  <thead>\n",
       "    <tr style=\"text-align: right;\">\n",
       "      <th></th>\n",
       "      <th>Peso</th>\n",
       "      <th>Comprimento</th>\n",
       "    </tr>\n",
       "  </thead>\n",
       "  <tbody>\n",
       "    <tr>\n",
       "      <th>0</th>\n",
       "      <td>14</td>\n",
       "      <td>85</td>\n",
       "    </tr>\n",
       "    <tr>\n",
       "      <th>1</th>\n",
       "      <td>14</td>\n",
       "      <td>90</td>\n",
       "    </tr>\n",
       "    <tr>\n",
       "      <th>2</th>\n",
       "      <td>16</td>\n",
       "      <td>95</td>\n",
       "    </tr>\n",
       "    <tr>\n",
       "      <th>3</th>\n",
       "      <td>17</td>\n",
       "      <td>100</td>\n",
       "    </tr>\n",
       "    <tr>\n",
       "      <th>4</th>\n",
       "      <td>20</td>\n",
       "      <td>95</td>\n",
       "    </tr>\n",
       "  </tbody>\n",
       "</table>\n",
       "</div>"
      ],
      "text/plain": [
       "   Peso  Comprimento\n",
       "0    14           85\n",
       "1    14           90\n",
       "2    16           95\n",
       "3    17          100\n",
       "4    20           95"
      ]
     },
     "execution_count": 19,
     "metadata": {},
     "output_type": "execute_result"
    }
   ],
   "source": [
    "#Mostra as cinco primeiras linhas\n",
    "df.head( ) \n"
   ]
  },
  {
   "cell_type": "code",
   "execution_count": 17,
   "id": "2d504283",
   "metadata": {
    "scrolled": true
   },
   "outputs": [
    {
     "data": {
      "text/html": [
       "<div>\n",
       "<style scoped>\n",
       "    .dataframe tbody tr th:only-of-type {\n",
       "        vertical-align: middle;\n",
       "    }\n",
       "\n",
       "    .dataframe tbody tr th {\n",
       "        vertical-align: top;\n",
       "    }\n",
       "\n",
       "    .dataframe thead th {\n",
       "        text-align: right;\n",
       "    }\n",
       "</style>\n",
       "<table border=\"1\" class=\"dataframe\">\n",
       "  <thead>\n",
       "    <tr style=\"text-align: right;\">\n",
       "      <th></th>\n",
       "      <th>Peso_(Kg)</th>\n",
       "      <th>Comprimento_(cm)</th>\n",
       "    </tr>\n",
       "  </thead>\n",
       "  <tbody>\n",
       "    <tr>\n",
       "      <th>Peso_(Kg)</th>\n",
       "      <td>1.000000</td>\n",
       "      <td>0.847614</td>\n",
       "    </tr>\n",
       "    <tr>\n",
       "      <th>Comprimento_(cm)</th>\n",
       "      <td>0.847614</td>\n",
       "      <td>1.000000</td>\n",
       "    </tr>\n",
       "  </tbody>\n",
       "</table>\n",
       "</div>"
      ],
      "text/plain": [
       "                  Peso_(Kg)  Comprimento_(cm)\n",
       "Peso_(Kg)          1.000000          0.847614\n",
       "Comprimento_(cm)   0.847614          1.000000"
      ]
     },
     "execution_count": 17,
     "metadata": {},
     "output_type": "execute_result"
    }
   ],
   "source": [
    "#Gera tabela de correlações\n",
    "df.corr( )\n"
   ]
  },
  {
   "cell_type": "markdown",
   "id": "49c82552",
   "metadata": {},
   "source": [
    "A CORRELAÇÃO É ALTA E POSITIVA"
   ]
  },
  {
   "cell_type": "code",
   "execution_count": 20,
   "id": "b3095b0c",
   "metadata": {},
   "outputs": [
    {
     "name": "stdout",
     "output_type": "stream",
     "text": [
      "                            OLS Regression Results                            \n",
      "==============================================================================\n",
      "Dep. Variable:                   Peso   R-squared:                       0.718\n",
      "Model:                            OLS   Adj. R-squared:                  0.683\n",
      "Method:                 Least Squares   F-statistic:                     20.41\n",
      "Date:                Mon, 08 Apr 2024   Prob (F-statistic):            0.00195\n",
      "Time:                        09:09:51   Log-Likelihood:                -23.751\n",
      "No. Observations:                  10   AIC:                             51.50\n",
      "Df Residuals:                       8   BIC:                             52.11\n",
      "Df Model:                           1                                         \n",
      "Covariance Type:            nonrobust                                         \n",
      "===============================================================================\n",
      "                  coef    std err          t      P>|t|      [0.025      0.975]\n",
      "-------------------------------------------------------------------------------\n",
      "Intercept     -33.6078     11.989     -2.803      0.023     -61.254      -5.962\n",
      "Comprimento     0.5483      0.121      4.518      0.002       0.268       0.828\n",
      "==============================================================================\n",
      "Omnibus:                        1.027   Durbin-Watson:                   1.857\n",
      "Prob(Omnibus):                  0.598   Jarque-Bera (JB):                0.659\n",
      "Skew:                          -0.160   Prob(JB):                        0.719\n",
      "Kurtosis:                       1.783   Cond. No.                     1.29e+03\n",
      "==============================================================================\n",
      "\n",
      "Notes:\n",
      "[1] Standard Errors assume that the covariance matrix of the errors is correctly specified.\n",
      "[2] The condition number is large, 1.29e+03. This might indicate that there are\n",
      "strong multicollinearity or other numerical problems.\n"
     ]
    },
    {
     "name": "stderr",
     "output_type": "stream",
     "text": [
      "C:\\Users\\ebacc\\anaconda3\\lib\\site-packages\\scipy\\stats\\_stats_py.py:1806: UserWarning: kurtosistest only valid for n>=20 ... continuing anyway, n=10\n",
      "  warnings.warn(\"kurtosistest only valid for n>=20 ... continuing \"\n"
     ]
    }
   ],
   "source": [
    "#Modelo de Regressão\n",
    "from statsmodels.formula.api import ols\n",
    "modelo=ols('Peso~Comprimento',data=df).fit()\n",
    "\n",
    "# Resumo do modelo\n",
    "print(modelo.summary())\n"
   ]
  },
  {
   "cell_type": "code",
   "execution_count": 21,
   "id": "3b259d55",
   "metadata": {},
   "outputs": [
    {
     "name": "stdout",
     "output_type": "stream",
     "text": [
      "Teste de Shapiro-Wilk para normalidade dos resíduos:\n",
      "Estatística de teste: 0.9438753128051758\n",
      "Valor-p: 0.5968831777572632\n"
     ]
    }
   ],
   "source": [
    "# Verificação de Distribuição Normal dos Resíduos\n",
    "# Teste de Shapiro-Wilk para normalidade dos resíduos\n",
    "\n",
    "from scipy.stats import shapiro\n",
    "residuos=modelo.resid\n",
    "stat, p_valor = shapiro(residuos)\n",
    "print('Teste de Shapiro-Wilk para normalidade dos resíduos:')\n",
    "print('Estatística de teste:', stat)\n",
    "print('Valor-p:', p_valor)\n"
   ]
  },
  {
   "cell_type": "markdown",
   "id": "35aa7d7d",
   "metadata": {},
   "source": [
    "Valor p acima de 0.05 aceito a normalidade dos resíduos"
   ]
  }
 ],
 "metadata": {
  "kernelspec": {
   "display_name": "Python 3 (ipykernel)",
   "language": "python",
   "name": "python3"
  },
  "language_info": {
   "codemirror_mode": {
    "name": "ipython",
    "version": 3
   },
   "file_extension": ".py",
   "mimetype": "text/x-python",
   "name": "python",
   "nbconvert_exporter": "python",
   "pygments_lexer": "ipython3",
   "version": "3.9.7"
  }
 },
 "nbformat": 4,
 "nbformat_minor": 5
}
