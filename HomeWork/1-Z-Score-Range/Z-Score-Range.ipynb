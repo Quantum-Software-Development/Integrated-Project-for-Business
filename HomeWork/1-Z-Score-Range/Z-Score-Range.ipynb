{
 "cells": [
  {
   "cell_type": "code",
   "execution_count": 18,
   "metadata": {},
   "outputs": [],
   "source": [
    "# Importing the necessary libraries\n",
    "import pandas as pd\n",
    "import numpy as np\n",
    "from sklearn.preprocessing import MinMaxScaler"
   ]
  },
  {
   "cell_type": "code",
   "execution_count": 19,
   "metadata": {},
   "outputs": [
    {
     "name": "stdout",
     "output_type": "stream",
     "text": [
      "Defaulting to user installation because normal site-packages is not writeable\n",
      "Requirement already satisfied: openpyxl in /Users/fabicampanari/Library/Python/3.9/lib/python/site-packages (3.1.5)\n",
      "Requirement already satisfied: et-xmlfile in /Users/fabicampanari/Library/Python/3.9/lib/python/site-packages (from openpyxl) (2.0.0)\n",
      "\u001b[33mWARNING: You are using pip version 21.2.4; however, version 25.0.1 is available.\n",
      "You should consider upgrading via the '/Library/Developer/CommandLineTools/usr/bin/python3 -m pip install --upgrade pip' command.\u001b[0m\n",
      "Note: you may need to restart the kernel to use updated packages.\n"
     ]
    },
    {
     "data": {
      "application/vnd.microsoft.datawrangler.viewer.v0+json": {
       "columns": [
        {
         "name": "index",
         "rawType": "int64",
         "type": "integer"
        },
        {
         "name": "ID",
         "rawType": "int64",
         "type": "integer"
        },
        {
         "name": "estado_civil",
         "rawType": "object",
         "type": "string"
        },
        {
         "name": "grau_instrucao",
         "rawType": "object",
         "type": "string"
        },
        {
         "name": "n_filhos",
         "rawType": "int64",
         "type": "integer"
        },
        {
         "name": "salario",
         "rawType": "float64",
         "type": "float"
        },
        {
         "name": "idade",
         "rawType": "int64",
         "type": "integer"
        },
        {
         "name": "reg_proc",
         "rawType": "object",
         "type": "string"
        }
       ],
       "conversionMethod": "pd.DataFrame",
       "ref": "904e0f1c-980f-4977-9fa6-bfb93d18bd8b",
       "rows": [
        [
         "0",
         "1",
         "s",
         "f",
         "0",
         "4.0",
         "26",
         "int"
        ],
        [
         "1",
         "2",
         "c",
         "f",
         "1",
         "4.56",
         "32",
         "cap"
        ],
        [
         "2",
         "3",
         "c",
         "f",
         "2",
         "5.25",
         "36",
         "cap"
        ],
        [
         "3",
         "4",
         "s",
         "m",
         "0",
         "5.73",
         "20",
         "out"
        ],
        [
         "4",
         "5",
         "s",
         "f",
         "0",
         "6.26",
         "40",
         "out"
        ]
       ],
       "shape": {
        "columns": 7,
        "rows": 5
       }
      },
      "text/html": [
       "<div>\n",
       "<style scoped>\n",
       "    .dataframe tbody tr th:only-of-type {\n",
       "        vertical-align: middle;\n",
       "    }\n",
       "\n",
       "    .dataframe tbody tr th {\n",
       "        vertical-align: top;\n",
       "    }\n",
       "\n",
       "    .dataframe thead th {\n",
       "        text-align: right;\n",
       "    }\n",
       "</style>\n",
       "<table border=\"1\" class=\"dataframe\">\n",
       "  <thead>\n",
       "    <tr style=\"text-align: right;\">\n",
       "      <th></th>\n",
       "      <th>ID</th>\n",
       "      <th>estado_civil</th>\n",
       "      <th>grau_instrucao</th>\n",
       "      <th>n_filhos</th>\n",
       "      <th>salario</th>\n",
       "      <th>idade</th>\n",
       "      <th>reg_proc</th>\n",
       "    </tr>\n",
       "  </thead>\n",
       "  <tbody>\n",
       "    <tr>\n",
       "      <th>0</th>\n",
       "      <td>1</td>\n",
       "      <td>s</td>\n",
       "      <td>f</td>\n",
       "      <td>0</td>\n",
       "      <td>4.00</td>\n",
       "      <td>26</td>\n",
       "      <td>int</td>\n",
       "    </tr>\n",
       "    <tr>\n",
       "      <th>1</th>\n",
       "      <td>2</td>\n",
       "      <td>c</td>\n",
       "      <td>f</td>\n",
       "      <td>1</td>\n",
       "      <td>4.56</td>\n",
       "      <td>32</td>\n",
       "      <td>cap</td>\n",
       "    </tr>\n",
       "    <tr>\n",
       "      <th>2</th>\n",
       "      <td>3</td>\n",
       "      <td>c</td>\n",
       "      <td>f</td>\n",
       "      <td>2</td>\n",
       "      <td>5.25</td>\n",
       "      <td>36</td>\n",
       "      <td>cap</td>\n",
       "    </tr>\n",
       "    <tr>\n",
       "      <th>3</th>\n",
       "      <td>4</td>\n",
       "      <td>s</td>\n",
       "      <td>m</td>\n",
       "      <td>0</td>\n",
       "      <td>5.73</td>\n",
       "      <td>20</td>\n",
       "      <td>out</td>\n",
       "    </tr>\n",
       "    <tr>\n",
       "      <th>4</th>\n",
       "      <td>5</td>\n",
       "      <td>s</td>\n",
       "      <td>f</td>\n",
       "      <td>0</td>\n",
       "      <td>6.26</td>\n",
       "      <td>40</td>\n",
       "      <td>out</td>\n",
       "    </tr>\n",
       "  </tbody>\n",
       "</table>\n",
       "</div>"
      ],
      "text/plain": [
       "   ID estado_civil grau_instrucao  n_filhos  salario  idade reg_proc\n",
       "0   1            s              f         0     4.00     26      int\n",
       "1   2            c              f         1     4.56     32      cap\n",
       "2   3            c              f         2     5.25     36      cap\n",
       "3   4            s              m         0     5.73     20      out\n",
       "4   5            s              f         0     6.26     40      out"
      ]
     },
     "execution_count": 19,
     "metadata": {},
     "output_type": "execute_result"
    }
   ],
   "source": [
    "# Install openpyxl package\n",
    "%pip install openpyxl\n",
    "\n",
    "# Load the data from the Excel file\n",
    "df = pd.read_excel('cadastro_funcionarios.xlsx')\n",
    "df.head()  # Displaying the first few rows of the dataset to understand its structure\n"
   ]
  },
  {
   "cell_type": "markdown",
   "metadata": {},
   "source": [
    "##### `👇 This cell evaluates and displays the mean, standard deviation, minimum, and maximum for the columns n_filhos, salario, and idade before any standardization is applied.` \n"
   ]
  },
  {
   "cell_type": "code",
   "execution_count": 26,
   "metadata": {},
   "outputs": [
    {
     "data": {
      "text/plain": [
       "{'mean_n_filhos': np.float64(0.9413145539906104),\n",
       " 'std_n_filhos': np.float64(1.2438392782971366),\n",
       " 'min_n_filhos': np.int64(0),\n",
       " 'max_n_filhos': np.int64(5),\n",
       " 'mean_salario': np.float64(11.080657276995307),\n",
       " 'std_salario': np.float64(4.215989065719285),\n",
       " 'min_salario': np.float64(4.0),\n",
       " 'max_salario': np.float64(23.9),\n",
       " 'mean_idade': np.float64(34.62206572769953),\n",
       " 'std_idade': np.float64(6.398189556826327),\n",
       " 'min_idade': np.int64(20),\n",
       " 'max_idade': np.int64(49)}"
      ]
     },
     "execution_count": 26,
     "metadata": {},
     "output_type": "execute_result"
    }
   ],
   "source": [
    "# Step 1: Evaluate the mean, std, max, and min before standardization\n",
    "before_std_stats = {\n",
    "    'mean_n_filhos': df['n_filhos'].mean(),\n",
    "    'std_n_filhos': df['n_filhos'].std(),\n",
    "    'min_n_filhos': df['n_filhos'].min(),\n",
    "    'max_n_filhos': df['n_filhos'].max(),\n",
    "    \n",
    "    'mean_salario': df['salario'].mean(),\n",
    "    'std_salario': df['salario'].std(),\n",
    "    'min_salario': df['salario'].min(),\n",
    "    'max_salario': df['salario'].max(),\n",
    "    \n",
    "    'mean_idade': df['idade'].mean(),\n",
    "    'std_idade': df['idade'].std(),\n",
    "    'min_idade': df['idade'].min(),\n",
    "    'max_idade': df['idade'].max(),\n",
    "}\n",
    "\n",
    "# Display the statistics before standardization\n",
    "before_std_stats\n"
   ]
  },
  {
   "cell_type": "markdown",
   "metadata": {},
   "source": []
  },
  {
   "cell_type": "markdown",
   "metadata": {},
   "source": [
    "##### `👇 Here, the Z-Score standardization is applied to the columns n_filhos, salario, and idade. The formula used for Z-Score is (x - mean) / std. After standardization, the first few rows of the standardized DataFrame are displayed.`"
   ]
  },
  {
   "cell_type": "code",
   "execution_count": 32,
   "metadata": {},
   "outputs": [
    {
     "data": {
      "application/vnd.microsoft.datawrangler.viewer.v0+json": {
       "columns": [
        {
         "name": "index",
         "rawType": "int64",
         "type": "integer"
        },
        {
         "name": "n_filhos",
         "rawType": "float64",
         "type": "float"
        },
        {
         "name": "salario",
         "rawType": "float64",
         "type": "float"
        },
        {
         "name": "idade",
         "rawType": "float64",
         "type": "float"
        }
       ],
       "conversionMethod": "pd.DataFrame",
       "ref": "ceb52057-3d5d-4b47-a8b3-d6e690c81661",
       "rows": [
        [
         "0",
         "-0.7567814993584266",
         "-1.679477144418847",
         "-1.3475789754463454"
        ],
        [
         "1",
         "0.04718089148119863",
         "-1.5466494754494402",
         "-0.4098136987676469"
        ],
        [
         "2",
         "0.8511432823208238",
         "-1.3829868118978497",
         "0.2153631523514855"
        ],
        [
         "3",
         "-0.7567814993584266",
         "-1.2691345242097865",
         "-2.2853442521250438"
        ],
        [
         "4",
         "-0.7567814993584266",
         "-1.1434226232208837",
         "0.8405400034706179"
        ]
       ],
       "shape": {
        "columns": 3,
        "rows": 5
       }
      },
      "text/html": [
       "<div>\n",
       "<style scoped>\n",
       "    .dataframe tbody tr th:only-of-type {\n",
       "        vertical-align: middle;\n",
       "    }\n",
       "\n",
       "    .dataframe tbody tr th {\n",
       "        vertical-align: top;\n",
       "    }\n",
       "\n",
       "    .dataframe thead th {\n",
       "        text-align: right;\n",
       "    }\n",
       "</style>\n",
       "<table border=\"1\" class=\"dataframe\">\n",
       "  <thead>\n",
       "    <tr style=\"text-align: right;\">\n",
       "      <th></th>\n",
       "      <th>n_filhos</th>\n",
       "      <th>salario</th>\n",
       "      <th>idade</th>\n",
       "    </tr>\n",
       "  </thead>\n",
       "  <tbody>\n",
       "    <tr>\n",
       "      <th>0</th>\n",
       "      <td>-0.756781</td>\n",
       "      <td>-1.679477</td>\n",
       "      <td>-1.347579</td>\n",
       "    </tr>\n",
       "    <tr>\n",
       "      <th>1</th>\n",
       "      <td>0.047181</td>\n",
       "      <td>-1.546649</td>\n",
       "      <td>-0.409814</td>\n",
       "    </tr>\n",
       "    <tr>\n",
       "      <th>2</th>\n",
       "      <td>0.851143</td>\n",
       "      <td>-1.382987</td>\n",
       "      <td>0.215363</td>\n",
       "    </tr>\n",
       "    <tr>\n",
       "      <th>3</th>\n",
       "      <td>-0.756781</td>\n",
       "      <td>-1.269135</td>\n",
       "      <td>-2.285344</td>\n",
       "    </tr>\n",
       "    <tr>\n",
       "      <th>4</th>\n",
       "      <td>-0.756781</td>\n",
       "      <td>-1.143423</td>\n",
       "      <td>0.840540</td>\n",
       "    </tr>\n",
       "  </tbody>\n",
       "</table>\n",
       "</div>"
      ],
      "text/plain": [
       "   n_filhos   salario     idade\n",
       "0 -0.756781 -1.679477 -1.347579\n",
       "1  0.047181 -1.546649 -0.409814\n",
       "2  0.851143 -1.382987  0.215363\n",
       "3 -0.756781 -1.269135 -2.285344\n",
       "4 -0.756781 -1.143423  0.840540"
      ]
     },
     "execution_count": 32,
     "metadata": {},
     "output_type": "execute_result"
    }
   ],
   "source": [
    "# Step 2: Z-Score Standardization\n",
    "df_zscore = df[['n_filhos', 'salario', 'idade']].apply(lambda x: (x - x.mean()) / x.std())\n",
    "\n",
    "# Display the standardized data\n",
    "df_zscore.head()\n"
   ]
  },
  {
   "cell_type": "markdown",
   "metadata": {},
   "source": [
    "##### `👇 In this cell, we calculate and display the statistics (mean, standard deviation, min, and max) for the columns n_filhos, salario, and idade after applying Z-Score standardization.`"
   ]
  },
  {
   "cell_type": "code",
   "execution_count": 33,
   "metadata": {},
   "outputs": [
    {
     "data": {
      "text/plain": [
       "{'mean_n_filhos_zscore': np.float64(-6.463270190306075e-17),\n",
       " 'std_n_filhos_zscore': np.float64(1.0),\n",
       " 'min_n_filhos_zscore': np.float64(-0.7567814993584266),\n",
       " 'max_n_filhos_zscore': np.float64(3.2630304548397002),\n",
       " 'mean_salario_zscore': np.float64(-4.6702339439631e-16),\n",
       " 'std_salario_zscore': np.float64(1.0),\n",
       " 'min_salario_zscore': np.float64(-1.679477144418847),\n",
       " 'max_salario_zscore': np.float64(3.0406489493154316),\n",
       " 'mean_idade_zscore': np.float64(3.419278423258698e-16),\n",
       " 'std_idade_zscore': np.float64(1.0),\n",
       " 'min_idade_zscore': np.float64(-2.2853442521250438),\n",
       " 'max_idade_zscore': np.float64(2.247187918488666)}"
      ]
     },
     "execution_count": 33,
     "metadata": {},
     "output_type": "execute_result"
    }
   ],
   "source": [
    "# Step 3: Evaluate the mean, std, max, and min after Z-Score standardization\n",
    "after_zscore_stats = {\n",
    "    'mean_n_filhos_zscore': df_zscore['n_filhos'].mean(),\n",
    "    'std_n_filhos_zscore': df_zscore['n_filhos'].std(),\n",
    "    'min_n_filhos_zscore': df_zscore['n_filhos'].min(),\n",
    "    'max_n_filhos_zscore': df_zscore['n_filhos'].max(),\n",
    "    \n",
    "    'mean_salario_zscore': df_zscore['salario'].mean(),\n",
    "    'std_salario_zscore': df_zscore['salario'].std(),\n",
    "    'min_salario_zscore': df_zscore['salario'].min(),\n",
    "    'max_salario_zscore': df_zscore['salario'].max(),\n",
    "    \n",
    "    'mean_idade_zscore': df_zscore['idade'].mean(),\n",
    "    'std_idade_zscore': df_zscore['idade'].std(),\n",
    "    'min_idade_zscore': df_zscore['idade'].min(),\n",
    "    'max_idade_zscore': df_zscore['idade'].max(),\n",
    "}\n",
    "\n",
    "# Display the statistics after Z-Score standardization\n",
    "after_zscore_stats\n"
   ]
  },
  {
   "cell_type": "markdown",
   "metadata": {},
   "source": [
    "##### `👇 Here, we apply range standardization using Min-Max scaling, which transforms the data to a 0-1 range. The first few rows of the scaled DataFrame are displayed after applying the transformation.`"
   ]
  },
  {
   "cell_type": "code",
   "execution_count": 34,
   "metadata": {},
   "outputs": [
    {
     "data": {
      "application/vnd.microsoft.datawrangler.viewer.v0+json": {
       "columns": [
        {
         "name": "index",
         "rawType": "int64",
         "type": "integer"
        },
        {
         "name": "n_filhos",
         "rawType": "float64",
         "type": "float"
        },
        {
         "name": "salario",
         "rawType": "float64",
         "type": "float"
        },
        {
         "name": "idade",
         "rawType": "float64",
         "type": "float"
        }
       ],
       "conversionMethod": "pd.DataFrame",
       "ref": "beb0c0b6-e339-4b88-8e48-5855c6facb90",
       "rows": [
        [
         "0",
         "0.0",
         "0.0",
         "0.2068965517241379"
        ],
        [
         "1",
         "0.2",
         "0.028140703517587934",
         "0.4137931034482758"
        ],
        [
         "2",
         "0.4",
         "0.06281407035175882",
         "0.5517241379310345"
        ],
        [
         "3",
         "0.0",
         "0.08693467336683422",
         "0.0"
        ],
        [
         "4",
         "0.0",
         "0.11356783919597987",
         "0.6896551724137931"
        ]
       ],
       "shape": {
        "columns": 3,
        "rows": 5
       }
      },
      "text/html": [
       "<div>\n",
       "<style scoped>\n",
       "    .dataframe tbody tr th:only-of-type {\n",
       "        vertical-align: middle;\n",
       "    }\n",
       "\n",
       "    .dataframe tbody tr th {\n",
       "        vertical-align: top;\n",
       "    }\n",
       "\n",
       "    .dataframe thead th {\n",
       "        text-align: right;\n",
       "    }\n",
       "</style>\n",
       "<table border=\"1\" class=\"dataframe\">\n",
       "  <thead>\n",
       "    <tr style=\"text-align: right;\">\n",
       "      <th></th>\n",
       "      <th>n_filhos</th>\n",
       "      <th>salario</th>\n",
       "      <th>idade</th>\n",
       "    </tr>\n",
       "  </thead>\n",
       "  <tbody>\n",
       "    <tr>\n",
       "      <th>0</th>\n",
       "      <td>0.0</td>\n",
       "      <td>0.000000</td>\n",
       "      <td>0.206897</td>\n",
       "    </tr>\n",
       "    <tr>\n",
       "      <th>1</th>\n",
       "      <td>0.2</td>\n",
       "      <td>0.028141</td>\n",
       "      <td>0.413793</td>\n",
       "    </tr>\n",
       "    <tr>\n",
       "      <th>2</th>\n",
       "      <td>0.4</td>\n",
       "      <td>0.062814</td>\n",
       "      <td>0.551724</td>\n",
       "    </tr>\n",
       "    <tr>\n",
       "      <th>3</th>\n",
       "      <td>0.0</td>\n",
       "      <td>0.086935</td>\n",
       "      <td>0.000000</td>\n",
       "    </tr>\n",
       "    <tr>\n",
       "      <th>4</th>\n",
       "      <td>0.0</td>\n",
       "      <td>0.113568</td>\n",
       "      <td>0.689655</td>\n",
       "    </tr>\n",
       "  </tbody>\n",
       "</table>\n",
       "</div>"
      ],
      "text/plain": [
       "   n_filhos   salario     idade\n",
       "0       0.0  0.000000  0.206897\n",
       "1       0.2  0.028141  0.413793\n",
       "2       0.4  0.062814  0.551724\n",
       "3       0.0  0.086935  0.000000\n",
       "4       0.0  0.113568  0.689655"
      ]
     },
     "execution_count": 34,
     "metadata": {},
     "output_type": "execute_result"
    }
   ],
   "source": [
    "# Step 4: Range Standardization (Min-Max Scaling)\n",
    "scaler = MinMaxScaler()\n",
    "df_range = pd.DataFrame(scaler.fit_transform(df[['n_filhos', 'salario', 'idade']]), columns=['n_filhos', 'salario', 'idade'])\n",
    "\n",
    "# Display the scaled data\n",
    "df_range.head()\n"
   ]
  },
  {
   "cell_type": "markdown",
   "metadata": {},
   "source": [
    "##### `👇 This cell calculates and displays the statistics (mean, standard deviation, min, and max) for the columns n_filhos, salario, and idade after applying Range standardization (Min-Max scaling).`"
   ]
  },
  {
   "cell_type": "code",
   "execution_count": 36,
   "metadata": {},
   "outputs": [
    {
     "data": {
      "text/plain": [
       "{'mean_n_filhos_range': np.float64(0.18826291079812207),\n",
       " 'std_n_filhos_range': np.float64(0.24876785565942736),\n",
       " 'min_n_filhos_range': np.float64(0.0),\n",
       " 'max_n_filhos_range': np.float64(1.0),\n",
       " 'mean_salario_range': np.float64(0.3558119234671008),\n",
       " 'std_salario_range': np.float64(0.2118587470210696),\n",
       " 'min_salario_range': np.float64(0.0),\n",
       " 'max_salario_range': np.float64(1.0),\n",
       " 'mean_idade_range': np.float64(0.5042091630241217),\n",
       " 'std_idade_range': np.float64(0.22062722609745952),\n",
       " 'min_idade_range': np.float64(0.0),\n",
       " 'max_idade_range': np.float64(1.0)}"
      ]
     },
     "execution_count": 36,
     "metadata": {},
     "output_type": "execute_result"
    }
   ],
   "source": [
    "# Step 5: Evaluate the mean, std, max, and min after Range standardization\n",
    "after_range_stats = {\n",
    "    'mean_n_filhos_range': df_range['n_filhos'].mean(),\n",
    "    'std_n_filhos_range': df_range['n_filhos'].std(),\n",
    "    'min_n_filhos_range': df_range['n_filhos'].min(),\n",
    "    'max_n_filhos_range': df_range['n_filhos'].max(),\n",
    "    \n",
    "    'mean_salario_range': df_range['salario'].mean(),\n",
    "    'std_salario_range': df_range['salario'].std(),\n",
    "    'min_salario_range': df_range['salario'].min(),\n",
    "    'max_salario_range': df_range['salario'].max(),\n",
    "    \n",
    "    'mean_idade_range': df_range['idade'].mean(),\n",
    "    'std_idade_range': df_range['idade'].std(),\n",
    "    'min_idade_range': df_range['idade'].min(),\n",
    "    'max_idade_range': df_range['idade'].max(),\n",
    "}\n",
    "\n",
    "# Display the statistics after Range standardization\n",
    "after_range_stats\n"
   ]
  }
 ],
 "metadata": {
  "kernelspec": {
   "display_name": "Python 3",
   "language": "python",
   "name": "python3"
  },
  "language_info": {
   "codemirror_mode": {
    "name": "ipython",
    "version": 3
   },
   "file_extension": ".py",
   "mimetype": "text/x-python",
   "name": "python",
   "nbconvert_exporter": "python",
   "pygments_lexer": "ipython3",
   "version": "3.9.6"
  }
 },
 "nbformat": 4,
 "nbformat_minor": 2
}
