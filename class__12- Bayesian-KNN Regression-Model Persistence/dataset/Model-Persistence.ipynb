{
 "cells": [
  {
   "cell_type": "code",
   "execution_count": 1,
   "id": "748a04a0-4ab7-411a-a760-1a370fc42e35",
   "metadata": {},
   "outputs": [],
   "source": [
    "from joblib import load\n",
    "\n",
    "# Carregar o modelo salvo\n",
    "knn_model = load('knn_model.joblib')\n"
   ]
  },
  {
   "cell_type": "code",
   "execution_count": 2,
   "id": "9873c697-8d2c-4a26-8861-b0f67ee6a36d",
   "metadata": {},
   "outputs": [],
   "source": [
    "\n",
    "import pandas as pd"
   ]
  },
  {
   "cell_type": "code",
   "execution_count": 3,
   "id": "19f40594-c1f5-4864-a397-2392ee0c0a31",
   "metadata": {},
   "outputs": [
    {
     "data": {
      "text/html": [
       "<div>\n",
       "<style scoped>\n",
       "    .dataframe tbody tr th:only-of-type {\n",
       "        vertical-align: middle;\n",
       "    }\n",
       "\n",
       "    .dataframe tbody tr th {\n",
       "        vertical-align: top;\n",
       "    }\n",
       "\n",
       "    .dataframe thead th {\n",
       "        text-align: right;\n",
       "    }\n",
       "</style>\n",
       "<table border=\"1\" class=\"dataframe\">\n",
       "  <thead>\n",
       "    <tr style=\"text-align: right;\">\n",
       "      <th></th>\n",
       "      <th>mpg</th>\n",
       "      <th>cylinders</th>\n",
       "      <th>displacement</th>\n",
       "      <th>horsepower</th>\n",
       "      <th>weight</th>\n",
       "      <th>acceleration</th>\n",
       "      <th>year</th>\n",
       "      <th>origin</th>\n",
       "      <th>name</th>\n",
       "    </tr>\n",
       "  </thead>\n",
       "  <tbody>\n",
       "    <tr>\n",
       "      <th>0</th>\n",
       "      <td>18.0</td>\n",
       "      <td>8</td>\n",
       "      <td>307.0</td>\n",
       "      <td>130</td>\n",
       "      <td>3504</td>\n",
       "      <td>12.0</td>\n",
       "      <td>70</td>\n",
       "      <td>1</td>\n",
       "      <td>chevrolet chevelle malibu</td>\n",
       "    </tr>\n",
       "    <tr>\n",
       "      <th>1</th>\n",
       "      <td>15.0</td>\n",
       "      <td>8</td>\n",
       "      <td>350.0</td>\n",
       "      <td>165</td>\n",
       "      <td>3693</td>\n",
       "      <td>11.5</td>\n",
       "      <td>70</td>\n",
       "      <td>1</td>\n",
       "      <td>buick skylark 320</td>\n",
       "    </tr>\n",
       "    <tr>\n",
       "      <th>2</th>\n",
       "      <td>18.0</td>\n",
       "      <td>8</td>\n",
       "      <td>318.0</td>\n",
       "      <td>150</td>\n",
       "      <td>3436</td>\n",
       "      <td>11.0</td>\n",
       "      <td>70</td>\n",
       "      <td>1</td>\n",
       "      <td>plymouth satellite</td>\n",
       "    </tr>\n",
       "    <tr>\n",
       "      <th>3</th>\n",
       "      <td>16.0</td>\n",
       "      <td>8</td>\n",
       "      <td>304.0</td>\n",
       "      <td>150</td>\n",
       "      <td>3433</td>\n",
       "      <td>12.0</td>\n",
       "      <td>70</td>\n",
       "      <td>1</td>\n",
       "      <td>amc rebel sst</td>\n",
       "    </tr>\n",
       "    <tr>\n",
       "      <th>4</th>\n",
       "      <td>17.0</td>\n",
       "      <td>8</td>\n",
       "      <td>302.0</td>\n",
       "      <td>140</td>\n",
       "      <td>3449</td>\n",
       "      <td>10.5</td>\n",
       "      <td>70</td>\n",
       "      <td>1</td>\n",
       "      <td>ford torino</td>\n",
       "    </tr>\n",
       "  </tbody>\n",
       "</table>\n",
       "</div>"
      ],
      "text/plain": [
       "    mpg  cylinders  displacement  horsepower  weight  acceleration  year  \\\n",
       "0  18.0          8         307.0         130    3504          12.0    70   \n",
       "1  15.0          8         350.0         165    3693          11.5    70   \n",
       "2  18.0          8         318.0         150    3436          11.0    70   \n",
       "3  16.0          8         304.0         150    3433          12.0    70   \n",
       "4  17.0          8         302.0         140    3449          10.5    70   \n",
       "\n",
       "   origin                       name  \n",
       "0       1  chevrolet chevelle malibu  \n",
       "1       1          buick skylark 320  \n",
       "2       1         plymouth satellite  \n",
       "3       1              amc rebel sst  \n",
       "4       1                ford torino  "
      ]
     },
     "execution_count": 3,
     "metadata": {},
     "output_type": "execute_result"
    }
   ],
   "source": [
    "dados = pd.read_excel('C:/_Academico/PUC/202401/PROJETO INTEGRADO NEGÓCIOS/Consumo.xlsx')\n",
    "#Exibe as cinco primeiras linhas\n",
    "dados.head()"
   ]
  },
  {
   "cell_type": "code",
   "execution_count": 4,
   "id": "6a551e02-59e8-4c55-9e1f-c2df8b574cff",
   "metadata": {},
   "outputs": [],
   "source": [
    "#Normalizando os dados - não é obrigatório mas é uma boa prática\n",
    "from sklearn.preprocessing import StandardScaler\n",
    "normalizador = StandardScaler()\n",
    "\n",
    "dados[['cylinders', 'displacement', 'horsepower','weight', 'acceleration', 'year', \\\n",
    "     'origin']] = normalizador.fit_transform(dados[['cylinders','displacement','horsepower',\\\n",
    "                                                  'weight','acceleration','year', 'origin']])"
   ]
  },
  {
   "cell_type": "code",
   "execution_count": 5,
   "id": "61305cf7-71f4-406e-8cac-517f604da293",
   "metadata": {},
   "outputs": [],
   "source": [
    "# Definir as variáveis independentes (X) e a variável dependente (y)\n",
    "X = dados[['cylinders', 'displacement', 'horsepower', 'weight', 'acceleration', 'year', 'origin']]\n",
    "y = dados['mpg']"
   ]
  },
  {
   "cell_type": "code",
   "execution_count": 7,
   "id": "934b3095-5641-4b74-a98e-56fbdabc18ce",
   "metadata": {},
   "outputs": [],
   "source": [
    "\n",
    "# Usando o modelo carregado\n",
    "predictions = knn_model.predict(X)"
   ]
  },
  {
   "cell_type": "code",
   "execution_count": 8,
   "id": "c20c5f9e-fdd3-456e-8188-ab80c247e063",
   "metadata": {},
   "outputs": [
    {
     "name": "stdout",
     "output_type": "stream",
     "text": [
      "[16.75  15.5   16.75  16.75  16.75  13.25  14.5   14.5   13.25  14.5\n",
      " 14.75  15.25  14.75  14.    25.25  19.5   19.5   20.75  25.25  26.5\n",
      " 27.    25.5   27.    25.5   19.5   11.5   10.5   11.5   11.    25.25\n",
      " 23.    23.25  19.    18.    18.    18.    18.    13.75  13.25  14.25\n",
      " 14.5   12.75  13.25  12.75  18.25  21.25  18.    18.    23.5   25.5\n",
      " 27.    26.5   32.25  31.    28.5   24.    24.75  22.    26.5   20.75\n",
      " 23.5   13.5   13.5   14.25  13.75  15.25  12.5   13.    13.    13.25\n",
      " 23.25  15.25  14.75  14.    14.25  20.25  27.75  23.5   27.75  23.5\n",
      " 24.25  24.5   23.5   25.75  13.    15.25  14.25  14.5   14.25  12.\n",
      " 13.    13.    14.5   13.25  13.25  12.75  19.5   16.75  19.5   18.25\n",
      " 19.5   26.5   12.25  12.25  12.5   13.    19.5   27.75  21.75  25.75\n",
      " 23.25  21.75  19.    24.75  13.75  13.75  29.75  27.5   23.25  20.75\n",
      " 15.25  21.75  22.75  13.25  19.75  19.5   17.    29.    24.    31.5\n",
      " 24.25  16.75  15.75  16.75  14.5   13.5   14.75  14.25  15.    27.25\n",
      " 27.25  24.25  32.25  32.    26.5   27.25  24.25  23.75  24.    27.25\n",
      " 19.5   17.375 16.5   16.375 15.125 14.75  14.25  14.375 16.5   17.25\n",
      " 16.875 17.25  21.    15.425 15.025 30.375 24.25  20.    22.5   25.375\n",
      " 28.    24.    21.    28.125 18.875 23.25  23.25  22.5   23.125 32.25\n",
      " 25.75  27.25  25.125 25.625 28.625 15.5   15.25  15.25  14.125 20.75\n",
      " 20.75  20.325 20.25  31.625 31.625 29.5   32.875 18.875 16.625 18.625\n",
      " 19.25  28.75  32.125 31.25  28.1   21.325 14.875 25.4   23.    18.\n",
      " 15.875 14.125 14.125 14.375 33.675 29.975 33.775 28.5   31.25  17.525\n",
      " 17.75  16.625 15.25  19.275 19.375 20.    18.825 15.875 15.625 15.875\n",
      " 16.25  29.5   25.85  34.1   25.85  30.    29.75  31.25  29.5   23.9\n",
      " 22.875 24.175 41.7   34.3   33.875 33.875 31.775 16.45  19.1   19.1\n",
      " 18.825 20.25  20.9   25.85  20.15  20.5   20.05  20.325 18.825 19.425\n",
      " 19.1   19.125 17.625 16.975 32.125 28.9   28.9   32.775 28.9   24.6\n",
      " 23.925 28.9   22.825 18.825 22.825 18.825 30.725 32.55  20.2   20.325\n",
      " 25.125 19.9   20.8   17.075 18.425 17.    17.05  16.125 17.    16.45\n",
      " 17.475 33.675 37.025 34.3   30.25  30.15  21.2   29.9   21.375 33.825\n",
      " 33.3   37.525 33.675 25.475 25.7   22.95  29.3   35.175 36.925 33.925\n",
      " 35.6   26.325 24.875 27.175 19.9   34.65  32.975 36.025 32.975 34.25\n",
      " 37.6   28.3   36.925 40.175 39.5   30.15  29.975 37.6   37.7   34.375\n",
      " 24.825 28.775 35.075 33.675 28.45  27.7   26.725 25.425 32.875 37.275\n",
      " 35.375 35.85  37.6   38.225 36.9   35.575 34.8   35.375 28.975 35.175\n",
      " 34.975 32.5   32.925 32.45  29.975 30.15  28.575 28.575 22.375 20.9\n",
      " 25.75  24.925 30.    30.    29.    28.45  28.45  27.25  27.15  34.65\n",
      " 34.5   34.5   34.8   35.85  36.175 34.925 33.75  34.925 34.775 34.775\n",
      " 26.4   24.925 27.    23.1   32.925 31.    26.15  27.8   39.5   32.875\n",
      " 30.    28.25 ]\n"
     ]
    }
   ],
   "source": [
    "print (predictions)"
   ]
  },
  {
   "cell_type": "code",
   "execution_count": null,
   "id": "de5260ca-9565-4f4a-8783-c0d3aa46e22d",
   "metadata": {},
   "outputs": [],
   "source": []
  }
 ],
 "metadata": {
  "kernelspec": {
   "display_name": "Python 3 (ipykernel)",
   "language": "python",
   "name": "python3"
  },
  "language_info": {
   "codemirror_mode": {
    "name": "ipython",
    "version": 3
   },
   "file_extension": ".py",
   "mimetype": "text/x-python",
   "name": "python",
   "nbconvert_exporter": "python",
   "pygments_lexer": "ipython3",
   "version": "3.8.18"
  }
 },
 "nbformat": 4,
 "nbformat_minor": 5
}
