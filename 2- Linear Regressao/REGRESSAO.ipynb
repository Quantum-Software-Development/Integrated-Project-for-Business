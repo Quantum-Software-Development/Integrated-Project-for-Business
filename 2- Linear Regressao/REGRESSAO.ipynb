{
  "cells": [
    {
      "cell_type": "code",
      "execution_count": 4,
      "id": "4e37740d",
      "metadata": {
        "id": "4e37740d"
      },
      "outputs": [
        {
          "name": "stdout",
          "output_type": "stream",
          "text": [
            "Defaulting to user installation because normal site-packages is not writeable\n",
            "Requirement already satisfied: stepwise-regression in /Users/fabicampanari/Library/Python/3.9/lib/python/site-packages (1.0.3)\n",
            "Requirement already satisfied: pandas in /Users/fabicampanari/Library/Python/3.9/lib/python/site-packages (from stepwise-regression) (2.2.3)\n",
            "Requirement already satisfied: statsmodels in /Users/fabicampanari/Library/Python/3.9/lib/python/site-packages (from stepwise-regression) (0.14.4)\n",
            "Requirement already satisfied: tzdata>=2022.7 in /Users/fabicampanari/Library/Python/3.9/lib/python/site-packages (from pandas->stepwise-regression) (2025.1)\n",
            "Requirement already satisfied: pytz>=2020.1 in /Users/fabicampanari/Library/Python/3.9/lib/python/site-packages (from pandas->stepwise-regression) (2025.1)\n",
            "Requirement already satisfied: numpy>=1.22.4 in /Users/fabicampanari/Library/Python/3.9/lib/python/site-packages (from pandas->stepwise-regression) (2.0.2)\n",
            "Requirement already satisfied: python-dateutil>=2.8.2 in /Users/fabicampanari/Library/Python/3.9/lib/python/site-packages (from pandas->stepwise-regression) (2.9.0.post0)\n",
            "Requirement already satisfied: six>=1.5 in /Library/Developer/CommandLineTools/Library/Frameworks/Python3.framework/Versions/3.9/lib/python3.9/site-packages (from python-dateutil>=2.8.2->pandas->stepwise-regression) (1.15.0)\n",
            "Requirement already satisfied: packaging>=21.3 in /Users/fabicampanari/Library/Python/3.9/lib/python/site-packages (from statsmodels->stepwise-regression) (24.1)\n",
            "Requirement already satisfied: patsy>=0.5.6 in /Users/fabicampanari/Library/Python/3.9/lib/python/site-packages (from statsmodels->stepwise-regression) (1.0.1)\n",
            "Requirement already satisfied: scipy!=1.9.2,>=1.8 in /Users/fabicampanari/Library/Python/3.9/lib/python/site-packages (from statsmodels->stepwise-regression) (1.13.1)\n",
            "\u001b[33mWARNING: You are using pip version 21.2.4; however, version 25.0.1 is available.\n",
            "You should consider upgrading via the '/Library/Developer/CommandLineTools/usr/bin/python3 -m pip install --upgrade pip' command.\u001b[0m\n",
            "Note: you may need to restart the kernel to use updated packages.\n"
          ]
        }
      ],
      "source": [
        "%pip install stepwise-regression\n",
        "\n",
        "\n",
        "# importa biblioteca pandas\n",
        "import pandas as pd\n",
        "\n",
        "# importa biblioteca scipy\n",
        "import scipy.stats as stats\n",
        "\n",
        "# local do arquivo\n",
        "Caminho='/Users/fabicampanari/Desktop/Integrated Project for Business/Tarefa/2-Regressao Linear /Vendas.xlsx'"
      ]
    },
    {
      "cell_type": "code",
      "execution_count": 5,
      "id": "d016b3dd",
      "metadata": {
        "id": "d016b3dd"
      },
      "outputs": [],
      "source": [
        "#Traz o arquivo para o Python\n",
        "df=pd.read_excel(Caminho)\n"
      ]
    },
    {
      "cell_type": "code",
      "execution_count": 6,
      "id": "91049223",
      "metadata": {
        "id": "91049223"
      },
      "outputs": [
        {
          "data": {
            "application/vnd.microsoft.datawrangler.viewer.v0+json": {
              "columns": [
                {
                  "name": "index",
                  "rawType": "int64",
                  "type": "integer"
                },
                {
                  "name": "Vendas",
                  "rawType": "int64",
                  "type": "integer"
                },
                {
                  "name": "GJornal",
                  "rawType": "int64",
                  "type": "integer"
                },
                {
                  "name": "GTV",
                  "rawType": "int64",
                  "type": "integer"
                },
                {
                  "name": "GMalaDireta",
                  "rawType": "int64",
                  "type": "integer"
                }
              ],
              "conversionMethod": "pd.DataFrame",
              "ref": "22508878-a556-4fb4-b082-162c6ee8f343",
              "rows": [
                [
                  "0",
                  "6",
                  "1",
                  "3",
                  "4"
                ],
                [
                  "1",
                  "7",
                  "2",
                  "4",
                  "4"
                ],
                [
                  "2",
                  "15",
                  "3",
                  "8",
                  "16"
                ],
                [
                  "3",
                  "18",
                  "5",
                  "8",
                  "8"
                ],
                [
                  "4",
                  "20",
                  "8",
                  "10",
                  "30"
                ]
              ],
              "shape": {
                "columns": 4,
                "rows": 5
              }
            },
            "text/html": [
              "<div>\n",
              "<style scoped>\n",
              "    .dataframe tbody tr th:only-of-type {\n",
              "        vertical-align: middle;\n",
              "    }\n",
              "\n",
              "    .dataframe tbody tr th {\n",
              "        vertical-align: top;\n",
              "    }\n",
              "\n",
              "    .dataframe thead th {\n",
              "        text-align: right;\n",
              "    }\n",
              "</style>\n",
              "<table border=\"1\" class=\"dataframe\">\n",
              "  <thead>\n",
              "    <tr style=\"text-align: right;\">\n",
              "      <th></th>\n",
              "      <th>Vendas</th>\n",
              "      <th>GJornal</th>\n",
              "      <th>GTV</th>\n",
              "      <th>GMalaDireta</th>\n",
              "    </tr>\n",
              "  </thead>\n",
              "  <tbody>\n",
              "    <tr>\n",
              "      <th>0</th>\n",
              "      <td>6</td>\n",
              "      <td>1</td>\n",
              "      <td>3</td>\n",
              "      <td>4</td>\n",
              "    </tr>\n",
              "    <tr>\n",
              "      <th>1</th>\n",
              "      <td>7</td>\n",
              "      <td>2</td>\n",
              "      <td>4</td>\n",
              "      <td>4</td>\n",
              "    </tr>\n",
              "    <tr>\n",
              "      <th>2</th>\n",
              "      <td>15</td>\n",
              "      <td>3</td>\n",
              "      <td>8</td>\n",
              "      <td>16</td>\n",
              "    </tr>\n",
              "    <tr>\n",
              "      <th>3</th>\n",
              "      <td>18</td>\n",
              "      <td>5</td>\n",
              "      <td>8</td>\n",
              "      <td>8</td>\n",
              "    </tr>\n",
              "    <tr>\n",
              "      <th>4</th>\n",
              "      <td>20</td>\n",
              "      <td>8</td>\n",
              "      <td>10</td>\n",
              "      <td>30</td>\n",
              "    </tr>\n",
              "  </tbody>\n",
              "</table>\n",
              "</div>"
            ],
            "text/plain": [
              "   Vendas  GJornal  GTV  GMalaDireta\n",
              "0       6        1    3            4\n",
              "1       7        2    4            4\n",
              "2      15        3    8           16\n",
              "3      18        5    8            8\n",
              "4      20        8   10           30"
            ]
          },
          "execution_count": 6,
          "metadata": {},
          "output_type": "execute_result"
        }
      ],
      "source": [
        "#Mostra as cinco primeiras linhas\n",
        "df.head( )\n"
      ]
    },
    {
      "cell_type": "code",
      "execution_count": 7,
      "id": "2d504283",
      "metadata": {
        "id": "2d504283",
        "scrolled": true
      },
      "outputs": [
        {
          "data": {
            "application/vnd.microsoft.datawrangler.viewer.v0+json": {
              "columns": [
                {
                  "name": "index",
                  "rawType": "object",
                  "type": "string"
                },
                {
                  "name": "Vendas",
                  "rawType": "float64",
                  "type": "float"
                },
                {
                  "name": "GJornal",
                  "rawType": "float64",
                  "type": "float"
                },
                {
                  "name": "GTV",
                  "rawType": "float64",
                  "type": "float"
                },
                {
                  "name": "GMalaDireta",
                  "rawType": "float64",
                  "type": "float"
                }
              ],
              "conversionMethod": "pd.DataFrame",
              "ref": "a7ab02b2-c399-4f57-a92c-6b2904e1daaa",
              "rows": [
                [
                  "Vendas",
                  "1.0",
                  "0.879931557872036",
                  "0.7697793192264529",
                  "0.42427935440972225"
                ],
                [
                  "GJornal",
                  "0.879931557872036",
                  "1.0",
                  "0.681863273563805",
                  "0.5133923118928935"
                ],
                [
                  "GTV",
                  "0.7697793192264529",
                  "0.681863273563805",
                  "1.0",
                  "0.5454068849943409"
                ],
                [
                  "GMalaDireta",
                  "0.42427935440972225",
                  "0.5133923118928935",
                  "0.5454068849943409",
                  "1.0"
                ]
              ],
              "shape": {
                "columns": 4,
                "rows": 4
              }
            },
            "text/html": [
              "<div>\n",
              "<style scoped>\n",
              "    .dataframe tbody tr th:only-of-type {\n",
              "        vertical-align: middle;\n",
              "    }\n",
              "\n",
              "    .dataframe tbody tr th {\n",
              "        vertical-align: top;\n",
              "    }\n",
              "\n",
              "    .dataframe thead th {\n",
              "        text-align: right;\n",
              "    }\n",
              "</style>\n",
              "<table border=\"1\" class=\"dataframe\">\n",
              "  <thead>\n",
              "    <tr style=\"text-align: right;\">\n",
              "      <th></th>\n",
              "      <th>Vendas</th>\n",
              "      <th>GJornal</th>\n",
              "      <th>GTV</th>\n",
              "      <th>GMalaDireta</th>\n",
              "    </tr>\n",
              "  </thead>\n",
              "  <tbody>\n",
              "    <tr>\n",
              "      <th>Vendas</th>\n",
              "      <td>1.000000</td>\n",
              "      <td>0.879932</td>\n",
              "      <td>0.769779</td>\n",
              "      <td>0.424279</td>\n",
              "    </tr>\n",
              "    <tr>\n",
              "      <th>GJornal</th>\n",
              "      <td>0.879932</td>\n",
              "      <td>1.000000</td>\n",
              "      <td>0.681863</td>\n",
              "      <td>0.513392</td>\n",
              "    </tr>\n",
              "    <tr>\n",
              "      <th>GTV</th>\n",
              "      <td>0.769779</td>\n",
              "      <td>0.681863</td>\n",
              "      <td>1.000000</td>\n",
              "      <td>0.545407</td>\n",
              "    </tr>\n",
              "    <tr>\n",
              "      <th>GMalaDireta</th>\n",
              "      <td>0.424279</td>\n",
              "      <td>0.513392</td>\n",
              "      <td>0.545407</td>\n",
              "      <td>1.000000</td>\n",
              "    </tr>\n",
              "  </tbody>\n",
              "</table>\n",
              "</div>"
            ],
            "text/plain": [
              "               Vendas   GJornal       GTV  GMalaDireta\n",
              "Vendas       1.000000  0.879932  0.769779     0.424279\n",
              "GJornal      0.879932  1.000000  0.681863     0.513392\n",
              "GTV          0.769779  0.681863  1.000000     0.545407\n",
              "GMalaDireta  0.424279  0.513392  0.545407     1.000000"
            ]
          },
          "execution_count": 7,
          "metadata": {},
          "output_type": "execute_result"
        }
      ],
      "source": [
        "#Gera tabela de correlações\n",
        "df.corr( )\n"
      ]
    },
    {
      "cell_type": "code",
      "execution_count": 8,
      "id": "b3095b0c",
      "metadata": {
        "id": "b3095b0c"
      },
      "outputs": [
        {
          "name": "stdout",
          "output_type": "stream",
          "text": [
            "                            OLS Regression Results                            \n",
            "==============================================================================\n",
            "Dep. Variable:                 Vendas   R-squared:                       0.840\n",
            "Model:                            OLS   Adj. R-squared:                  0.822\n",
            "Method:                 Least Squares   F-statistic:                     45.56\n",
            "Date:                Mon, 17 Mar 2025   Prob (F-statistic):           1.71e-10\n",
            "Time:                        08:19:48   Log-Likelihood:                -99.433\n",
            "No. Observations:                  30   AIC:                             206.9\n",
            "Df Residuals:                      26   BIC:                             212.5\n",
            "Df Model:                           3                                         \n",
            "Covariance Type:            nonrobust                                         \n",
            "===============================================================================\n",
            "                  coef    std err          t      P>|t|      [0.025      0.975]\n",
            "-------------------------------------------------------------------------------\n",
            "Intercept       9.3712      3.818      2.455      0.021       1.523      17.219\n",
            "GJornal         1.1398      0.180      6.347      0.000       0.771       1.509\n",
            "GTV             0.9705      0.299      3.249      0.003       0.356       1.584\n",
            "GMalaDireta    -0.2172      0.155     -1.399      0.174      -0.536       0.102\n",
            "==============================================================================\n",
            "Omnibus:                        0.281   Durbin-Watson:                   1.307\n",
            "Prob(Omnibus):                  0.869   Jarque-Bera (JB):                0.230\n",
            "Skew:                           0.187   Prob(JB):                        0.892\n",
            "Kurtosis:                       2.791   Cond. No.                         97.5\n",
            "==============================================================================\n",
            "\n",
            "Notes:\n",
            "[1] Standard Errors assume that the covariance matrix of the errors is correctly specified.\n"
          ]
        }
      ],
      "source": [
        "#Modelo de Regressão\n",
        "from statsmodels.formula.api import ols\n",
        "modelo=ols('Vendas ~ GJornal+GTV+GMalaDireta',data=df).fit()\n",
        "\n",
        "# Resumo do modelo\n",
        "print(modelo.summary())\n"
      ]
    },
    {
      "cell_type": "code",
      "execution_count": 9,
      "id": "9aacd294",
      "metadata": {
        "id": "9aacd294"
      },
      "outputs": [
        {
          "name": "stdout",
          "output_type": "stream",
          "text": [
            "                            OLS Regression Results                            \n",
            "==============================================================================\n",
            "Dep. Variable:                 Vendas   R-squared:                       0.828\n",
            "Model:                            OLS   Adj. R-squared:                  0.815\n",
            "Method:                 Least Squares   F-statistic:                     65.06\n",
            "Date:                Mon, 17 Mar 2025   Prob (F-statistic):           4.72e-11\n",
            "Time:                        08:19:52   Log-Likelihood:                -100.52\n",
            "No. Observations:                  30   AIC:                             207.0\n",
            "Df Residuals:                      27   BIC:                             211.2\n",
            "Df Model:                           2                                         \n",
            "Covariance Type:            nonrobust                                         \n",
            "==============================================================================\n",
            "                 coef    std err          t      P>|t|      [0.025      0.975]\n",
            "------------------------------------------------------------------------------\n",
            "Intercept      8.3837      3.818      2.196      0.037       0.550      16.218\n",
            "GJornal        1.0818      0.178      6.084      0.000       0.717       1.447\n",
            "GTV            0.8404      0.289      2.909      0.007       0.248       1.433\n",
            "==============================================================================\n",
            "Omnibus:                        3.230   Durbin-Watson:                   1.326\n",
            "Prob(Omnibus):                  0.199   Jarque-Bera (JB):                2.040\n",
            "Skew:                           0.617   Prob(JB):                        0.361\n",
            "Kurtosis:                       3.330   Cond. No.                         75.3\n",
            "==============================================================================\n",
            "\n",
            "Notes:\n",
            "[1] Standard Errors assume that the covariance matrix of the errors is correctly specified.\n"
          ]
        }
      ],
      "source": [
        "#Modelo de Regressão\n",
        "from statsmodels.formula.api import ols\n",
        "modelo=ols('Vendas ~ GJornal+GTV',data=df).fit()\n",
        "\n",
        "# Resumo do modelo\n",
        "print(modelo.summary())"
      ]
    },
    {
      "cell_type": "code",
      "execution_count": 10,
      "id": "eae3091b",
      "metadata": {
        "id": "eae3091b"
      },
      "outputs": [
        {
          "name": "stdout",
          "output_type": "stream",
          "text": [
            "Teste de Shapiro-Wilk para normalidade dos resíduos:\n",
            "Estatística de teste: 0.9592603266274653\n",
            "Valor-p: 0.2965409677546237\n"
          ]
        }
      ],
      "source": [
        "# Pegando os resíduos do modelo\n",
        "residuos = modelo.resid\n",
        "\n",
        "# Verificação de Distribuição Normal dos Resíduos\n",
        "# Teste de Shapiro-Wilk para normalidade dos resíduos\n",
        "\n",
        "from scipy.stats import shapiro\n",
        "stat, p_valor = shapiro(residuos)\n",
        "print('Teste de Shapiro-Wilk para normalidade dos resíduos:')\n",
        "print('Estatística de teste:', stat)\n",
        "print('Valor-p:', p_valor)\n"
      ]
    },
    {
      "cell_type": "code",
      "execution_count": 11,
      "id": "ccd6a20f",
      "metadata": {
        "id": "ccd6a20f"
      },
      "outputs": [],
      "source": [
        "#Stepwise\n",
        "from stepwise_regression import step_reg\n",
        "#cria dois conjuntos, o de variáveis independentes (x) e o outro com a variável resposta (y)\n",
        "x=df[['GJornal','GTV','GMalaDireta']]\n",
        "y=df['Vendas']"
      ]
    },
    {
      "cell_type": "code",
      "execution_count": 15,
      "id": "6efa4f10",
      "metadata": {
        "id": "6efa4f10"
      },
      "outputs": [
        {
          "data": {
            "text/plain": [
              "['GJornal', 'GTV']"
            ]
          },
          "execution_count": 15,
          "metadata": {},
          "output_type": "execute_result"
        }
      ],
      "source": [
        "#Seleciona as variáveis\n",
        "backselect = step_reg.backward_regression(x, y, 0.05)\n",
        "backselect"
      ]
    },
    {
      "cell_type": "code",
      "execution_count": 16,
      "id": "461b1782",
      "metadata": {
        "id": "461b1782"
      },
      "outputs": [
        {
          "name": "stdout",
          "output_type": "stream",
          "text": [
            "Previsão de Vendas: 112.31824963146101\n"
          ]
        }
      ],
      "source": [
        "# PRevisão de Vendas\n",
        "#Valores de exemplo para GJornal e GTV (substitua pelos seus próprios valores)\n",
        "novo_GJornal = 65\n",
        "novo_GTV = 40\n",
        "\n",
        "# Criando um DataFrame com os valores de exemplo\n",
        "novos_dados = pd.DataFrame({'GJornal': [novo_GJornal], 'GTV': [novo_GTV]})\n",
        "\n",
        "# Usando o modelo para fazer previsões\n",
        "previsao_vendas = modelo.predict(novos_dados)\n",
        "\n",
        "# Imprimindo a previsão de vendas\n",
        "print(\"Previsão de Vendas:\", previsao_vendas[0])"
      ]
    },
    {
      "cell_type": "code",
      "execution_count": null,
      "id": "4d8541bf",
      "metadata": {
        "id": "4d8541bf"
      },
      "outputs": [],
      "source": [
        "\n"
      ]
    }
  ],
  "metadata": {
    "colab": {
      "provenance": []
    },
    "kernelspec": {
      "display_name": "Python 3",
      "language": "python",
      "name": "python3"
    },
    "language_info": {
      "codemirror_mode": {
        "name": "ipython",
        "version": 3
      },
      "file_extension": ".py",
      "mimetype": "text/x-python",
      "name": "python",
      "nbconvert_exporter": "python",
      "pygments_lexer": "ipython3",
      "version": "3.9.6"
    }
  },
  "nbformat": 4,
  "nbformat_minor": 5
}
